{
  "cells": [
    {
      "cell_type": "markdown",
      "metadata": {
        "id": "view-in-github",
        "colab_type": "text"
      },
      "source": [
        "<a href=\"https://colab.research.google.com/github/Amey-CK/python_projects/blob/main/Copy_of_Numpy_tasks.ipynb\" target=\"_parent\"><img src=\"https://colab.research.google.com/assets/colab-badge.svg\" alt=\"Open In Colab\"/></a>"
      ]
    },
    {
      "cell_type": "markdown",
      "metadata": {
        "id": "pcoQhP6vPFMA"
      },
      "source": [
        "# Numpy\n",
        "\n"
      ]
    },
    {
      "cell_type": "markdown",
      "metadata": {
        "id": "C9m9ZqibPFMG"
      },
      "source": [
        "#### 1. Import the numpy package under the name `np` (★☆☆) \n",
        "(**hint**: import … as …)"
      ]
    },
    {
      "cell_type": "code",
      "execution_count": 1,
      "metadata": {
        "collapsed": true,
        "id": "YenOkcMXPFMH"
      },
      "outputs": [],
      "source": [
        "import numpy as np"
      ]
    },
    {
      "cell_type": "markdown",
      "metadata": {
        "id": "qPk43GgaPFMH"
      },
      "source": [
        "#### 2. Print the numpy version and the configuration (★☆☆) \n",
        "(**hint**: np.\\_\\_version\\_\\_, np.show\\_config)"
      ]
    },
    {
      "cell_type": "code",
      "execution_count": null,
      "metadata": {
        "id": "Yk9AVq23PFMI",
        "colab": {
          "base_uri": "https://localhost:8080/"
        },
        "outputId": "945f7a49-e626-42cf-b12a-d11bcd9ffae7"
      },
      "outputs": [
        {
          "output_type": "stream",
          "name": "stdout",
          "text": [
            "1.21.6\n",
            "<function show at 0x7fe463e71440>\n"
          ]
        }
      ],
      "source": [
        "print(np.__version__)\n",
        "print(np.show_config)"
      ]
    },
    {
      "cell_type": "markdown",
      "metadata": {
        "id": "r4OWL5MNPFMI"
      },
      "source": [
        "#### 3. Create a null vector of size 10 (★☆☆) \n",
        "(**hint**: np.zeros)"
      ]
    },
    {
      "cell_type": "code",
      "execution_count": null,
      "metadata": {
        "id": "Ojmoy0yqPFMJ",
        "colab": {
          "base_uri": "https://localhost:8080/"
        },
        "outputId": "1a86bb64-75c3-45d3-f50f-86c8fd19fb49"
      },
      "outputs": [
        {
          "output_type": "execute_result",
          "data": {
            "text/plain": [
              "array([0., 0., 0., 0., 0., 0., 0., 0., 0., 0.])"
            ]
          },
          "metadata": {},
          "execution_count": 6
        }
      ],
      "source": [
        "np.zeros(10)"
      ]
    },
    {
      "cell_type": "markdown",
      "metadata": {
        "id": "xHouxTI-PFMK"
      },
      "source": [
        "#### 4.  How to find the memory size of any array (★☆☆) \n",
        "(**hint**: size, itemsize)"
      ]
    },
    {
      "cell_type": "code",
      "execution_count": null,
      "metadata": {
        "id": "uIjeS9ypPFMK",
        "colab": {
          "base_uri": "https://localhost:8080/"
        },
        "outputId": "911230c9-b99a-420c-d578-4a11d916cf1c"
      },
      "outputs": [
        {
          "output_type": "execute_result",
          "data": {
            "text/plain": [
              "80"
            ]
          },
          "metadata": {},
          "execution_count": 7
        }
      ],
      "source": [
        "np.zeros(10).size*np.zeros(10).itemsize"
      ]
    },
    {
      "cell_type": "markdown",
      "metadata": {
        "id": "__nfXNCVPFML"
      },
      "source": [
        "#### 5.  How to get the documentation of the numpy add function from the command line? (★☆☆) \n",
        "(**hint**: np.info)"
      ]
    },
    {
      "cell_type": "code",
      "execution_count": null,
      "metadata": {
        "collapsed": true,
        "id": "vRS0lDOXPFMM",
        "colab": {
          "base_uri": "https://localhost:8080/"
        },
        "outputId": "c78e8f3f-8cc0-49f4-953a-416edfffece9"
      },
      "outputs": [
        {
          "output_type": "stream",
          "name": "stdout",
          "text": [
            "add(x1, x2, /, out=None, *, where=True, casting='same_kind', order='K', dtype=None, subok=True[, signature, extobj])\n",
            "\n",
            "Add arguments element-wise.\n",
            "\n",
            "Parameters\n",
            "----------\n",
            "x1, x2 : array_like\n",
            "    The arrays to be added.\n",
            "    If ``x1.shape != x2.shape``, they must be broadcastable to a common\n",
            "    shape (which becomes the shape of the output).\n",
            "out : ndarray, None, or tuple of ndarray and None, optional\n",
            "    A location into which the result is stored. If provided, it must have\n",
            "    a shape that the inputs broadcast to. If not provided or None,\n",
            "    a freshly-allocated array is returned. A tuple (possible only as a\n",
            "    keyword argument) must have length equal to the number of outputs.\n",
            "where : array_like, optional\n",
            "    This condition is broadcast over the input. At locations where the\n",
            "    condition is True, the `out` array will be set to the ufunc result.\n",
            "    Elsewhere, the `out` array will retain its original value.\n",
            "    Note that if an uninitialized `out` array is created via the default\n",
            "    ``out=None``, locations within it where the condition is False will\n",
            "    remain uninitialized.\n",
            "**kwargs\n",
            "    For other keyword-only arguments, see the\n",
            "    :ref:`ufunc docs <ufuncs.kwargs>`.\n",
            "\n",
            "Returns\n",
            "-------\n",
            "add : ndarray or scalar\n",
            "    The sum of `x1` and `x2`, element-wise.\n",
            "    This is a scalar if both `x1` and `x2` are scalars.\n",
            "\n",
            "Notes\n",
            "-----\n",
            "Equivalent to `x1` + `x2` in terms of array broadcasting.\n",
            "\n",
            "Examples\n",
            "--------\n",
            ">>> np.add(1.0, 4.0)\n",
            "5.0\n",
            ">>> x1 = np.arange(9.0).reshape((3, 3))\n",
            ">>> x2 = np.arange(3.0)\n",
            ">>> np.add(x1, x2)\n",
            "array([[  0.,   2.,   4.],\n",
            "       [  3.,   5.,   7.],\n",
            "       [  6.,   8.,  10.]])\n",
            "\n",
            "The ``+`` operator can be used as a shorthand for ``np.add`` on ndarrays.\n",
            "\n",
            ">>> x1 = np.arange(9.0).reshape((3, 3))\n",
            ">>> x2 = np.arange(3.0)\n",
            ">>> x1 + x2\n",
            "array([[ 0.,  2.,  4.],\n",
            "       [ 3.,  5.,  7.],\n",
            "       [ 6.,  8., 10.]])\n"
          ]
        }
      ],
      "source": [
        "np.info(np.add)"
      ]
    },
    {
      "cell_type": "markdown",
      "metadata": {
        "id": "x3iFqe3JPFMM"
      },
      "source": [
        "#### 6.  Create a null vector of size 10 but the fifth value which is 1 (★☆☆) \n",
        "(**hint**: array\\[4\\])"
      ]
    },
    {
      "cell_type": "code",
      "execution_count": null,
      "metadata": {
        "id": "_xrpesQzPFMM",
        "colab": {
          "base_uri": "https://localhost:8080/"
        },
        "outputId": "670699f4-eeee-4c97-f899-0d66fd486725"
      },
      "outputs": [
        {
          "output_type": "execute_result",
          "data": {
            "text/plain": [
              "array([0., 0., 0., 0., 1., 0., 0., 0., 0., 0.])"
            ]
          },
          "metadata": {},
          "execution_count": 9
        }
      ],
      "source": [
        "array=np.zeros(10)\n",
        "array[4]=1\n",
        "array"
      ]
    },
    {
      "cell_type": "markdown",
      "metadata": {
        "id": "YUfPBPsTPFMN"
      },
      "source": [
        "#### 7.  Create a vector with values ranging from 10 to 49 (★☆☆) \n",
        "(**hint**: np.arange)"
      ]
    },
    {
      "cell_type": "code",
      "execution_count": null,
      "metadata": {
        "id": "CQQ9dChaPFMN",
        "colab": {
          "base_uri": "https://localhost:8080/"
        },
        "outputId": "d4b0db80-fbe7-4650-d199-5962b106aa41"
      },
      "outputs": [
        {
          "output_type": "execute_result",
          "data": {
            "text/plain": [
              "array([10, 11, 12, 13, 14, 15, 16, 17, 18, 19, 20, 21, 22, 23, 24, 25, 26,\n",
              "       27, 28, 29, 30, 31, 32, 33, 34, 35, 36, 37, 38, 39, 40, 41, 42, 43,\n",
              "       44, 45, 46, 47, 48, 49])"
            ]
          },
          "metadata": {},
          "execution_count": 10
        }
      ],
      "source": [
        "v=np.arange(10,50)\n",
        "v"
      ]
    },
    {
      "cell_type": "markdown",
      "metadata": {
        "id": "mzoMn3GjPFMN"
      },
      "source": [
        "#### 8.  Reverse a vector (first element becomes last) (★☆☆) \n",
        "(**hint**: array\\[::-1\\])"
      ]
    },
    {
      "cell_type": "code",
      "execution_count": null,
      "metadata": {
        "id": "-P_ZeYXkPFMO",
        "colab": {
          "base_uri": "https://localhost:8080/"
        },
        "outputId": "c9cbd2ef-109e-460e-d829-4c549cc17315"
      },
      "outputs": [
        {
          "output_type": "execute_result",
          "data": {
            "text/plain": [
              "array([49, 48, 47, 46, 45, 44, 43, 42, 41, 40, 39, 38, 37, 36, 35, 34, 33,\n",
              "       32, 31, 30, 29, 28, 27, 26, 25, 24, 23, 22, 21, 20, 19, 18, 17, 16,\n",
              "       15, 14, 13, 12, 11, 10])"
            ]
          },
          "metadata": {},
          "execution_count": 11
        }
      ],
      "source": [
        "v[::-1]"
      ]
    },
    {
      "cell_type": "markdown",
      "source": [
        ""
      ],
      "metadata": {
        "id": "DMS5Btff02Sv"
      }
    },
    {
      "cell_type": "markdown",
      "metadata": {
        "id": "Rxa29PIYPFMO"
      },
      "source": [
        "#### 9.  Create a 3x3 matrix with values ranging from 0 to 8 (★☆☆) \n",
        "(**hint**: reshape)"
      ]
    },
    {
      "cell_type": "code",
      "execution_count": null,
      "metadata": {
        "id": "hbIpkicvPFMP",
        "colab": {
          "base_uri": "https://localhost:8080/"
        },
        "outputId": "94e73d68-da55-4651-c1c7-2c7f2b222c9b"
      },
      "outputs": [
        {
          "output_type": "execute_result",
          "data": {
            "text/plain": [
              "array([[0, 1, 2],\n",
              "       [3, 4, 5],\n",
              "       [6, 7, 8]])"
            ]
          },
          "metadata": {},
          "execution_count": 12
        }
      ],
      "source": [
        "array=np.arange(0,9).reshape(3,3)\n",
        "array"
      ]
    },
    {
      "cell_type": "markdown",
      "metadata": {
        "id": "sOc37JtPPFMP"
      },
      "source": [
        "#### 10. Find indices of non-zero elements from \\[1,2,0,0,4,0\\] (★☆☆) \n",
        "(**hint**: np.nonzero)"
      ]
    },
    {
      "cell_type": "code",
      "execution_count": null,
      "metadata": {
        "id": "CasmJSiDPFMP",
        "colab": {
          "base_uri": "https://localhost:8080/"
        },
        "outputId": "3e6ecc55-e384-4fee-94a9-cecd30dfea64"
      },
      "outputs": [
        {
          "output_type": "execute_result",
          "data": {
            "text/plain": [
              "(array([0, 1, 4]),)"
            ]
          },
          "metadata": {},
          "execution_count": 13
        }
      ],
      "source": [
        "array=[1,2,0,0,4,0]\n",
        "np.nonzero(array)"
      ]
    },
    {
      "cell_type": "markdown",
      "metadata": {
        "id": "3WVQbT73PFMQ"
      },
      "source": [
        "#### 11. Create a 3x3 identity matrix (★☆☆) \n",
        "(**hint**: np.eye)"
      ]
    },
    {
      "cell_type": "code",
      "execution_count": null,
      "metadata": {
        "id": "VZV7qjmXPFMQ",
        "colab": {
          "base_uri": "https://localhost:8080/"
        },
        "outputId": "0323e030-db40-4676-d1b9-874b491cb63e"
      },
      "outputs": [
        {
          "output_type": "execute_result",
          "data": {
            "text/plain": [
              "array([[1., 0., 0.],\n",
              "       [0., 1., 0.],\n",
              "       [0., 0., 1.]])"
            ]
          },
          "metadata": {},
          "execution_count": 14
        }
      ],
      "source": [
        "np.eye(3)"
      ]
    },
    {
      "cell_type": "markdown",
      "metadata": {
        "id": "TK6ws0cBPFMQ"
      },
      "source": [
        "#### 12. Create a 3x3x3 array with random values (★☆☆) \n",
        "(**hint**: np.random.random)"
      ]
    },
    {
      "cell_type": "code",
      "execution_count": null,
      "metadata": {
        "collapsed": true,
        "id": "W5dROA_cPFMQ",
        "colab": {
          "base_uri": "https://localhost:8080/"
        },
        "outputId": "275a247e-0d31-46fc-aa19-01ca92674150"
      },
      "outputs": [
        {
          "output_type": "execute_result",
          "data": {
            "text/plain": [
              "array([[[0.53585301, 0.31627316, 0.11406598],\n",
              "        [0.43119521, 0.72002669, 0.61920436],\n",
              "        [0.59100187, 0.70315724, 0.47238998]],\n",
              "\n",
              "       [[0.98995875, 0.51730918, 0.49252598],\n",
              "        [0.76028326, 0.83534146, 0.47080661],\n",
              "        [0.2275483 , 0.44673656, 0.10072846]],\n",
              "\n",
              "       [[0.36547171, 0.67582194, 0.49046628],\n",
              "        [0.64813759, 0.16193832, 0.22318087],\n",
              "        [0.26034023, 0.2570449 , 0.21449527]]])"
            ]
          },
          "metadata": {},
          "execution_count": 15
        }
      ],
      "source": [
        "array=np.random.random((3,3,3))\n",
        "array"
      ]
    },
    {
      "cell_type": "markdown",
      "metadata": {
        "id": "Ub4pcqUFPFMQ"
      },
      "source": [
        "#### 13. Create a 10x10 array with random values and find the minimum and maximum values (★☆☆) \n",
        "(**hint**: min, max)"
      ]
    },
    {
      "cell_type": "code",
      "execution_count": null,
      "metadata": {
        "id": "dju_-PH0PFMR",
        "colab": {
          "base_uri": "https://localhost:8080/"
        },
        "outputId": "7193bee2-f32e-4b83-cfc5-4efa10aa9643"
      },
      "outputs": [
        {
          "output_type": "stream",
          "name": "stdout",
          "text": [
            "0.0014392295649032771\n",
            "0.9958127765373606\n"
          ]
        }
      ],
      "source": [
        "a=np.random.random((10,10))\n",
        "print(np.min(a))\n",
        "print(np.max(a))"
      ]
    },
    {
      "cell_type": "markdown",
      "metadata": {
        "id": "ult_yIJ4PFMR"
      },
      "source": [
        "#### 14. Create a random vector of size 30 and find the mean value (★☆☆) \n",
        "(**hint**: mean)"
      ]
    },
    {
      "cell_type": "code",
      "execution_count": null,
      "metadata": {
        "id": "NS5Hfq-_PFMR",
        "colab": {
          "base_uri": "https://localhost:8080/"
        },
        "outputId": "7cf1b4a8-4ae9-4af3-89d2-fe497d6f46c7"
      },
      "outputs": [
        {
          "output_type": "execute_result",
          "data": {
            "text/plain": [
              "0.6174256963904386"
            ]
          },
          "metadata": {},
          "execution_count": 17
        }
      ],
      "source": [
        "np.mean(np.random.random((30)))"
      ]
    },
    {
      "cell_type": "markdown",
      "metadata": {
        "id": "5pjmZdiZPFMR"
      },
      "source": [
        "#### 15. Create a 2d array with 1 on the border and 0 inside (★☆☆) \n",
        "(**hint**: array\\[1:-1, 1:-1\\])"
      ]
    },
    {
      "cell_type": "code",
      "execution_count": null,
      "metadata": {
        "id": "Sw_E4Pb4PFMR",
        "colab": {
          "base_uri": "https://localhost:8080/"
        },
        "outputId": "227d15c4-dcca-4f3f-eb3d-b5ebb82ab232"
      },
      "outputs": [
        {
          "output_type": "execute_result",
          "data": {
            "text/plain": [
              "array([[1., 1., 1., 1., 1.],\n",
              "       [1., 0., 0., 0., 1.],\n",
              "       [1., 0., 0., 0., 1.],\n",
              "       [1., 0., 0., 0., 1.],\n",
              "       [1., 1., 1., 1., 1.]])"
            ]
          },
          "metadata": {},
          "execution_count": 18
        }
      ],
      "source": [
        "a=np.ones((5,5))\n",
        "a[1:-1,1:-1]=0\n",
        "a"
      ]
    },
    {
      "cell_type": "markdown",
      "metadata": {
        "id": "tpIROhYBPFMR"
      },
      "source": [
        "#### 16. How to add a border (filled with 0's) around an existing array? (★☆☆) \n",
        "(**hint**: np.pad)"
      ]
    },
    {
      "cell_type": "code",
      "execution_count": null,
      "metadata": {
        "id": "_DQbBaoMPFMS",
        "colab": {
          "base_uri": "https://localhost:8080/"
        },
        "outputId": "46fa1b94-1bf4-4a79-e95a-f64818860e91"
      },
      "outputs": [
        {
          "output_type": "execute_result",
          "data": {
            "text/plain": [
              "array([[0., 0., 0., 0., 0.],\n",
              "       [0., 1., 1., 1., 0.],\n",
              "       [0., 1., 1., 1., 0.],\n",
              "       [0., 1., 1., 1., 0.],\n",
              "       [0., 0., 0., 0., 0.]])"
            ]
          },
          "metadata": {},
          "execution_count": 19
        }
      ],
      "source": [
        "a=np.ones((3,3))\n",
        "a=np.pad(a,pad_width=1,mode='constant',constant_values=0)\n",
        "a"
      ]
    },
    {
      "cell_type": "markdown",
      "metadata": {
        "id": "2nUpHQefPFMS"
      },
      "source": [
        "#### 17. What is the result of the following expression? (★☆☆) \n",
        "(**hint**: NaN = not a number, inf = infinity)"
      ]
    },
    {
      "cell_type": "markdown",
      "metadata": {
        "id": "zopCdJtXPFMS"
      },
      "source": [
        "```python\n",
        "0 * np.nan\n",
        "np.nan == np.nan\n",
        "np.inf > np.nan\n",
        "np.nan - np.nan\n",
        "0.3 == 3 * 0.1\n",
        "```"
      ]
    },
    {
      "cell_type": "code",
      "execution_count": null,
      "metadata": {
        "id": "Ers6mZ9FPFMS",
        "colab": {
          "base_uri": "https://localhost:8080/"
        },
        "outputId": "9093edd3-844d-436c-c098-411f04fff5c2"
      },
      "outputs": [
        {
          "output_type": "stream",
          "name": "stdout",
          "text": [
            "nan\n",
            "False\n",
            "False\n",
            "nan\n",
            "False\n"
          ]
        }
      ],
      "source": [
        "print(0 * np.nan)\n",
        "print(np.nan == np.nan)\n",
        "print(np.inf > np.nan)\n",
        "print(np.nan - np.nan)\n",
        "print(0.3 == 3 * 0.1)"
      ]
    },
    {
      "cell_type": "markdown",
      "metadata": {
        "id": "lanat3h1PFMT"
      },
      "source": [
        "#### 18. Create a 5x5 matrix with values 1,2,3,4 just below the diagonal (★☆☆) \n",
        "(**hint**: np.diag)"
      ]
    },
    {
      "cell_type": "code",
      "execution_count": null,
      "metadata": {
        "id": "7fXP0VkoPFMT",
        "colab": {
          "base_uri": "https://localhost:8080/"
        },
        "outputId": "938ae508-0a72-4619-d669-472f7fa656ff"
      },
      "outputs": [
        {
          "output_type": "execute_result",
          "data": {
            "text/plain": [
              "array([[0, 0, 0, 0, 0],\n",
              "       [1, 0, 0, 0, 0],\n",
              "       [0, 2, 0, 0, 0],\n",
              "       [0, 0, 3, 0, 0],\n",
              "       [0, 0, 0, 4, 0]])"
            ]
          },
          "metadata": {},
          "execution_count": 21
        }
      ],
      "source": [
        "a=np.random.random((5,5))\n",
        "a=np.diag(np.arange(1,5),k=-1)\n",
        "a"
      ]
    },
    {
      "cell_type": "markdown",
      "metadata": {
        "id": "pl9WCRtkPFMT"
      },
      "source": [
        "#### 19. Create a 8x8 matrix and fill it with a checkerboard pattern (★☆☆) \n",
        "(**hint**: array\\[::2\\])"
      ]
    },
    {
      "cell_type": "code",
      "execution_count": null,
      "metadata": {
        "id": "yfL6HM8UPFMT",
        "colab": {
          "base_uri": "https://localhost:8080/"
        },
        "outputId": "356c1e6c-c77b-4fd6-a9b0-0417dc232751"
      },
      "outputs": [
        {
          "output_type": "execute_result",
          "data": {
            "text/plain": [
              "array([[0., 1., 0., 1., 0., 1., 0., 1.],\n",
              "       [1., 0., 1., 0., 1., 0., 1., 0.],\n",
              "       [0., 1., 0., 1., 0., 1., 0., 1.],\n",
              "       [1., 0., 1., 0., 1., 0., 1., 0.],\n",
              "       [0., 1., 0., 1., 0., 1., 0., 1.],\n",
              "       [1., 0., 1., 0., 1., 0., 1., 0.],\n",
              "       [0., 1., 0., 1., 0., 1., 0., 1.],\n",
              "       [1., 0., 1., 0., 1., 0., 1., 0.]])"
            ]
          },
          "metadata": {},
          "execution_count": 22
        }
      ],
      "source": [
        "a=np.ones((8,8))\n",
        "a[::2,::2]=0\n",
        "a[1::2,1::2]=0\n",
        "a"
      ]
    },
    {
      "cell_type": "markdown",
      "metadata": {
        "id": "kS1r8P0jPFMT"
      },
      "source": [
        "#### 20. Consider a (6,7,8) shape array, what is the index (x,y,z) of the 100th element? \n",
        "(**hint**: np.unravel_index)"
      ]
    },
    {
      "cell_type": "code",
      "execution_count": null,
      "metadata": {
        "id": "MpgeU98iPFMU",
        "colab": {
          "base_uri": "https://localhost:8080/"
        },
        "outputId": "d9508c7d-bb04-4cb0-fdfc-1578830aebeb"
      },
      "outputs": [
        {
          "output_type": "execute_result",
          "data": {
            "text/plain": [
              "(1, 5, 4)"
            ]
          },
          "metadata": {},
          "execution_count": 23
        }
      ],
      "source": [
        "a=np.random.random((6,7,8))\n",
        "np.unravel_index(100,(6,7,8))"
      ]
    },
    {
      "cell_type": "markdown",
      "metadata": {
        "id": "naiw4dYkPFMU"
      },
      "source": [
        "#### 21. Create a checkerboard 8x8 matrix using the tile function (★☆☆) \n",
        "(**hint**: np.tile)"
      ]
    },
    {
      "cell_type": "code",
      "execution_count": null,
      "metadata": {
        "id": "VOIPpo2TPFMU",
        "colab": {
          "base_uri": "https://localhost:8080/"
        },
        "outputId": "85382918-24cd-4b15-8458-980fe909c11f"
      },
      "outputs": [
        {
          "output_type": "stream",
          "name": "stdout",
          "text": [
            "[[1. 1. 1. 1. 1. 1. 1. 1.]\n",
            " [1. 1. 1. 1. 1. 1. 1. 1.]\n",
            " [1. 1. 1. 1. 1. 1. 1. 1.]\n",
            " [1. 1. 1. 1. 1. 1. 1. 1.]\n",
            " [1. 1. 1. 1. 1. 1. 1. 1.]\n",
            " [1. 1. 1. 1. 1. 1. 1. 1.]\n",
            " [1. 1. 1. 1. 1. 1. 1. 1.]\n",
            " [1. 1. 1. 1. 1. 1. 1. 1.]]\n"
          ]
        }
      ],
      "source": [
        "a=np.ones((8,8))\n",
        "print(np.tile(a,1))\n"
      ]
    },
    {
      "cell_type": "markdown",
      "metadata": {
        "id": "pWg38yDaPFMU"
      },
      "source": [
        "#### 22. Normalize a 5x5 random matrix (★☆☆) \n",
        "(**hint**: (x - min) / (max - min))"
      ]
    },
    {
      "cell_type": "code",
      "execution_count": null,
      "metadata": {
        "id": "jxKmDk2QPFMU",
        "colab": {
          "base_uri": "https://localhost:8080/"
        },
        "outputId": "b11c1c77-4c8a-4fc6-80f3-672d1fd98718"
      },
      "outputs": [
        {
          "output_type": "execute_result",
          "data": {
            "text/plain": [
              "array([[0.51823682, 0.22289847, 0.54009971, 0.95095373, 0.        ],\n",
              "       [0.8909111 , 0.43273549, 0.39339532, 0.46158139, 0.06815625],\n",
              "       [0.06232034, 0.99709726, 0.15795374, 0.05156604, 0.90579701],\n",
              "       [0.36680711, 0.35472137, 0.38653844, 0.20624866, 0.86914593],\n",
              "       [0.82026493, 0.03714177, 0.03519838, 0.85843227, 1.        ]])"
            ]
          },
          "metadata": {},
          "execution_count": 25
        }
      ],
      "source": [
        "a=np.random.random((5,5))\n",
        "a=(a-a.min())/(a.max()-a.min())\n",
        "a"
      ]
    },
    {
      "cell_type": "markdown",
      "metadata": {
        "id": "hvU65VSrPFMU"
      },
      "source": [
        "#### 23. Create a custom dtype that describes a color as four unsigned bytes (RGBA) (★☆☆) \n",
        "(**hint**: np.dtype)"
      ]
    },
    {
      "cell_type": "code",
      "execution_count": null,
      "metadata": {
        "collapsed": true,
        "id": "csnCTHHWPFMV",
        "colab": {
          "base_uri": "https://localhost:8080/"
        },
        "outputId": "cf81d8d1-d4a0-4769-d70f-85cb348b36ef"
      },
      "outputs": [
        {
          "output_type": "stream",
          "name": "stderr",
          "text": [
            "/usr/local/lib/python3.7/dist-packages/ipykernel_launcher.py:1: FutureWarning: Passing (type, 1) or '1type' as a synonym of type is deprecated; in a future version of numpy, it will be understood as (type, (1,)) / '(1,)type'.\n",
            "  \"\"\"Entry point for launching an IPython kernel.\n"
          ]
        },
        {
          "output_type": "execute_result",
          "data": {
            "text/plain": [
              "dtype([('R', 'u1'), ('G', 'u1'), ('B', 'u1'), ('A', 'u1')])"
            ]
          },
          "metadata": {},
          "execution_count": 26
        }
      ],
      "source": [
        "color=np.dtype([(\"R\",np.ubyte,1),('G',np.ubyte,1),('B',np.ubyte,1),('A',np.ubyte,1)])\n",
        "color"
      ]
    },
    {
      "cell_type": "markdown",
      "metadata": {
        "id": "1jc9qROoPFMV"
      },
      "source": [
        "#### 24. Multiply a 5x3 matrix by a 3x2 matrix (real matrix product) (★☆☆) \n",
        "(**hint**: np.dot | @)"
      ]
    },
    {
      "cell_type": "code",
      "execution_count": null,
      "metadata": {
        "id": "0IlHOyoePFMV",
        "colab": {
          "base_uri": "https://localhost:8080/"
        },
        "outputId": "4da74e7f-61e3-463e-c6a9-327d9bd5dcf3"
      },
      "outputs": [
        {
          "output_type": "execute_result",
          "data": {
            "text/plain": [
              "array([[0.5751909 , 0.67280944],\n",
              "       [1.12277694, 0.84608434],\n",
              "       [0.60479379, 0.82360025],\n",
              "       [0.38439753, 0.57703061],\n",
              "       [0.15060473, 0.3595111 ]])"
            ]
          },
          "metadata": {},
          "execution_count": 27
        }
      ],
      "source": [
        "np.dot(np.random.random((5,3)),np.random.random((3,2)))"
      ]
    },
    {
      "cell_type": "markdown",
      "metadata": {
        "id": "3hr--hHTPFMV"
      },
      "source": [
        "#### 25. Given a 1D array, negate all elements which are between 3 and 8, in place. (★☆☆) \n",
        "(**hint**: >, <=)"
      ]
    },
    {
      "cell_type": "code",
      "execution_count": null,
      "metadata": {
        "id": "-A4jk-abPFMV",
        "colab": {
          "base_uri": "https://localhost:8080/"
        },
        "outputId": "8473a879-e335-4954-a826-5a7d7dd6991d"
      },
      "outputs": [
        {
          "output_type": "execute_result",
          "data": {
            "text/plain": [
              "array([ 0,  1,  2,  3, -4, -5, -6, -7,  8,  9, 10])"
            ]
          },
          "metadata": {},
          "execution_count": 28
        }
      ],
      "source": [
        "a=np.arange(11)\n",
        "a[(a>3) & (a<8)]*=-1\n",
        "a"
      ]
    },
    {
      "cell_type": "markdown",
      "metadata": {
        "id": "LUC5Aan2PFMV"
      },
      "source": [
        "#### 26. What is the output of the following script? (★☆☆) \n",
        "(**hint**: np.sum)"
      ]
    },
    {
      "cell_type": "markdown",
      "metadata": {
        "id": "kiHWIltjPFMV"
      },
      "source": [
        "```python\n",
        "# Author: Jake VanderPlas\n",
        "\n",
        "print(sum(range(5),-1))\n",
        "from numpy import *\n",
        "print(sum(range(5),-1))\n",
        "```"
      ]
    },
    {
      "cell_type": "code",
      "execution_count": null,
      "metadata": {
        "id": "KLk67TgoPFMW",
        "colab": {
          "base_uri": "https://localhost:8080/"
        },
        "outputId": "188233d0-4015-4bb6-88ea-008aa18bfb2d"
      },
      "outputs": [
        {
          "output_type": "stream",
          "name": "stdout",
          "text": [
            "10\n"
          ]
        }
      ],
      "source": [
        "from numpy import *\n",
        "print(sum(range(5),-1))"
      ]
    },
    {
      "cell_type": "markdown",
      "metadata": {
        "id": "NRVDHoqZPFMW"
      },
      "source": [
        "#### 27. Consider an integer vector Z, which of these expressions are legal? (★☆☆)"
      ]
    },
    {
      "cell_type": "markdown",
      "metadata": {
        "id": "GoNPa-IcPFMW"
      },
      "source": [
        "```python\n",
        "Z**Z\n",
        "2 << Z >> 2\n",
        "Z <- Z\n",
        "1j*Z\n",
        "Z/1/1\n",
        "Z<Z>Z\n",
        "```"
      ]
    },
    {
      "cell_type": "code",
      "execution_count": null,
      "metadata": {
        "id": "EN_oIi70PFMW"
      },
      "outputs": [],
      "source": [
        ""
      ]
    },
    {
      "cell_type": "markdown",
      "metadata": {
        "id": "NbYG5vp1PFMW"
      },
      "source": [
        "#### 28. What are the result of the following expressions?"
      ]
    },
    {
      "cell_type": "markdown",
      "metadata": {
        "id": "ZP0re_3tPFMW"
      },
      "source": [
        "```python\n",
        "np.array(0) / np.array(0)\n",
        "np.array(0) // np.array(0)\n",
        "np.array([np.nan]).astype(int).astype(float)\n",
        "```"
      ]
    },
    {
      "cell_type": "code",
      "execution_count": null,
      "metadata": {
        "id": "PPvfmdIHPFMW",
        "colab": {
          "base_uri": "https://localhost:8080/"
        },
        "outputId": "c51eebd5-1844-421a-d156-9a943c2e833d"
      },
      "outputs": [
        {
          "output_type": "stream",
          "name": "stdout",
          "text": [
            "nan\n",
            "0\n",
            "[-9.22337204e+18]\n"
          ]
        },
        {
          "output_type": "stream",
          "name": "stderr",
          "text": [
            "/usr/local/lib/python3.7/dist-packages/ipykernel_launcher.py:1: RuntimeWarning: invalid value encountered in true_divide\n",
            "  \"\"\"Entry point for launching an IPython kernel.\n",
            "/usr/local/lib/python3.7/dist-packages/ipykernel_launcher.py:2: RuntimeWarning: divide by zero encountered in floor_divide\n",
            "  \n"
          ]
        }
      ],
      "source": [
        "print(np.array(0) / np.array(0))\n",
        "print(np.array(0) // np.array(0))\n",
        "print(np.array([np.nan]).astype(int).astype(float))"
      ]
    },
    {
      "cell_type": "markdown",
      "metadata": {
        "id": "plSh5ygfPFMW"
      },
      "source": [
        "#### 29. How to round away from zero a float array ? (★☆☆) \n",
        "(**hint**: np.uniform, np.copysign, np.ceil, np.abs)"
      ]
    },
    {
      "cell_type": "code",
      "execution_count": null,
      "metadata": {
        "id": "gpceSy5UPFMX",
        "colab": {
          "base_uri": "https://localhost:8080/"
        },
        "outputId": "31b881e6-cfaa-4273-b0a4-fc378687f585"
      },
      "outputs": [
        {
          "output_type": "execute_result",
          "data": {
            "text/plain": [
              "array([-8.,  4.,  5.,  1., -2., -4., -7.,  3.,  2., -6.])"
            ]
          },
          "metadata": {},
          "execution_count": 31
        }
      ],
      "source": [
        "Z = np.random.uniform(-10,+10,10)\n",
        "np.copysign(np.ceil(np.abs(Z)), Z)"
      ]
    },
    {
      "cell_type": "markdown",
      "metadata": {
        "id": "usli86jDPFMX"
      },
      "source": [
        "#### 30. How to find common values between two arrays? (★☆☆) \n",
        "(**hint**: np.intersect1d)"
      ]
    },
    {
      "cell_type": "code",
      "execution_count": null,
      "metadata": {
        "id": "-wYBP3KDPFMX",
        "colab": {
          "base_uri": "https://localhost:8080/"
        },
        "outputId": "43ce8d47-55f7-4f6a-ac0b-9345a4db9493"
      },
      "outputs": [
        {
          "output_type": "execute_result",
          "data": {
            "text/plain": [
              "array([2, 3])"
            ]
          },
          "metadata": {},
          "execution_count": 32
        }
      ],
      "source": [
        "a=[1,2,3]\n",
        "b=[2,3,4]\n",
        "np.intersect1d(a,b)"
      ]
    },
    {
      "cell_type": "markdown",
      "metadata": {
        "id": "GP7BA6_XPFMX"
      },
      "source": [
        "#### 31. How to ignore all numpy warnings (not recommended)? (★☆☆) \n",
        "(**hint**: np.seterr, np.errstate)"
      ]
    },
    {
      "cell_type": "code",
      "execution_count": null,
      "metadata": {
        "id": "18Xn2893PFMX",
        "colab": {
          "base_uri": "https://localhost:8080/"
        },
        "outputId": "e46f29a2-a8cf-49f7-dedd-ae049381b8ce"
      },
      "outputs": [
        {
          "output_type": "execute_result",
          "data": {
            "text/plain": [
              "{'divide': 'warn', 'invalid': 'warn', 'over': 'warn', 'under': 'ignore'}"
            ]
          },
          "metadata": {},
          "execution_count": 33
        }
      ],
      "source": [
        "np.seterr(all=\"ignore\")"
      ]
    },
    {
      "cell_type": "markdown",
      "metadata": {
        "id": "Z6-vRfg1PFMX"
      },
      "source": [
        "#### 32. Is the following expressions true? (★☆☆) \n",
        "(**hint**: imaginary number)"
      ]
    },
    {
      "cell_type": "markdown",
      "metadata": {
        "id": "uCjqt7SMPFMX"
      },
      "source": [
        "```python\n",
        "np.sqrt(-1) == np.emath.sqrt(-1)\n",
        "```"
      ]
    },
    {
      "cell_type": "code",
      "execution_count": null,
      "metadata": {
        "id": "qtUkvzOHPFMY",
        "colab": {
          "base_uri": "https://localhost:8080/"
        },
        "outputId": "843115f9-ac1d-4b54-9593-62e329f8a75f"
      },
      "outputs": [
        {
          "output_type": "execute_result",
          "data": {
            "text/plain": [
              "False"
            ]
          },
          "metadata": {},
          "execution_count": 34
        }
      ],
      "source": [
        "np.sqrt(-1) == np.emath.sqrt(-1)"
      ]
    },
    {
      "cell_type": "markdown",
      "metadata": {
        "id": "nF_92Xk1PFMY"
      },
      "source": [
        "#### 33. How to get the dates of yesterday, today and tomorrow? (★☆☆) \n",
        "(**hint**: np.datetime64, np.timedelta64)"
      ]
    },
    {
      "cell_type": "code",
      "execution_count": null,
      "metadata": {
        "collapsed": true,
        "id": "8LVkbT0pPFMY",
        "colab": {
          "base_uri": "https://localhost:8080/"
        },
        "outputId": "841aa315-cf0b-439c-9d43-e0a21c805f97"
      },
      "outputs": [
        {
          "output_type": "stream",
          "name": "stdout",
          "text": [
            "2022-06-03\n",
            "2022-06-04\n"
          ]
        },
        {
          "output_type": "execute_result",
          "data": {
            "text/plain": [
              "numpy.datetime64('2022-06-05')"
            ]
          },
          "metadata": {},
          "execution_count": 35
        }
      ],
      "source": [
        "yesterday = np.datetime64('today', 'D') - np.timedelta64(1, 'D')\n",
        "today     = np.datetime64('today', 'D')\n",
        "tomorrow  = np.datetime64('today', 'D') + np.timedelta64(1, 'D')\n",
        "print(yesterday)\n",
        "print(today)\n",
        "tomorrow"
      ]
    },
    {
      "cell_type": "markdown",
      "metadata": {
        "id": "vxmSOtWePFMY"
      },
      "source": [
        "#### 34. How to get all the dates corresponding to the month of July 2016? (★★☆) \n",
        "(**hint**: np.arange(dtype=datetime64\\['D'\\]))"
      ]
    },
    {
      "cell_type": "code",
      "execution_count": null,
      "metadata": {
        "id": "eSuW5jo8PFMY",
        "colab": {
          "base_uri": "https://localhost:8080/"
        },
        "outputId": "c4c26293-9d89-478b-e236-d8de75fb1a66"
      },
      "outputs": [
        {
          "output_type": "execute_result",
          "data": {
            "text/plain": [
              "array(['2016-07-01', '2016-07-02', '2016-07-03', '2016-07-04',\n",
              "       '2016-07-05', '2016-07-06', '2016-07-07', '2016-07-08',\n",
              "       '2016-07-09', '2016-07-10', '2016-07-11', '2016-07-12',\n",
              "       '2016-07-13', '2016-07-14', '2016-07-15', '2016-07-16',\n",
              "       '2016-07-17', '2016-07-18', '2016-07-19', '2016-07-20',\n",
              "       '2016-07-21', '2016-07-22', '2016-07-23', '2016-07-24',\n",
              "       '2016-07-25', '2016-07-26', '2016-07-27', '2016-07-28',\n",
              "       '2016-07-29', '2016-07-30', '2016-07-31'], dtype='datetime64[D]')"
            ]
          },
          "metadata": {},
          "execution_count": 36
        }
      ],
      "source": [
        "np.arange('2016-07','2016-08',dtype='datetime64[D]')"
      ]
    },
    {
      "cell_type": "markdown",
      "metadata": {
        "id": "bjRut9k_PFMY"
      },
      "source": [
        "#### 35. How to compute ((A+B)\\*(-A/2)) in place (without copy)? (★★☆) \n",
        "(**hint**: np.add(out=), np.negative(out=), np.multiply(out=), np.divide(out=))"
      ]
    },
    {
      "cell_type": "code",
      "execution_count": null,
      "metadata": {
        "id": "IxKa4PsCPFMY",
        "colab": {
          "base_uri": "https://localhost:8080/"
        },
        "outputId": "8fa234e3-51a7-410f-d2aa-e6bd49f84ac7"
      },
      "outputs": [
        {
          "output_type": "stream",
          "name": "stdout",
          "text": [
            "[[0.61366521 0.20862849 0.43494163]\n",
            " [0.03020667 0.28685361 0.03953499]\n",
            " [0.37121286 0.18678905 0.06191785]]\n"
          ]
        }
      ],
      "source": [
        "a=np.random.random((3,3))\n",
        "b=np.random.random((3,3))\n",
        "np.add(a,b,out=b)\n",
        "np.divide(a,2,out=a)\n",
        "np.multiply(a,b,out=b)\n",
        "print(b)\n"
      ]
    },
    {
      "cell_type": "markdown",
      "metadata": {
        "id": "Y9l27tCxPFMY"
      },
      "source": [
        "#### 36. Extract the integer part of a random array using 5 different methods (★★☆) \n",
        "(**hint**: %, np.floor, np.ceil, astype, np.trunc)"
      ]
    },
    {
      "cell_type": "code",
      "execution_count": null,
      "metadata": {
        "id": "6BOggWFgPFMZ",
        "colab": {
          "base_uri": "https://localhost:8080/"
        },
        "outputId": "565635e9-84bd-4995-ec8a-f33f75faa7b0"
      },
      "outputs": [
        {
          "output_type": "stream",
          "name": "stdout",
          "text": [
            "[2. 7. 8. 8. 6. 3. 1. 6. 8. 8.]\n",
            "[2. 7. 8. 8. 6. 3. 1. 6. 8. 8.]\n",
            "[2. 7. 8. 8. 6. 3. 1. 6. 8. 8.]\n",
            "[2 7 8 8 6 3 1 6 8 8]\n",
            "[2. 7. 8. 8. 6. 3. 1. 6. 8. 8.]\n"
          ]
        }
      ],
      "source": [
        "a=np.random.uniform(0,10,10)\n",
        "print(a-a%1)\n",
        "print(np.floor(a))\n",
        "print(np.ceil(a)-1)\n",
        "print(a.astype(int))\n",
        "print(np.trunc(a))"
      ]
    },
    {
      "cell_type": "markdown",
      "metadata": {
        "id": "fYW_8vFaPFMZ"
      },
      "source": [
        "#### 37. Create a 5x5 matrix with row values ranging from 0 to 4 (★★☆) \n",
        "(**hint**: np.arange)"
      ]
    },
    {
      "cell_type": "code",
      "execution_count": null,
      "metadata": {
        "id": "dZry-S24PFMZ",
        "colab": {
          "base_uri": "https://localhost:8080/"
        },
        "outputId": "5fd3bbc9-935c-4ea6-9856-1689aa2b046b"
      },
      "outputs": [
        {
          "output_type": "stream",
          "name": "stdout",
          "text": [
            "[[0. 1. 2. 3. 4.]\n",
            " [0. 1. 2. 3. 4.]\n",
            " [0. 1. 2. 3. 4.]\n",
            " [0. 1. 2. 3. 4.]\n",
            " [0. 1. 2. 3. 4.]]\n"
          ]
        }
      ],
      "source": [
        "Z = np.zeros((5,5))\n",
        "Z += np.arange(5)\n",
        "print(Z)"
      ]
    },
    {
      "cell_type": "markdown",
      "metadata": {
        "id": "SRqyio24PFMZ"
      },
      "source": [
        "#### 38. Consider a generator function that generates 10 integers and use it to build an array (★☆☆) \n",
        "(**hint**: np.fromiter)"
      ]
    },
    {
      "cell_type": "code",
      "execution_count": null,
      "metadata": {
        "id": "gEwShra_PFMZ",
        "colab": {
          "base_uri": "https://localhost:8080/"
        },
        "outputId": "c6f8e51b-5f09-4aae-cb14-0e19ad1e7e2a"
      },
      "outputs": [
        {
          "output_type": "execute_result",
          "data": {
            "text/plain": [
              "array([0, 1, 2, 3, 4, 5, 6, 7, 8, 9])"
            ]
          },
          "metadata": {},
          "execution_count": 40
        }
      ],
      "source": [
        "def generator():\n",
        "  for i in range(10):\n",
        "    yield i\n",
        "np.fromiter(generator(),dtype=int)"
      ]
    },
    {
      "cell_type": "markdown",
      "metadata": {
        "id": "wlUYlqzZPFMZ"
      },
      "source": [
        "#### 39. Create a vector of size 10 with values ranging from 0 to 1, both excluded (★★☆) \n",
        "(**hint**: np.linspace)"
      ]
    },
    {
      "cell_type": "code",
      "execution_count": null,
      "metadata": {
        "id": "HHFpK1bkPFMZ",
        "colab": {
          "base_uri": "https://localhost:8080/"
        },
        "outputId": "5995eb97-f140-43d3-9667-7c488d2fb4d6"
      },
      "outputs": [
        {
          "output_type": "execute_result",
          "data": {
            "text/plain": [
              "array([0.09090909, 0.18181818, 0.27272727, 0.36363636, 0.45454545,\n",
              "       0.54545455, 0.63636364, 0.72727273, 0.81818182, 0.90909091])"
            ]
          },
          "metadata": {},
          "execution_count": 41
        }
      ],
      "source": [
        "np.linspace(0,1,11,endpoint=False)[1:]"
      ]
    },
    {
      "cell_type": "markdown",
      "metadata": {
        "id": "jpkXpE4APFMZ"
      },
      "source": [
        "#### 40. Create a random vector of size 10 and sort it (★★☆) \n",
        "(**hint**: sort)"
      ]
    },
    {
      "cell_type": "code",
      "execution_count": null,
      "metadata": {
        "id": "ZXQ1os4lPFMa",
        "colab": {
          "base_uri": "https://localhost:8080/"
        },
        "outputId": "9d20dfe6-ffbf-4fe8-e7d3-45a667e373b3"
      },
      "outputs": [
        {
          "output_type": "stream",
          "name": "stdout",
          "text": [
            "[0.10520562 0.1914972  0.30776838 0.55830027 0.56997435 0.79173436\n",
            " 0.90664663 0.91129828 0.922413   0.92535523]\n"
          ]
        }
      ],
      "source": [
        "Z = np.random.random(10)\n",
        "Z.sort()\n",
        "print(Z)"
      ]
    },
    {
      "cell_type": "markdown",
      "metadata": {
        "id": "q22IuSCgPFMa"
      },
      "source": [
        "#### 41. How to sum a small array faster than np.sum? (★★☆) \n",
        "(**hint**: np.add.reduce)"
      ]
    },
    {
      "cell_type": "code",
      "execution_count": null,
      "metadata": {
        "id": "xfSQ9fXtPFMa",
        "colab": {
          "base_uri": "https://localhost:8080/"
        },
        "outputId": "ba93c2b5-ed3e-46ad-8312-14288d0415b8"
      },
      "outputs": [
        {
          "output_type": "execute_result",
          "data": {
            "text/plain": [
              "45"
            ]
          },
          "metadata": {},
          "execution_count": 43
        }
      ],
      "source": [
        "a=np.arange(10)\n",
        "np.add.reduce(a)"
      ]
    },
    {
      "cell_type": "markdown",
      "metadata": {
        "id": "H1yC7VCUPFMa"
      },
      "source": [
        "#### 42. Consider two random array A and B, check if they are equal (★★☆) \n",
        "(**hint**: np.allclose, np.array\\_equal)"
      ]
    },
    {
      "cell_type": "code",
      "execution_count": null,
      "metadata": {
        "id": "Cb1bYxhLPFMa",
        "colab": {
          "base_uri": "https://localhost:8080/"
        },
        "outputId": "251b2d6f-045d-4709-ff12-fe9cf0fc7487"
      },
      "outputs": [
        {
          "output_type": "stream",
          "name": "stdout",
          "text": [
            "False\n",
            "False\n"
          ]
        }
      ],
      "source": [
        "a=np.random.randint((1,10,5))\n",
        "b=np.random.randint((1,10,5))\n",
        "print(np.allclose(a,b))#approx equal\n",
        "print(np.array_equal(a,b))#all must be equal"
      ]
    },
    {
      "cell_type": "markdown",
      "metadata": {
        "id": "Wo-bhlfYPFMa"
      },
      "source": [
        "#### 43. Make an array immutable (read-only) (★★☆) \n",
        "(**hint**: flags.writeable)"
      ]
    },
    {
      "cell_type": "code",
      "execution_count": null,
      "metadata": {
        "id": "xl-9EUYcPFMa"
      },
      "outputs": [],
      "source": [
        "a=np.random.randint(1,10,size=(2,4))\n",
        "a.flags.writeable=False\n"
      ]
    },
    {
      "cell_type": "markdown",
      "metadata": {
        "id": "SEw2XDiUPFMa"
      },
      "source": [
        "#### 44. Consider a random 10x2 matrix representing cartesian coordinates, convert them to polar coordinates (★★☆) \n",
        "(**hint**: np.sqrt, np.arctan2)"
      ]
    },
    {
      "cell_type": "code",
      "execution_count": null,
      "metadata": {
        "id": "w_nHGaAgPFMb",
        "colab": {
          "base_uri": "https://localhost:8080/"
        },
        "outputId": "b938fa68-f44d-4434-f8a2-4bd5ee004164"
      },
      "outputs": [
        {
          "output_type": "execute_result",
          "data": {
            "text/plain": [
              "(array([4.12310563, 7.21110255, 3.        , 5.65685425, 9.21954446,\n",
              "        9.05538514, 9.05538514, 5.        , 5.        , 6.        ]),\n",
              " array([0.24497866, 0.5880026 , 1.57079633, 0.78539816, 0.21866895,\n",
              "        1.46013911, 0.11065722, 0.        , 0.        , 1.57079633]))"
            ]
          },
          "metadata": {},
          "execution_count": 46
        }
      ],
      "source": [
        "a=np.random.randint(10,size=(10,2))\n",
        "x,y=a[:,0],a[:,1]\n",
        "w=np.sqrt(x**2+y**2)\n",
        "q=np.arctan2(x,y)\n",
        "w,q"
      ]
    },
    {
      "cell_type": "markdown",
      "metadata": {
        "id": "LOjglgrOPFMb"
      },
      "source": [
        "#### 45. Create random vector of size 10 and replace the maximum value by 0 (★★☆) \n",
        "(**hint**: argmax)"
      ]
    },
    {
      "cell_type": "code",
      "execution_count": null,
      "metadata": {
        "id": "ht_CePLuPFMb",
        "colab": {
          "base_uri": "https://localhost:8080/"
        },
        "outputId": "ba73b564-7e04-416d-a34b-16e2c1e868cc"
      },
      "outputs": [
        {
          "output_type": "stream",
          "name": "stdout",
          "text": [
            "[2 1 6 4 6 0 7 2 4 4]\n"
          ]
        },
        {
          "output_type": "execute_result",
          "data": {
            "text/plain": [
              "array([2, 1, 6, 4, 6, 0, 0, 2, 4, 4])"
            ]
          },
          "metadata": {},
          "execution_count": 47
        }
      ],
      "source": [
        "a=np.random.randint(10,size=10)\n",
        "print(a)\n",
        "a[a.argmax()]=0#only 1st element becomes zero\n",
        "a"
      ]
    },
    {
      "cell_type": "markdown",
      "metadata": {
        "id": "aElVoE1qPFMb"
      },
      "source": [
        "#### 46. Create a structured array with `x` and `y` coordinates covering the \\[0,1\\]x\\[0,1\\] area (★★☆) \n",
        "(**hint**: np.meshgrid)"
      ]
    },
    {
      "cell_type": "code",
      "execution_count": null,
      "metadata": {
        "id": "lrEQ2dT0PFMb",
        "colab": {
          "base_uri": "https://localhost:8080/"
        },
        "outputId": "497c81f0-43e7-4728-9d6c-563ee975668e"
      },
      "outputs": [
        {
          "output_type": "stream",
          "name": "stdout",
          "text": [
            "[[(0.  , 0.  ) (0.25, 0.  ) (0.5 , 0.  ) (0.75, 0.  ) (1.  , 0.  )]\n",
            " [(0.  , 0.25) (0.25, 0.25) (0.5 , 0.25) (0.75, 0.25) (1.  , 0.25)]\n",
            " [(0.  , 0.5 ) (0.25, 0.5 ) (0.5 , 0.5 ) (0.75, 0.5 ) (1.  , 0.5 )]\n",
            " [(0.  , 0.75) (0.25, 0.75) (0.5 , 0.75) (0.75, 0.75) (1.  , 0.75)]\n",
            " [(0.  , 1.  ) (0.25, 1.  ) (0.5 , 1.  ) (0.75, 1.  ) (1.  , 1.  )]]\n"
          ]
        }
      ],
      "source": [
        "Z = np.zeros((5,5), [('x',float),('y',float)])\n",
        "Z['x'], Z['y'] = np.meshgrid(np.linspace(0,1,5),np.linspace(0,1,5))\n",
        "print(Z)"
      ]
    },
    {
      "cell_type": "markdown",
      "metadata": {
        "id": "etLNUFBRPFMb"
      },
      "source": [
        "####  47. Given two arrays, X and Y, construct the Cauchy matrix C (Cij =1/(xi - yj)) \n",
        "(**hint**: np.subtract.outer)"
      ]
    },
    {
      "cell_type": "code",
      "execution_count": null,
      "metadata": {
        "id": "9PejJIJXPFMb",
        "colab": {
          "base_uri": "https://localhost:8080/"
        },
        "outputId": "f1b56019-638e-4e3f-d901-c83646351a15"
      },
      "outputs": [
        {
          "output_type": "stream",
          "name": "stdout",
          "text": [
            "[[-1.          1.          0.25        0.25        0.5         0.16666667\n",
            "   0.33333333  0.33333333         inf  0.125     ]\n",
            " [-0.125      -0.16666667 -0.33333333 -0.33333333 -0.2        -1.\n",
            "  -0.25       -0.25       -0.14285714  1.        ]\n",
            " [-0.16666667 -0.25       -1.         -1.         -0.33333333  1.\n",
            "  -0.5        -0.5        -0.2         0.33333333]\n",
            " [        inf  0.5         0.2         0.2         0.33333333  0.14285714\n",
            "   0.25        0.25        1.          0.11111111]\n",
            " [-0.11111111 -0.14285714 -0.25       -0.25       -0.16666667 -0.5\n",
            "  -0.2        -0.2        -0.125              inf]\n",
            " [-1.          1.          0.25        0.25        0.5         0.16666667\n",
            "   0.33333333  0.33333333         inf  0.125     ]\n",
            " [-0.16666667 -0.25       -1.         -1.         -0.33333333  1.\n",
            "  -0.5        -0.5        -0.2         0.33333333]\n",
            " [-0.33333333 -1.          0.5         0.5                inf  0.25\n",
            "   1.          1.         -0.5         0.16666667]\n",
            " [-0.125      -0.16666667 -0.33333333 -0.33333333 -0.2        -1.\n",
            "  -0.25       -0.25       -0.14285714  1.        ]\n",
            " [-0.5                inf  0.33333333  0.33333333  1.          0.2\n",
            "   0.5         0.5        -1.          0.14285714]]\n"
          ]
        }
      ],
      "source": [
        "x=np.random.randint(10,size=(10))\n",
        "y=np.random.randint(10,size=(10))\n",
        "z=1.0/np.subtract.outer(x,y)\n",
        "print(z)"
      ]
    },
    {
      "cell_type": "markdown",
      "metadata": {
        "id": "1aHE03f-PFMb"
      },
      "source": [
        "#### 48. Print the minimum and maximum representable value for each numpy scalar type (★★☆) \n",
        "(**hint**: np.iinfo, np.finfo, eps)"
      ]
    },
    {
      "cell_type": "code",
      "execution_count": null,
      "metadata": {
        "id": "uI6D-F1JPFMc",
        "colab": {
          "base_uri": "https://localhost:8080/"
        },
        "outputId": "d274cb25-481d-465d-d209-d9765db1ecbc"
      },
      "outputs": [
        {
          "output_type": "stream",
          "name": "stdout",
          "text": [
            "32767\n",
            "-32768\n",
            "2147483647\n",
            "-2147483648\n",
            "9223372036854775807\n",
            "-9223372036854775808\n",
            "65500.0\n",
            "-65500.0\n",
            "0.000977\n",
            "3.4028235e+38\n",
            "-3.4028235e+38\n",
            "1.1920929e-07\n",
            "1.7976931348623157e+308\n",
            "-1.7976931348623157e+308\n",
            "2.220446049250313e-16\n"
          ]
        }
      ],
      "source": [
        "for i in [np.int16,np.int32,np.int64]:\n",
        "  print(np.iinfo(i).max)\n",
        "  print(np.iinfo(i).min)\n",
        "for i in [np.float16,np.float32,np.float64]:\n",
        "  print(np.finfo(i).max)\n",
        "  print(np.finfo(i).min)\n",
        "  print(np.finfo(i).eps)\n"
      ]
    },
    {
      "cell_type": "markdown",
      "metadata": {
        "id": "RnfftaXfPFMc"
      },
      "source": [
        "#### 49. How to print all the values of an array? (★★☆) \n",
        "(**hint**: np.set\\_printoptions)"
      ]
    },
    {
      "cell_type": "code",
      "execution_count": null,
      "metadata": {
        "id": "9eC90qQrPFMc",
        "colab": {
          "base_uri": "https://localhost:8080/"
        },
        "outputId": "2372fc98-39bc-4fe5-b6ea-14bb1f0c68b5"
      },
      "outputs": [
        {
          "output_type": "execute_result",
          "data": {
            "text/plain": [
              "array([[0., 0., 0., 0., 0.],\n",
              "       [0., 0., 0., 0., 0.],\n",
              "       [0., 0., 0., 0., 0.],\n",
              "       [0., 0., 0., 0., 0.],\n",
              "       [0., 0., 0., 0., 0.]])"
            ]
          },
          "metadata": {},
          "execution_count": 51
        }
      ],
      "source": [
        "import sys\n",
        "np.set_printoptions(threshold=sys.maxsize)\n",
        "a=np.zeros((5,5))\n",
        "a"
      ]
    },
    {
      "cell_type": "markdown",
      "metadata": {
        "id": "r351YFjxPFMc"
      },
      "source": [
        "#### 50. How to find the closest value (to a given scalar) in a vector? (★★☆) \n",
        "(**hint**: argmin)"
      ]
    },
    {
      "cell_type": "code",
      "execution_count": null,
      "metadata": {
        "id": "S24oF5LuPFMc",
        "colab": {
          "base_uri": "https://localhost:8080/"
        },
        "outputId": "12987500-a35a-4d6f-a29e-80ae804a364c"
      },
      "outputs": [
        {
          "output_type": "stream",
          "name": "stdout",
          "text": [
            "20\n"
          ]
        }
      ],
      "source": [
        "a = np.arange(100)\n",
        "b = np.random.uniform(0,100)\n",
        "index = (np.abs(a-b)).argmin()\n",
        "print(a[index])"
      ]
    },
    {
      "cell_type": "markdown",
      "metadata": {
        "id": "Iyn_HwkDPFMc"
      },
      "source": [
        "#### 51. Create a structured array representing a position (x,y) and a color (r,g,b) (★★☆) \n",
        "(**hint**: dtype)"
      ]
    },
    {
      "cell_type": "code",
      "execution_count": null,
      "metadata": {
        "id": "uFYcAVb_PFMc",
        "colab": {
          "base_uri": "https://localhost:8080/"
        },
        "outputId": "f51c574b-2d05-4a75-e19a-4a72bb477b39"
      },
      "outputs": [
        {
          "output_type": "stream",
          "name": "stderr",
          "text": [
            "/usr/local/lib/python3.7/dist-packages/ipykernel_launcher.py:2: FutureWarning: Passing (type, 1) or '1type' as a synonym of type is deprecated; in a future version of numpy, it will be understood as (type, (1,)) / '(1,)type'.\n",
            "  \n"
          ]
        },
        {
          "output_type": "execute_result",
          "data": {
            "text/plain": [
              "array([((0., 0.), (0, 0, 0)), ((0., 0.), (0, 0, 0)),\n",
              "       ((0., 0.), (0, 0, 0)), ((0., 0.), (0, 0, 0)),\n",
              "       ((0., 0.), (0, 0, 0)), ((0., 0.), (0, 0, 0)),\n",
              "       ((0., 0.), (0, 0, 0)), ((0., 0.), (0, 0, 0)),\n",
              "       ((0., 0.), (0, 0, 0)), ((0., 0.), (0, 0, 0))],\n",
              "      dtype=[('location', [('x', '<f8'), ('y', '<f8')]), ('color', [('r', '<i8'), ('g', '<i8'), ('b', '<i8')])])"
            ]
          },
          "metadata": {},
          "execution_count": 53
        }
      ],
      "source": [
        "a=np.zeros(10,[('location',[('x',float,1),('y',float,1)]),\n",
        "              ('color',[('r',int),('g',int),('b',int)])])\n",
        "a"
      ]
    },
    {
      "cell_type": "markdown",
      "metadata": {
        "id": "J0H8dLjNPFMc"
      },
      "source": [
        "#### 52. Consider a random vector with shape (100,2) representing coordinates, find point by point distances (★★☆) \n",
        "(**hint**: np.atleast\\_2d, T, np.sqrt)"
      ]
    },
    {
      "cell_type": "code",
      "execution_count": null,
      "metadata": {
        "id": "YwT6MJ-9PFMd",
        "colab": {
          "base_uri": "https://localhost:8080/"
        },
        "outputId": "092e25b9-5977-4b54-d7bc-475645ec7f38"
      },
      "outputs": [
        {
          "output_type": "stream",
          "name": "stdout",
          "text": [
            "[[0.00000000e+00 3.02280522e-01 6.81523393e-01 5.06081468e-01\n",
            "  8.65666932e-01 6.67232192e-01 5.09692693e-01 9.71839220e-01\n",
            "  9.47399403e-01 5.17224180e-01 4.26944307e-01 9.40187060e-01\n",
            "  4.16695289e-01 9.52005025e-01 6.70199213e-01 9.55483418e-01\n",
            "  6.38517536e-01 4.43469843e-01 6.98669309e-01 6.56793197e-01\n",
            "  8.85243870e-01 3.89634622e-01 6.40833566e-02 6.54514195e-01\n",
            "  5.39643657e-02 4.58679053e-01 3.57226301e-01 7.59679241e-01\n",
            "  1.02277218e+00 2.11549892e-01 5.84191198e-01 8.18230080e-01\n",
            "  6.35266697e-01 9.85202725e-01 4.72596847e-01 2.71301404e-01\n",
            "  1.62890279e-01 4.80734232e-01 2.43839905e-01 4.60317949e-02\n",
            "  9.17049924e-01 2.69534934e-01 8.80593361e-01 9.48444080e-01\n",
            "  5.98318966e-01 7.22943040e-01 6.72654936e-01 3.61206549e-01\n",
            "  6.48422821e-01 4.38107218e-01 4.02251359e-01 4.77135705e-01\n",
            "  8.49412944e-01 5.37159777e-01 8.89331023e-01 5.20403118e-01\n",
            "  7.00261865e-02 7.76630414e-01 6.65988621e-01 7.52326580e-01\n",
            "  5.07086045e-01 5.03039819e-01 4.43817285e-01 1.91091613e-01\n",
            "  7.73608197e-01 2.41972701e-01 4.78209076e-01 6.14018610e-01\n",
            "  4.67090770e-01 8.86362235e-01 5.05513833e-01 4.30288097e-01\n",
            "  5.04320307e-01 1.98206731e-01 6.22681775e-01 1.00366317e+00\n",
            "  2.09133434e-01 8.81187289e-01 4.93981977e-01 7.56042046e-01\n",
            "  4.12320679e-01 8.97096098e-01 8.06707217e-01 9.49107715e-01\n",
            "  4.74493361e-01 6.35416779e-01 5.94880812e-01 3.27014682e-01\n",
            "  6.25940882e-01 3.98193395e-01 2.13949265e-01 9.40265378e-01\n",
            "  3.90692798e-01 5.05708334e-01 6.34528884e-01 2.77254778e-01\n",
            "  4.86648882e-01 4.75260416e-01 7.30880723e-01 5.07918410e-01]\n",
            " [3.02280522e-01 0.00000000e+00 5.88725715e-01 4.39539904e-01\n",
            "  7.46735814e-01 6.13438210e-01 2.08303778e-01 9.57506005e-01\n",
            "  9.41734668e-01 5.77268075e-01 1.98182884e-01 6.80664838e-01\n",
            "  1.42614598e-01 7.82887321e-01 6.39443848e-01 8.25923591e-01\n",
            "  6.48525251e-01 1.51711218e-01 7.72905458e-01 5.00008716e-01\n",
            "  7.84697275e-01 1.96476611e-01 2.40928662e-01 5.40054833e-01\n",
            "  2.51861107e-01 6.59248412e-01 3.22718396e-01 4.91196302e-01\n",
            "  9.76773774e-01 3.47601545e-01 7.18963990e-01 7.53252088e-01\n",
            "  5.06461091e-01 8.91282845e-01 4.74383079e-01 4.70403491e-01\n",
            "  3.64238915e-01 1.79997538e-01 4.96206421e-01 3.48294939e-01\n",
            "  8.22574189e-01 3.71416250e-01 6.20399816e-01 9.15900453e-01\n",
            "  3.61776496e-01 6.59156092e-01 4.02512434e-01 6.46914529e-02\n",
            "  3.48203162e-01 4.81887465e-01 3.23723043e-01 4.81109153e-01\n",
            "  8.49158573e-01 3.94502353e-01 7.80686213e-01 6.19746299e-01\n",
            "  2.37558980e-01 6.84252878e-01 4.14915683e-01 5.70244847e-01\n",
            "  2.99894965e-01 6.01292824e-01 3.70225847e-01 4.69622837e-01\n",
            "  7.67323142e-01 1.81998857e-01 2.53013511e-01 4.27918981e-01\n",
            "  1.66952916e-01 8.75710691e-01 3.02235325e-01 1.37898734e-01\n",
            "  3.41122070e-01 1.95200783e-01 5.58008011e-01 7.60103675e-01\n",
            "  1.57134369e-01 6.51798698e-01 6.05849845e-01 7.82493822e-01\n",
            "  6.12076425e-01 7.59483871e-01 7.88387177e-01 9.15153697e-01\n",
            "  2.88619434e-01 3.34348944e-01 3.31720562e-01 2.78338315e-01\n",
            "  6.11620345e-01 6.65053437e-01 4.41220138e-01 6.64283092e-01\n",
            "  5.25710456e-01 4.39026269e-01 7.71021778e-01 1.25203750e-01\n",
            "  3.73796219e-01 2.54692312e-01 4.50425153e-01 2.23612731e-01]\n",
            " [6.81523393e-01 5.88725715e-01 0.00000000e+00 1.75458595e-01\n",
            "  1.86556801e-01 8.48577389e-02 5.85245098e-01 3.93956572e-01\n",
            "  3.88007512e-01 3.12010149e-01 4.10364603e-01 5.31788164e-01\n",
            "  6.88824108e-01 3.14498182e-01 1.36599916e-01 2.78058382e-01\n",
            "  2.19611270e-01 6.60612073e-01 3.91719679e-01 1.51907835e-01\n",
            "  2.04792396e-01 3.94039459e-01 6.67166235e-01 6.08685515e-02\n",
            "  6.72804008e-01 5.95173281e-01 3.24590249e-01 4.74332807e-01\n",
            "  3.92029859e-01 4.95069929e-01 4.85888459e-01 1.67987471e-01\n",
            "  1.01316998e-01 3.08558281e-01 2.41379861e-01 5.50766319e-01\n",
            "  5.64632787e-01 6.31069128e-01 6.44098674e-01 7.07133773e-01\n",
            "  2.39263728e-01 4.41433671e-01 4.98756516e-01 3.40798890e-01\n",
            "  3.53124987e-01 8.72141548e-02 4.56001731e-01 6.16407340e-01\n",
            "  6.10498444e-01 3.05206859e-01 2.86659266e-01 2.40958022e-01\n",
            "  3.15529428e-01 2.00167694e-01 2.07808025e-01 3.88321911e-01\n",
            "  6.29255025e-01 9.75337434e-02 3.91611303e-01 2.16130459e-01\n",
            "  3.25087235e-01 3.83946852e-01 2.40485551e-01 6.87799410e-01\n",
            "  2.45624191e-01 7.48564680e-01 3.73131065e-01 2.31374676e-01\n",
            "  5.66774623e-01 3.24757584e-01 3.19229884e-01 6.53020476e-01\n",
            "  2.56952173e-01 7.38643983e-01 7.47941905e-02 5.20663879e-01\n",
            "  5.12016168e-01 3.98836929e-01 4.09866405e-01 3.09498906e-01\n",
            "  5.76956210e-01 2.28486104e-01 2.43637342e-01 3.39120085e-01\n",
            "  8.64283662e-01 6.17160930e-01 4.26037543e-01 3.59373521e-01\n",
            "  1.66117400e-01 7.49794090e-01 5.92551529e-01 5.99565407e-01\n",
            "  4.46928304e-01 1.75826441e-01 5.12935608e-01 4.81486164e-01\n",
            "  2.16163552e-01 8.17372665e-01 5.14349609e-01 7.15920921e-01]\n",
            " [5.06081468e-01 4.39539904e-01 1.75458595e-01 0.00000000e+00\n",
            "  3.60713066e-01 1.75574525e-01 4.83948068e-01 5.17969826e-01\n",
            "  5.02696496e-01 2.26790499e-01 2.90174704e-01 5.92407635e-01\n",
            "  5.56695600e-01 4.67720847e-01 2.00352949e-01 4.51536180e-01\n",
            "  2.26114033e-01 5.36303776e-01 3.86311699e-01 2.00026107e-01\n",
            "  3.79470012e-01 2.57681467e-01 4.93005415e-01 1.56428966e-01\n",
            "  4.98316778e-01 4.76208602e-01 1.49478425e-01 4.78331496e-01\n",
            "  5.41894896e-01 3.23080916e-01 4.15549040e-01 3.22608611e-01\n",
            "  1.51953531e-01 4.81154850e-01 1.07516944e-01 3.93118887e-01\n",
            "  3.92880436e-01 5.17900492e-01 4.83347911e-01 5.31893123e-01\n",
            "  4.12331109e-01 2.72412066e-01 5.45554300e-01 4.77492652e-01\n",
            "  3.11864168e-01 2.26009744e-01 4.28811764e-01 4.77808788e-01\n",
            "  5.46275364e-01 1.70852636e-01 1.18723331e-01 1.11774074e-01\n",
            "  4.11896096e-01 1.25526861e-01 3.83257155e-01 3.02784402e-01\n",
            "  4.54634325e-01 2.71024616e-01 3.75259103e-01 3.04126290e-01\n",
            "  2.38422166e-01 2.90961960e-01 7.06409982e-02 5.20680784e-01\n",
            "  3.30275346e-01 5.85992378e-01 2.72986407e-01 2.21104878e-01\n",
            "  4.55544094e-01 4.36575726e-01 2.31527305e-01 5.26492199e-01\n",
            "  1.62408261e-01 5.72088979e-01 1.22475157e-01 6.11428679e-01\n",
            "  3.42908699e-01 4.80442680e-01 3.12329364e-01 3.58055743e-01\n",
            "  4.48012537e-01 3.96887847e-01 3.49121422e-01 4.76961741e-01\n",
            "  7.25142841e-01 5.47885753e-01 3.72334235e-01 1.86591549e-01\n",
            "  1.78739678e-01 6.06505255e-01 4.27761406e-01 6.38936864e-01\n",
            "  3.12765709e-01 5.18037654e-04 4.56445915e-01 3.22204331e-01\n",
            "  8.49006299e-02 6.83702937e-01 4.97234143e-01 6.00202314e-01]\n",
            " [8.65666932e-01 7.46735814e-01 1.86556801e-01 3.60713066e-01\n",
            "  0.00000000e+00 2.33881391e-01 7.04225571e-01 3.51719797e-01\n",
            "  3.62481928e-01 4.75995285e-01 5.55091596e-01 4.95581854e-01\n",
            "  8.29718389e-01 1.69307484e-01 2.67695645e-01 9.16412863e-02\n",
            "  3.53785144e-01 7.95650103e-01 4.98799277e-01 2.51291570e-01\n",
            "  6.08973045e-02 5.50465520e-01 8.48254854e-01 2.13590623e-01\n",
            "  8.54425573e-01 7.61153845e-01 5.08477353e-01 5.08485753e-01\n",
            "  2.98519685e-01 6.81620765e-01 6.28597230e-01 1.50387818e-01\n",
            "  2.41617027e-01 1.54273199e-01 4.24758587e-01 7.34289655e-01\n",
            "  7.51189434e-01 7.57777249e-01 8.28208583e-01 8.92509371e-01\n",
            "  9.68945149e-02 6.27873996e-01 4.83046615e-01 2.85978941e-01\n",
            "  4.48180581e-01 1.84705541e-01 5.22694281e-01 7.64904315e-01\n",
            "  6.95765447e-01 4.86021929e-01 4.66096880e-01 4.23564062e-01\n",
            "  3.34302577e-01 3.53244403e-01 4.19377397e-02 5.46084132e-01\n",
            "  8.11224213e-01 1.05337040e-01 4.58407960e-01 2.29009895e-01\n",
            "  4.57438499e-01 5.45589498e-01 4.22190314e-01 8.73648708e-01\n",
            "  3.02411485e-01 9.16022624e-01 5.07943694e-01 3.35180152e-01\n",
            "  6.94920625e-01 3.18299610e-01 4.53145224e-01 7.90209105e-01\n",
            "  4.05618009e-01 9.10255009e-01 2.56003756e-01 4.47553126e-01\n",
            "  6.88261075e-01 3.56228236e-01 5.72041753e-01 3.85221353e-01\n",
            "  7.48354248e-01 5.99515632e-02 2.74154856e-01 2.82358249e-01\n",
            "  1.00770986e+00 7.06525613e-01 5.19743756e-01 5.40589656e-01\n",
            "  3.15329978e-01 9.25952124e-01 7.77987454e-01 5.81192226e-01\n",
            "  6.23407718e-01 3.61047436e-01 6.44985672e-01 6.50138411e-01\n",
            "  3.87413721e-01 9.56554672e-01 5.64369112e-01 8.41610361e-01]\n",
            " [6.67232192e-01 6.13438210e-01 8.48577389e-02 1.75574525e-01\n",
            "  2.33881391e-01 0.00000000e+00 6.35980367e-01 3.46164574e-01\n",
            "  3.34088735e-01 2.42800928e-01 4.50474028e-01 6.16583634e-01\n",
            "  7.25113917e-01 3.83484507e-01 5.19942009e-02 3.23103853e-01\n",
            "  1.35870370e-01 7.01107553e-01 3.06873440e-01 2.29850476e-01\n",
            "  2.30440351e-01 4.25544754e-01 6.60834478e-01 1.36366564e-01\n",
            "  6.65240190e-01 5.28242408e-01 3.18755871e-01 5.53319223e-01\n",
            "  3.66457771e-01 4.68323085e-01 4.06956560e-01 1.51079214e-01\n",
            "  1.72573267e-01 3.21358342e-01 2.00986261e-01 5.06087662e-01\n",
            "  5.36148066e-01 6.76920928e-01 6.00535263e-01 6.88022686e-01\n",
            "  2.55885706e-01 4.11287424e-01 5.82911255e-01 3.02487187e-01\n",
            "  4.20093508e-01 5.66414553e-02 5.28517595e-01 6.48455837e-01\n",
            "  6.74783599e-01 2.56689986e-01 2.94273515e-01 1.98309971e-01\n",
            "  2.50477724e-01 2.47618676e-01 2.41622740e-01 3.15382655e-01\n",
            "  6.21427524e-01 1.28772535e-01 4.65558181e-01 3.00929716e-01\n",
            "  3.76795762e-01 3.13394882e-01 2.46210282e-01 6.50538474e-01\n",
            "  1.73339628e-01 7.61399578e-01 4.21165402e-01 3.01511959e-01\n",
            "  6.13015427e-01 2.68260118e-01 3.70344784e-01 6.92286700e-01\n",
            "  3.02429508e-01 7.46644417e-01 5.62283811e-02 6.04565084e-01\n",
            "  5.17053083e-01 4.83591759e-01 3.39784483e-01 2.28472840e-01\n",
            "  5.14509351e-01 2.86277011e-01 1.81614106e-01 3.01806494e-01\n",
            "  8.96748350e-01 6.79914398e-01 4.91138090e-01 3.59457921e-01\n",
            "  8.56238886e-02 6.92299952e-01 5.53856662e-01 6.83504900e-01\n",
            "  3.90226490e-01 1.76070412e-01 4.31288194e-01 4.97651248e-01\n",
            "  2.43153711e-01 8.53186967e-01 5.89771870e-01 7.61060416e-01]\n",
            " [5.09692693e-01 2.08303778e-01 5.85245098e-01 4.83948068e-01\n",
            "  7.04225571e-01 6.35980367e-01 0.00000000e+00 9.77870838e-01\n",
            "  9.68941580e-01 6.77003429e-01 1.95972560e-01 5.10904629e-01\n",
            "  1.62254825e-01 6.94767530e-01 6.74946461e-01 7.68449168e-01\n",
            "  7.09964464e-01 1.16063933e-01 8.62050171e-01 4.56039017e-01\n",
            "  7.53706009e-01 2.39582497e-01 4.49083345e-01 5.26581149e-01\n",
            "  4.60019295e-01 8.20842694e-01 4.22935871e-01 3.21683031e-01\n",
            "  9.73777186e-01 5.17952231e-01 8.45344508e-01 7.52191801e-01\n",
            "  4.86726805e-01 8.57742522e-01 5.56479802e-01 6.44572134e-01\n",
            "  5.50575275e-01 6.19853406e-02 6.86002976e-01 5.55716414e-01\n",
            "  7.93360679e-01 5.24621005e-01 4.52668681e-01 9.26043912e-01\n",
            "  2.59299154e-01 6.68677325e-01 2.40089673e-01 1.58583837e-01\n",
            "  1.40300667e-01 5.86673065e-01 3.94673023e-01 5.63248437e-01\n",
            "  8.85947609e-01 3.88831116e-01 7.43599476e-01 7.35885188e-01\n",
            "  4.43177692e-01 6.69153937e-01 2.79196071e-01 4.90556293e-01\n",
            "  2.60454761e-01 7.18736032e-01 4.28559676e-01 6.68313212e-01\n",
            "  8.06415611e-01 3.59043124e-01 2.14855778e-01 3.69760956e-01\n",
            "  4.39235427e-02 9.03644008e-01 2.66570695e-01 1.19636313e-01\n",
            "  3.33562204e-01 3.86637385e-01 5.80664122e-01 6.03364179e-01\n",
            "  3.35367394e-01 5.15468840e-01 7.29778127e-01 8.41714412e-01\n",
            "  7.75997882e-01 7.00368402e-01 8.17553573e-01 9.24347797e-01\n",
            "  3.25536366e-01 1.26048273e-01 1.95826944e-01 3.87657551e-01\n",
            "  6.61738540e-01 8.54602316e-01 6.26790523e-01 4.77656893e-01\n",
            "  6.69011709e-01 4.83455473e-01 8.94994849e-01 2.71981061e-01\n",
            "  4.00644568e-01 2.68284757e-01 2.67361114e-01 1.38836883e-01]\n",
            " [9.71839220e-01 9.57506005e-01 3.93956572e-01 5.17969826e-01\n",
            "  3.51719797e-01 3.46164574e-01 9.77870838e-01 0.00000000e+00\n",
            "  3.41285027e-02 4.62741655e-01 7.96054477e-01 8.47286172e-01\n",
            "  1.07127601e+00 5.02606857e-01 3.18538671e-01 3.71576122e-01\n",
            "  3.33322232e-01 1.04696619e+00 3.40016046e-01 5.38197924e-01\n",
            "  2.91966526e-01 7.71648642e-01 9.77564397e-01 4.54237508e-01\n",
            "  9.80147995e-01 6.89243846e-01 6.49186402e-01 8.44135761e-01\n",
            "  1.09312260e-01 7.61244049e-01 5.10685409e-01 2.33726869e-01\n",
            "  4.94802767e-01 2.55971368e-01 5.05312284e-01 7.54807437e-01\n",
            "  8.21025522e-01 1.02131309e+00 8.43920963e-01 9.83510146e-01\n",
            "  2.64907285e-01 7.02653876e-01 8.32968463e-01 6.60791800e-02\n",
            "  7.45027245e-01 3.09198443e-01 8.41215545e-01 9.94322030e-01\n",
            "  1.00258307e+00 5.33770833e-01 6.34853378e-01 4.99784255e-01\n",
            "  1.24394008e-01 5.89508761e-01 3.14738129e-01 4.91354057e-01\n",
            "  9.37213177e-01 3.24148630e-01 7.75723402e-01 5.62132510e-01\n",
            "  7.17425257e-01 5.02717478e-01 5.87565546e-01 9.07796484e-01\n",
            "  1.98591665e-01 1.09738110e+00 7.64000165e-01 6.22808907e-01\n",
            "  9.57152813e-01 8.55229129e-02 7.11304526e-01 1.03830067e+00\n",
            "  6.45710111e-01 1.07846317e+00 4.02380023e-01 7.95646636e-01\n",
            "  8.49933358e-01 7.07768765e-01 5.23620514e-01 2.30010713e-01\n",
            "  6.99374411e-01 4.01403586e-01 1.70051474e-01 6.99902037e-02\n",
            "  1.24241135e+00 1.00998851e+00 8.18458512e-01 6.92876523e-01\n",
            "  3.52705504e-01 8.79003416e-01 8.14237497e-01 9.32107461e-01\n",
            "  6.17708062e-01 5.18483840e-01 4.96945593e-01 8.38702580e-01\n",
            "  5.89316324e-01 1.19930799e+00 8.93248788e-01 1.10581863e+00]\n",
            " [9.47399403e-01 9.41734668e-01 3.88007512e-01 5.02696496e-01\n",
            "  3.62481928e-01 3.34088735e-01 9.68941580e-01 3.41285027e-02\n",
            "  0.00000000e+00 4.35500579e-01 7.84536209e-01 8.56953449e-01\n",
            "  1.05809342e+00 5.18601811e-01 3.02382882e-01 3.89751810e-01\n",
            "  3.09522576e-01 1.03499183e+00 3.06932425e-01 5.35373104e-01\n",
            "  3.04174692e-01 7.58306190e-01 9.54754512e-01 4.48770309e-01\n",
            "  9.57059757e-01 6.56881338e-01 6.30048639e-01 8.46250006e-01\n",
            "  1.41621857e-01 7.36327393e-01 4.77652393e-01 2.34458809e-01\n",
            "  4.89304826e-01 2.78722677e-01 4.83955387e-01 7.26305972e-01\n",
            "  7.95030721e-01 1.01090539e+00 8.14666587e-01 9.57994335e-01\n",
            "  2.80448039e-01 6.77928782e-01 8.40353614e-01 8.45393646e-02\n",
            "  7.40770375e-01 3.01659195e-01 8.39740315e-01 9.80217689e-01\n",
            "  9.98324763e-01 5.09383360e-01 6.18302169e-01 4.78215640e-01\n",
            "  9.79877922e-02 5.80116440e-01 3.27534452e-01 4.61184795e-01\n",
            "  9.14373945e-01 3.25018130e-01 7.74425480e-01 5.65594276e-01\n",
            "  7.08786586e-01 4.73045063e-01 5.71509202e-01 8.79223740e-01\n",
            "  1.76908380e-01 1.07819560e+00 7.54441849e-01 6.18655740e-01\n",
            "  9.46917897e-01 6.61559938e-02 7.02524967e-01 1.02599944e+00\n",
            "  6.35798939e-01 1.05823659e+00 3.90196610e-01 8.09008922e-01\n",
            "  8.30474283e-01 7.17055448e-01 4.93403995e-01 1.99838673e-01\n",
            "  6.67835480e-01 4.14795046e-01 1.53661947e-01 8.88966950e-02\n",
            "  1.22782907e+00 1.00515421e+00 8.13909564e-01 6.74130480e-01\n",
            "  3.33070790e-01 8.46883500e-01 7.86254602e-01 9.40201851e-01\n",
            "  5.88824247e-01 5.03213442e-01 4.63201618e-01 8.21666911e-01\n",
            "  5.76551003e-01 1.18575150e+00 8.93579993e-01 1.09512357e+00]\n",
            " [5.17224180e-01 5.77268075e-01 3.12010149e-01 2.26790499e-01\n",
            "  4.75995285e-01 2.42800928e-01 6.77003429e-01 4.62741655e-01\n",
            "  4.35500579e-01 0.00000000e+00 4.82207108e-01 8.11608068e-01\n",
            "  7.13523415e-01 6.24429381e-01 2.11535577e-01 5.63572164e-01\n",
            "  1.40256687e-01 7.04345795e-01 1.96247159e-01 4.10479592e-01\n",
            "  4.65168969e-01 4.37615594e-01 5.32352438e-01 3.35424324e-01\n",
            "  5.33097788e-01 2.85442380e-01 2.59045773e-01 7.05101546e-01\n",
            "  5.29932579e-01 3.05929566e-01 1.89052417e-01 3.65377283e-01\n",
            "  3.52388506e-01 5.41447905e-01 1.25195436e-01 2.93808295e-01\n",
            "  3.60681436e-01 6.98907685e-01 3.85622661e-01 5.24351640e-01\n",
            "  4.83466398e-01 2.49418859e-01 7.67821491e-01 4.50462511e-01\n",
            "  5.36960417e-01 2.92268490e-01 6.54010020e-01 6.30472583e-01\n",
            "  7.58994536e-01 9.53863481e-02 2.82727398e-01 1.19125004e-01\n",
            "  3.38424664e-01 3.52240058e-01 4.79649787e-01 7.87347900e-02\n",
            "  4.92368176e-01 3.70660589e-01 6.01856419e-01 5.07037626e-01\n",
            "  4.55537130e-01 7.20003554e-02 2.55653940e-01 4.46515426e-01\n",
            "  2.70342037e-01 6.78138644e-01 4.80944458e-01 4.46597188e-01\n",
            "  6.41874644e-01 3.78685753e-01 4.48787558e-01 6.92415797e-01\n",
            "  3.83502950e-01 6.50843174e-01 2.38728030e-01 8.19272161e-01\n",
            "  4.36724718e-01 6.90856998e-01 9.78699146e-02 2.39503449e-01\n",
            "  2.73406441e-01 5.29076130e-01 3.09048000e-01 4.52039608e-01\n",
            "  8.62994805e-01 7.58257188e-01 5.93454268e-01 3.01104936e-01\n",
            "  1.61509967e-01 4.54169390e-01 3.51873326e-01 8.63271338e-01\n",
            "  1.60352370e-01 2.27079528e-01 2.30034723e-01 4.52322107e-01\n",
            "  3.04372056e-01 8.31959902e-01 7.23012969e-01 7.74676454e-01]\n",
            " [4.26944307e-01 1.98182884e-01 4.10364603e-01 2.90174704e-01\n",
            "  5.55091596e-01 4.50474028e-01 1.95972560e-01 7.96054477e-01\n",
            "  7.84536209e-01 4.82207108e-01 0.00000000e+00 5.13355188e-01\n",
            "  2.78594411e-01 5.84707151e-01 4.85689774e-01 6.31167902e-01\n",
            "  5.15466894e-01 2.51054938e-01 6.66083604e-01 3.05169028e-01\n",
            "  5.97003906e-01 5.13103344e-02 3.79849507e-01 3.56132531e-01\n",
            "  3.89746051e-01 6.47336711e-01 2.33238357e-01 3.34278639e-01\n",
            "  8.02387987e-01 3.63716177e-01 6.54755664e-01 5.78175773e-01\n",
            "  3.19247550e-01 7.03472922e-01 3.60716872e-01 4.86777911e-01\n",
            "  4.12487224e-01 2.27940034e-01 5.45512518e-01 4.69640266e-01\n",
            "  6.35812613e-01 3.55426481e-01 4.53667406e-01 7.48153613e-01\n",
            "  1.74194830e-01 4.88789903e-01 2.49503024e-01 2.09826852e-01\n",
            "  2.86364369e-01 3.93612922e-01 1.99482643e-01 3.67461665e-01\n",
            "  6.97941013e-01 2.10300954e-01 5.90932413e-01 5.43594537e-01\n",
            "  3.57237521e-01 5.01784951e-01 2.39207782e-01 3.72063180e-01\n",
            "  1.01769634e-01 5.26936491e-01 2.32656044e-01 5.44801259e-01\n",
            "  6.17233863e-01 3.78339169e-01 5.61566166e-02 2.30002624e-01\n",
            "  1.65387734e-01 7.18608914e-01 1.04416134e-01 2.42900977e-01\n",
            "  1.53687056e-01 3.84561856e-01 3.94339756e-01 5.80884052e-01\n",
            "  2.19009084e-01 4.64266427e-01 5.39646758e-01 6.48179915e-01\n",
            "  6.05117829e-01 5.64049199e-01 6.31515765e-01 7.46866269e-01\n",
            "  4.55123952e-01 2.82216927e-01 1.70776314e-01 2.04124800e-01\n",
            "  4.68814576e-01 7.08466206e-01 4.83008706e-01 5.16026856e-01\n",
            "  4.87850280e-01 2.89671099e-01 7.03375849e-01 1.49700272e-01\n",
            "  2.09109595e-01 4.07089679e-01 3.13334351e-01 3.11132980e-01]\n",
            " [9.40187060e-01 6.80664838e-01 5.31788164e-01 5.92407635e-01\n",
            "  4.95581854e-01 6.16583634e-01 5.10904629e-01 8.47286172e-01\n",
            "  8.56953449e-01 8.11608068e-01 5.13355188e-01 0.00000000e+00\n",
            "  6.73124692e-01 3.66258663e-01 6.68385963e-01 4.96695411e-01\n",
            "  7.49189933e-01 6.26753429e-01 9.23156368e-01 4.01774350e-01\n",
            "  5.55747487e-01 5.52153307e-01 8.92559093e-01 4.86384446e-01\n",
            "  9.02635905e-01 1.06668807e+00 6.65427869e-01 1.90839840e-01\n",
            "  7.86628978e-01 8.45192561e-01 9.99044117e-01 6.29679983e-01\n",
            "  4.61355098e-01 6.21403010e-01 6.99758415e-01 9.52495337e-01\n",
            "  9.05733993e-01 5.71421080e-01 1.02901846e+00 9.82403456e-01\n",
            "  5.86593002e-01 8.16280983e-01 6.03264707e-02 7.81553789e-01\n",
            "  3.43516490e-01 6.04489782e-01 2.78609729e-01 6.54517927e-01\n",
            "  4.06055994e-01 7.62719044e-01 6.08119614e-01 7.03617365e-01\n",
            "  8.16010395e-01 4.76356631e-01 5.33657863e-01 8.90077582e-01\n",
            "  8.70572200e-01 5.45354756e-01 2.74198600e-01 3.15658897e-01\n",
            "  4.40683172e-01 8.80297918e-01 5.98153077e-01 1.04253625e+00\n",
            "  7.63254955e-01 8.56855870e-01 4.62532880e-01 3.75368390e-01\n",
            "  5.34684773e-01 8.07925519e-01 4.43972515e-01 6.30439115e-01\n",
            "  4.73693703e-01 8.75613233e-01 5.88706722e-01 1.07364134e-01\n",
            "  7.31531415e-01 1.40031021e-01 9.03119903e-01 8.36704482e-01\n",
            "  1.03507476e+00 4.49417291e-01 7.47417391e-01 7.77912766e-01\n",
            "  8.25379352e-01 4.24270811e-01 3.50259676e-01 6.64078689e-01\n",
            "  6.93336802e-01 1.17728825e+00 9.66668630e-01 9.42428886e-02\n",
            "  9.00701493e-01 5.92261579e-01 1.03348420e+00 6.63028906e-01\n",
            "  5.36286207e-01 7.66933361e-01 2.44846213e-01 6.28959104e-01]\n",
            " [4.16695289e-01 1.42614598e-01 6.88824108e-01 5.56695600e-01\n",
            "  8.29718389e-01 7.25113917e-01 1.62254825e-01 1.07127601e+00\n",
            "  1.05809342e+00 7.13523415e-01 2.78594411e-01 6.73124692e-01\n",
            "  0.00000000e+00 8.39828497e-01 7.56531357e-01 9.01470529e-01\n",
            "  7.74810167e-01 4.65783965e-02 9.07878127e-01 5.78439175e-01\n",
            "  8.73989357e-01 2.99787900e-01 3.52627381e-01 6.34646970e-01\n",
            "  3.62985883e-01 8.01119917e-01 4.55568503e-01 4.83862338e-01\n",
            "  1.08077995e+00 4.89478774e-01 8.60417890e-01 8.56474152e-01\n",
            "  5.97339974e-01 9.80130594e-01 6.04954555e-01 6.10894934e-01\n",
            "  5.01894288e-01 1.02391131e-01 6.30636524e-01 4.61223300e-01\n",
            "  9.13088406e-01 5.13987625e-01 6.14918693e-01 1.02524027e+00\n",
            "  4.01913103e-01 7.65986473e-01 4.01053308e-01 8.31085827e-02\n",
            "  2.86614078e-01 6.18451898e-01 4.47249077e-01 6.11789423e-01\n",
            "  9.68552509e-01 4.88875173e-01 8.66827572e-01 7.59474070e-01\n",
            "  3.60407303e-01 7.80272185e-01 4.34566687e-01 6.29978237e-01\n",
            "  3.72355517e-01 7.41148129e-01 4.90732746e-01 5.97374009e-01\n",
            "  8.86970546e-01 2.16547571e-01 3.21862635e-01 4.96676308e-01\n",
            "  1.45826207e-01 9.91954041e-01 3.76861335e-01 4.37073032e-02\n",
            "  4.32279059e-01 2.53017196e-01 6.68908965e-01 7.65263549e-01\n",
            "  2.99594859e-01 6.73881939e-01 7.46681816e-01 9.09129118e-01\n",
            "  7.53774084e-01 8.33537198e-01 9.04483637e-01 1.02408870e+00\n",
            "  1.78056713e-01 2.68964094e-01 3.48541776e-01 4.12500046e-01\n",
            "  7.33711390e-01 7.98281923e-01 5.78326585e-01 6.37431999e-01\n",
            "  6.68137692e-01 5.56177866e-01 9.12316656e-01 2.62735613e-01\n",
            "  4.81960280e-01 1.28559453e-01 4.29188500e-01 9.15128336e-02]\n",
            " [9.52005025e-01 7.82887321e-01 3.14498182e-01 4.67720847e-01\n",
            "  1.69307484e-01 3.83484507e-01 6.94767530e-01 5.02606857e-01\n",
            "  5.18601811e-01 6.24429381e-01 5.84707151e-01 3.66258663e-01\n",
            "  8.39828497e-01 0.00000000e+00 4.25203353e-01 1.34024328e-01\n",
            "  5.13340449e-01 7.99943664e-01 6.66086415e-01 2.95870300e-01\n",
            "  2.17950732e-01 5.94903996e-01 9.24656290e-01 3.11680234e-01\n",
            "  9.32263473e-01 9.09022746e-01 6.03117173e-01 4.34832276e-01\n",
            "  4.28081425e-01 7.88324745e-01 7.88468709e-01 3.19602345e-01\n",
            "  3.20437836e-01 2.59231909e-01 5.52696901e-01 8.58864573e-01\n",
            "  8.57840295e-01 7.54083094e-01 9.50458743e-01 9.84339093e-01\n",
            "  2.38188515e-01 7.39818151e-01 3.70474091e-01 4.36846966e-01\n",
            "  4.38240733e-01 3.42984350e-01 4.76523793e-01 7.87267988e-01\n",
            "  6.52701940e-01 6.18041948e-01 5.51759436e-01 5.53059052e-01\n",
            "  5.01152363e-01 4.15404319e-01 1.94172566e-01 6.98669968e-01\n",
            "  8.90959899e-01 2.63530865e-01 4.20607094e-01 2.12699222e-01\n",
            "  4.83014357e-01 6.95897576e-01 5.15504602e-01 9.88081744e-01\n",
            "  4.71675359e-01 9.61888203e-01 5.30517382e-01 3.55497184e-01\n",
            "  6.96076366e-01 4.81439255e-01 4.80889334e-01 7.97310056e-01\n",
            "  4.55230085e-01 9.63832802e-01 3.89287378e-01 2.96890056e-01\n",
            "  7.57174463e-01 2.38894166e-01 7.22133209e-01 5.54330388e-01\n",
            "  8.91452965e-01 1.09580941e-01 4.43143036e-01 4.32777019e-01\n",
            "  1.01569056e+00 6.66760501e-01 4.99275876e-01 6.26375414e-01\n",
            "  4.68755932e-01 1.06344191e+00 8.95476849e-01 4.58814995e-01\n",
            "  7.60979231e-01 4.67913375e-01 8.08320264e-01 7.06659649e-01\n",
            "  4.66034585e-01 9.60446917e-01 4.98914454e-01 8.33197113e-01]\n",
            " [6.70199213e-01 6.39443848e-01 1.36599916e-01 2.00352949e-01\n",
            "  2.67695645e-01 5.19942009e-02 6.74946461e-01 3.18538671e-01\n",
            "  3.02382882e-01 2.11535577e-01 4.85689774e-01 6.68385963e-01\n",
            "  7.56531357e-01 4.25203353e-01 0.00000000e+00 3.53084651e-01\n",
            "  8.83547883e-02 7.34780545e-01 2.55523315e-01 2.80991232e-01\n",
            "  2.53635671e-01 4.56920154e-01 6.68761957e-01 1.87767864e-01\n",
            "  6.72382881e-01 4.94849102e-01 3.32461465e-01 6.04166756e-01\n",
            "  3.53439806e-01 4.65455652e-01 3.63273013e-01 1.57071526e-01\n",
            "  2.22810324e-01 3.33544967e-01 1.97711070e-01 4.90212344e-01\n",
            "  5.31204806e-01 7.13362559e-01 5.84527234e-01 6.87783673e-01\n",
            "  2.72872852e-01 4.07129557e-01 6.34904606e-01 2.82677600e-01\n",
            "  4.67012372e-01 8.31431946e-02 5.77163997e-01 6.78084461e-01\n",
            "  7.19773431e-01 2.43624829e-01 3.16353073e-01 1.93482279e-01\n",
            "  2.12380716e-01 2.89270551e-01 2.68470411e-01 2.78673031e-01\n",
            "  6.28776422e-01 1.63389641e-01 5.14852510e-01 3.52729808e-01\n",
            "  4.17974860e-01 2.79073374e-01 2.69249738e-01 6.38551094e-01\n",
            "  1.31615897e-01 7.79908472e-01 4.60302725e-01 3.50189721e-01\n",
            "  6.49948993e-01 2.36296642e-01 4.11348142e-01 7.25379589e-01\n",
            "  3.42107452e-01 7.62467885e-01 9.69309657e-02 6.54892808e-01\n",
            "  5.33118790e-01 5.34910479e-01 3.05481819e-01 1.78206274e-01\n",
            "  4.84915677e-01 3.23588753e-01 1.48948742e-01 2.82716823e-01\n",
            "  9.25491888e-01 7.24222817e-01 5.37025028e-01 3.75442814e-01\n",
            "  5.07951807e-02 6.65448682e-01 5.41727785e-01 7.35495156e-01\n",
            "  3.66767848e-01 2.00870351e-01 3.84557326e-01 5.20164000e-01\n",
            "  2.76617033e-01 8.83850295e-01 6.39382489e-01 7.96820639e-01]\n",
            " [9.55483418e-01 8.25923591e-01 2.78058382e-01 4.51536180e-01\n",
            "  9.16412863e-02 3.23103853e-01 7.68449168e-01 3.71576122e-01\n",
            "  3.89751810e-01 5.63572164e-01 6.31167902e-01 4.96695411e-01\n",
            "  9.01470529e-01 1.34024328e-01 3.53084651e-01 0.00000000e+00\n",
            "  4.36637265e-01 8.65298492e-01 5.70433399e-01 3.26150939e-01\n",
            "  1.05688165e-01 6.30684919e-01 9.36620588e-01 3.01506181e-01\n",
            "  9.43029728e-01 8.47899238e-01 5.98531130e-01 5.42776663e-01\n",
            "  2.94064992e-01 7.73039455e-01 7.09161607e-01 2.16591416e-01\n",
            "  3.25951094e-01 1.25413555e-01 5.16207968e-01 8.25610651e-01\n",
            "  8.42651139e-01 8.24434807e-01 9.19615508e-01 9.82985477e-01\n",
            "  1.11821919e-01 7.19458140e-01 4.95276810e-01 3.06482073e-01\n",
            "  5.09422863e-01 2.71304109e-01 5.70188129e-01 8.40208124e-01\n",
            "  7.46346529e-01 5.77026566e-01 5.54680065e-01 5.14918301e-01\n",
            "  3.83428089e-01 4.35795207e-01 8.59109319e-02 6.31608948e-01\n",
            "  9.00036040e-01 1.94471321e-01 5.08566234e-01 2.79680583e-01\n",
            "  5.31185383e-01 6.32116238e-01 5.11688515e-01 9.65285978e-01\n",
            "  3.67684886e-01 9.98332558e-01 5.81379358e-01 4.04821617e-01\n",
            "  7.62896886e-01 3.58514579e-01 5.27510380e-01 8.60776494e-01\n",
            "  4.85681245e-01 9.94352910e-01 3.47524664e-01 4.30892818e-01\n",
            "  7.74878835e-01 3.63576188e-01 6.58540139e-01 4.51010282e-01\n",
            "  8.36671792e-01 6.81342473e-02 3.33621749e-01 3.02290705e-01\n",
            "  1.07943040e+00 7.58621096e-01 5.77991760e-01 6.29548975e-01\n",
            "  4.02171616e-01 1.01533555e+00 8.69596084e-01 5.87743851e-01\n",
            "  7.13288487e-01 4.51858379e-01 7.22070752e-01 7.33980193e-01\n",
            "  4.74128422e-01 1.02674528e+00 6.03400624e-01 9.07002529e-01]\n",
            " [6.38517536e-01 6.48525251e-01 2.19611270e-01 2.26114033e-01\n",
            "  3.53785144e-01 1.35870370e-01 7.09964464e-01 3.33322232e-01\n",
            "  3.09522576e-01 1.40256687e-01 5.15466894e-01 7.49189933e-01\n",
            "  7.74810167e-01 5.13340449e-01 8.83547883e-02 4.36637265e-01\n",
            "  0.00000000e+00 7.57872878e-01 1.75259836e-01 3.53687346e-01\n",
            "  3.34210956e-01 4.79758880e-01 6.45277669e-01 2.63449494e-01\n",
            "  6.47539170e-01 4.14414449e-01 3.28192786e-01 6.72795328e-01\n",
            "  3.92047650e-01 4.28104266e-01 2.75349360e-01 2.29190539e-01\n",
            "  2.93532643e-01 4.03574684e-01 1.77433985e-01 4.32295918e-01\n",
            "  4.89090831e-01 7.42489852e-01 5.25052934e-01 6.50744903e-01\n",
            "  3.48526901e-01 3.69435234e-01 7.12954818e-01 3.13853934e-01\n",
            "  5.23631982e-01 1.70544619e-01 6.37754496e-01 6.93646658e-01\n",
            "  7.68885425e-01 2.00489225e-01 3.27562183e-01 1.71217117e-01\n",
            "  2.11699008e-01 3.37907233e-01 3.51053640e-01 1.97016241e-01\n",
            "  6.04894266e-01 2.50697578e-01 5.78044535e-01 4.34145421e-01\n",
            "  4.61705819e-01 2.00328071e-01 2.85279378e-01 5.84216161e-01\n",
            "  1.35400703e-01 7.73465362e-01 4.98738648e-01 4.13468033e-01\n",
            "  6.80793899e-01 2.47850492e-01 4.54847659e-01 7.47369921e-01\n",
            "  3.84762973e-01 7.51424672e-01 1.62405265e-01 7.40182711e-01\n",
            "  5.25962465e-01 6.18068827e-01 2.26164124e-01 1.34328700e-01\n",
            "  4.08772489e-01 4.10721493e-01 1.71275276e-01 3.15089793e-01\n",
            "  9.37085750e-01 7.71530110e-01 5.90063470e-01 3.72996611e-01\n",
            "  5.68217952e-02 5.91225513e-01 4.88456760e-01 8.12679465e-01\n",
            "  3.00572645e-01 2.26600708e-01 2.96305142e-01 5.24858222e-01\n",
            "  3.10402007e-01 8.99561025e-01 7.02842256e-01 8.23759619e-01]\n",
            " [4.43469843e-01 1.51711218e-01 6.60612073e-01 5.36303776e-01\n",
            "  7.95650103e-01 7.01107553e-01 1.16063933e-01 1.04696619e+00\n",
            "  1.03499183e+00 7.04345795e-01 2.51054938e-01 6.26753429e-01\n",
            "  4.65783965e-02 7.99943664e-01 7.34780545e-01 8.65298492e-01\n",
            "  7.57872878e-01 0.00000000e+00 8.96841443e-01 5.44532885e-01\n",
            "  8.41519537e-01 2.78719716e-01 3.79829895e-01 6.04956122e-01\n",
            "  3.90490668e-01 8.08516978e-01 4.45316163e-01 4.37745286e-01\n",
            "  1.05252670e+00 4.97387721e-01 8.58026809e-01 8.28582936e-01\n",
            "  5.66770620e-01 9.47216081e-01 5.91713606e-01 6.21360552e-01\n",
            "  5.15950130e-01 5.58233525e-02 6.47601906e-01 4.88817899e-01\n",
            "  8.80850274e-01 5.16895875e-01 5.68676947e-01 9.99170012e-01\n",
            "  3.61706464e-01 7.39821940e-01 3.55593594e-01 8.70252177e-02\n",
            "  2.41069224e-01 6.10039107e-01 4.31299592e-01 5.98578814e-01\n",
            "  9.47151990e-01 4.60479165e-01 8.33487112e-01 7.54220209e-01\n",
            "  3.83356982e-01 7.50228279e-01 3.90991593e-01 5.91458412e-01\n",
            "  3.39623064e-01 7.36142290e-01 4.72654986e-01 6.18755065e-01\n",
            "  8.65947426e-01 2.57476258e-01 2.89504687e-01 4.61142864e-01\n",
            "  1.03886877e-01 9.68964505e-01 3.44595223e-01 1.38128801e-02\n",
            "  4.03682474e-01 2.91280498e-01 6.44903583e-01 7.19381711e-01\n",
            "  3.06482326e-01 6.29524291e-01 7.43281957e-01 8.91924633e-01\n",
            "  7.61690878e-01 7.97225281e-01 8.81684896e-01 9.97858461e-01\n",
            "  2.15748174e-01 2.23661069e-01 3.05458728e-01 4.03814577e-01\n",
            "  7.14581262e-01 8.16269857e-01 5.92927282e-01 5.90898402e-01\n",
            "  6.69423018e-01 5.35788922e-01 9.09460526e-01 2.60147068e-01\n",
            "  4.58550142e-01 1.61475191e-01 3.82680137e-01 7.31392956e-02]\n",
            " [6.98669309e-01 7.72905458e-01 3.91719679e-01 3.86311699e-01\n",
            "  4.98799277e-01 3.06873440e-01 8.62050171e-01 3.40016046e-01\n",
            "  3.06932425e-01 1.96247159e-01 6.66083604e-01 9.23156368e-01\n",
            "  9.07878127e-01 6.66086415e-01 2.55523315e-01 5.70433399e-01\n",
            "  1.75259836e-01 8.96841443e-01 0.00000000e+00 5.28946825e-01\n",
            "  4.64751792e-01 6.24769806e-01 7.20391027e-01 4.38383597e-01\n",
            "  7.20115780e-01 3.51351540e-01 4.52337974e-01 8.47184466e-01\n",
            "  4.34131629e-01 4.91087729e-01 1.70720927e-01 3.53901817e-01\n",
            "  4.68772075e-01 5.06116400e-01 3.06293060e-01 4.47762159e-01\n",
            "  5.37018889e-01 8.88260959e-01 5.27941657e-01 6.99594804e-01\n",
            "  4.67090905e-01 4.38053793e-01 8.87879809e-01 3.54743754e-01\n",
            "  6.93698478e-01 3.28834450e-01 8.09177002e-01 8.24986106e-01\n",
            "  9.32474011e-01 2.91421707e-01 4.68541129e-01 2.99451423e-01\n",
            "  2.27746242e-01 5.06229139e-01 4.85642473e-01 1.79025708e-01\n",
            "  6.81095407e-01 4.04307397e-01 7.50829509e-01 6.07612762e-01\n",
            "  6.24704016e-01 1.95806408e-01 4.33787701e-01 5.96868030e-01\n",
            "  2.04891500e-01 8.72641880e-01 6.57132675e-01 5.86995961e-01\n",
            "  8.29226229e-01 2.71164100e-01 6.17810125e-01 8.85253938e-01\n",
            "  5.48622918e-01 8.43933790e-01 3.37665023e-01 9.09954238e-01\n",
            "  6.32810579e-01 7.90401132e-01 2.08100087e-01 1.25301989e-01\n",
            "  3.66443170e-01 5.58431886e-01 2.43820529e-01 3.57883741e-01\n",
            "  1.05915220e+00 9.33713922e-01 7.57607473e-01 4.95542590e-01\n",
            "  2.32042343e-01 5.41902320e-01 5.10650542e-01 9.87788631e-01\n",
            "  3.11955956e-01 3.86741909e-01 1.61268453e-01 6.47786327e-01\n",
            "  4.70863430e-01 1.02753556e+00 8.75361356e-01 9.66101985e-01]\n",
            " [6.56793197e-01 5.00008716e-01 1.51907835e-01 2.00026107e-01\n",
            "  2.51291570e-01 2.29850476e-01 4.56039017e-01 5.38197924e-01\n",
            "  5.35373104e-01 4.10479592e-01 3.05169028e-01 4.01774350e-01\n",
            "  5.78439175e-01 2.95870300e-01 2.80991232e-01 3.26150939e-01\n",
            "  3.53687346e-01 5.44532885e-01 5.28946825e-01 0.00000000e+00\n",
            "  2.97916073e-01 3.05751585e-01 6.28794821e-01 9.35743998e-02\n",
            "  6.36394120e-01 6.75032604e-01 3.14283776e-01 3.23541075e-01\n",
            "  5.20866187e-01 5.02778035e-01 5.97325812e-01 3.05288466e-01\n",
            "  6.03981908e-02 4.02912570e-01 3.04148304e-01 5.87999062e-01\n",
            "  5.71134620e-01 5.07798226e-01 6.75068163e-01 6.90150607e-01\n",
            "  3.37508558e-01 4.59469325e-01 3.61054984e-01 4.80585438e-01\n",
            "  2.07901768e-01 2.38371670e-01 3.04953605e-01 5.14624652e-01\n",
            "  4.64824131e-01 3.69682207e-01 2.59769765e-01 3.07139648e-01\n",
            "  4.66923454e-01 1.19672962e-01 2.89004380e-01 4.89142839e-01\n",
            "  5.95162574e-01 2.17136111e-01 2.40118816e-01 1.04903767e-01\n",
            "  2.06263611e-01 4.80122524e-01 2.29430383e-01 7.05136136e-01\n",
            "  3.97400744e-01 6.74308335e-01 2.56750267e-01 8.69670220e-02\n",
            "  4.44459539e-01 4.73830829e-01 2.02147885e-01 5.38957908e-01\n",
            "  1.61826124e-01 6.72835432e-01 1.91282264e-01 4.12254507e-01\n",
            "  4.61587244e-01 2.81917839e-01 5.03703922e-01 4.58282204e-01\n",
            "  6.47887545e-01 2.59475197e-01 3.94899446e-01 4.78325085e-01\n",
            "  7.56449028e-01 4.72922894e-01 2.81506929e-01 3.32989497e-01\n",
            "  2.96920580e-01 8.05282494e-01 6.16498993e-01 4.59718553e-01\n",
            "  5.12682104e-01 2.00008818e-01 6.31931964e-01 4.13436375e-01\n",
            "  1.73702990e-01 7.05302830e-01 3.62446893e-01 5.92118664e-01]\n",
            " [8.85243870e-01 7.84697275e-01 2.04792396e-01 3.79470012e-01\n",
            "  6.08973045e-02 2.30440351e-01 7.53706009e-01 2.91966526e-01\n",
            "  3.04174692e-01 4.65168969e-01 5.97003906e-01 5.55747487e-01\n",
            "  8.73989357e-01 2.17950732e-01 2.53635671e-01 1.05688165e-01\n",
            "  3.34210956e-01 8.41519537e-01 4.64751792e-01 2.97916073e-01\n",
            "  0.00000000e+00 5.88289203e-01 8.71913291e-01 2.45087036e-01\n",
            "  8.77482795e-01 7.47624368e-01 5.28918970e-01 5.68103711e-01\n",
            "  2.38163899e-01 6.93829391e-01 6.04803171e-01 1.10910634e-01\n",
            "  2.78546656e-01 1.06634911e-01 4.29863599e-01 7.36526677e-01\n",
            "  7.62690393e-01 8.05682838e-01 8.30968451e-01 9.09584976e-01\n",
            "  3.96880432e-02 6.38143363e-01 5.43892253e-01 2.26014528e-01\n",
            "  5.00406037e-01 1.75186543e-01 5.79535708e-01 8.06521324e-01\n",
            "  7.51148087e-01 4.87123974e-01 4.91256806e-01 4.27720813e-01\n",
            "  2.83722414e-01 3.90262029e-01 2.37960804e-02 5.30538746e-01\n",
            "  8.33887263e-01 1.08637887e-01 5.14752837e-01 2.87093946e-01\n",
            "  5.02011846e-01 5.32090953e-01 4.45276045e-01 8.80258978e-01\n",
            "  2.62408960e-01 9.49809206e-01 5.52368626e-01 3.83957391e-01\n",
            "  7.42221545e-01 2.63642710e-01 4.97263345e-01 8.35456234e-01\n",
            "  4.44883187e-01 9.41595629e-01 2.64581597e-01 5.04836448e-01\n",
            "  7.16202745e-01 4.16675257e-01 5.58401176e-01 3.45818395e-01\n",
            "  7.38548770e-01 1.10911621e-01 2.29511489e-01 2.22296298e-01\n",
            "  1.05158528e+00 7.61365346e-01 5.72875259e-01 5.64165292e-01\n",
            "  3.03900899e-01 9.18881977e-01 7.83745179e-01 6.41861623e-01\n",
            "  6.18701189e-01 3.79862019e-01 6.16735263e-01 6.82806339e-01\n",
            "  4.17505079e-01 1.00164585e+00 6.23065812e-01 8.90034721e-01]\n",
            " [3.89634622e-01 1.96476611e-01 3.94039459e-01 2.57681467e-01\n",
            "  5.50465520e-01 4.25544754e-01 2.39582497e-01 7.71648642e-01\n",
            "  7.58306190e-01 4.37615594e-01 5.13103344e-02 5.52153307e-01\n",
            "  2.99787900e-01 5.94903996e-01 4.56920154e-01 6.30684919e-01\n",
            "  4.79758880e-01 2.78719716e-01 6.24769806e-01 3.05751585e-01\n",
            "  5.88289203e-01 0.00000000e+00 3.46978517e-01 3.43898223e-01\n",
            "  3.56324155e-01 5.96165726e-01 1.84414845e-01 3.78092228e-01\n",
            "  7.84432752e-01 3.13551806e-01 6.06867530e-01 5.60216224e-01\n",
            "  3.09985131e-01 6.94896387e-01 3.18506970e-01 4.35918505e-01\n",
            "  3.64238563e-01 2.63873059e-01 4.96238931e-01 4.30812647e-01\n",
            "  6.26280221e-01 3.04151406e-01 4.93174074e-01 7.26580203e-01\n",
            "  2.09022431e-01 4.67846065e-01 2.95664048e-01 2.23335786e-01\n",
            "  3.37093174e-01 3.47143827e-01 1.56234589e-01 3.25337181e-01\n",
            "  6.69131379e-01 1.98044778e-01 5.84216218e-01 4.96610863e-01\n",
            "  3.20891437e-01 4.88643022e-01 2.78631572e-01 3.83971348e-01\n",
            "  1.19414691e-01 4.79633994e-01 1.94549071e-01 4.97970414e-01\n",
            "  5.87706561e-01 3.68618816e-01 8.99012462e-02 2.40238694e-01\n",
            "  2.04599502e-01 6.92168399e-01 1.19077701e-01 2.68811317e-01\n",
            "  1.45073746e-01 3.68929055e-01 3.69392049e-01 6.14152571e-01\n",
            "  1.80522897e-01 4.93270246e-01 4.91479245e-01 6.13561607e-01\n",
            "  5.53840836e-01 5.64821084e-01 6.04703508e-01 7.25559902e-01\n",
            "  4.71792951e-01 3.32410572e-01 2.17231779e-01 1.53309604e-01\n",
            "  4.35862891e-01 6.58221082e-01 4.33561806e-01 5.60107499e-01\n",
            "  4.37259188e-01 2.57165579e-01 6.56040529e-01 1.16340247e-01\n",
            "  1.82504178e-01 4.27659644e-01 3.61292243e-01 3.44055143e-01]\n",
            " [6.40833566e-02 2.40928662e-01 6.67166235e-01 4.93005415e-01\n",
            "  8.48254854e-01 6.60834478e-01 4.49083345e-01 9.77564397e-01\n",
            "  9.54754512e-01 5.32352438e-01 3.79849507e-01 8.92559093e-01\n",
            "  3.52627381e-01 9.24656290e-01 6.68761957e-01 9.36620588e-01\n",
            "  6.45277669e-01 3.79829895e-01 7.20391027e-01 6.28794821e-01\n",
            "  8.71913291e-01 3.46978517e-01 0.00000000e+00 6.35166863e-01\n",
            "  1.09359712e-02 5.04979645e-01 3.43784067e-01 7.09169054e-01\n",
            "  1.02219204e+00 2.29485414e-01 6.17563193e-01 8.11694419e-01\n",
            "  6.12600974e-01 9.74159340e-01 4.73186673e-01 3.12507145e-01\n",
            "  1.97442752e-01 4.18106702e-01 2.98738651e-01 1.08989577e-01\n",
            "  9.05307263e-01 2.83202129e-01 8.32583119e-01 9.50113003e-01\n",
            "  5.53377360e-01 7.15367034e-01 6.21293695e-01 2.98377069e-01\n",
            "  5.88541801e-01 4.46964837e-01 3.82158519e-01 4.78377378e-01\n",
            "  8.56976554e-01 5.09448249e-01 8.74326641e-01 5.44571720e-01\n",
            "  4.03843419e-02 7.63791264e-01 6.18777112e-01 7.20438043e-01\n",
            "  4.66127988e-01 5.26549442e-01 4.26848970e-01 2.51738362e-01\n",
            "  7.78989865e-01 1.84173807e-01 4.33219250e-01 5.79367697e-01\n",
            "  4.07034294e-01 8.92096276e-01 4.65248427e-01 3.66730999e-01\n",
            "  4.71638195e-01 1.42391673e-01 6.13102351e-01 9.60068819e-01\n",
            "  1.69087003e-01 8.40246685e-01 5.20418440e-01 7.68208787e-01\n",
            "  4.57653420e-01 8.76028585e-01 8.09938016e-01 9.50483505e-01\n",
            "  4.15154296e-01 5.75065684e-01 5.44464904e-01 3.07963776e-01\n",
            "  6.27183648e-01 4.58231412e-01 2.60757223e-01 8.88480914e-01\n",
            "  4.19712849e-01 4.92590167e-01 6.68985852e-01 2.31339322e-01\n",
            "  4.63324363e-01 4.13254274e-01 6.77310337e-01 4.43882608e-01]\n",
            " [6.54514195e-01 5.40054833e-01 6.08685515e-02 1.56428966e-01\n",
            "  2.13590623e-01 1.36366564e-01 5.26581149e-01 4.54237508e-01\n",
            "  4.48770309e-01 3.35424324e-01 3.56132531e-01 4.86384446e-01\n",
            "  6.34646970e-01 3.11680234e-01 1.87767864e-01 3.01506181e-01\n",
            "  2.63449494e-01 6.04956122e-01 4.38383597e-01 9.35743998e-02\n",
            "  2.45087036e-01 3.43898223e-01 6.35166863e-01 0.00000000e+00\n",
            "  6.41531346e-01 6.11508986e-01 2.98421221e-01 4.17115434e-01\n",
            "  4.48111642e-01 4.78944980e-01 5.17692995e-01 2.25611719e-01\n",
            "  4.05780819e-02 3.51469818e-01 2.44617367e-01 5.47454761e-01\n",
            "  5.48712125e-01 5.73704028e-01 6.38791759e-01 6.83140339e-01\n",
            "  2.82568599e-01 4.28840596e-01 4.49524896e-01 3.99973373e-01\n",
            "  2.92256460e-01 1.48016396e-01 3.95805148e-01 5.64242038e-01\n",
            "  5.49649894e-01 3.11024768e-01 2.53176023e-01 2.45906779e-01\n",
            "  3.75997514e-01 1.46480857e-01 2.43045893e-01 4.13813077e-01\n",
            "  5.98532276e-01 1.45656581e-01 3.31750701e-01 1.73436927e-01\n",
            "  2.67206596e-01 4.06945174e-01 2.10860227e-01 6.77107167e-01\n",
            "  3.04609413e-01 7.04970067e-01 3.16138521e-01 1.70561800e-01\n",
            "  5.09461952e-01 3.85624163e-01 2.61601318e-01 5.97832516e-01\n",
            "  2.02530044e-01 6.97710543e-01 1.02391116e-01 4.84827659e-01\n",
            "  4.74693675e-01 3.58389436e-01 4.31884630e-01 3.64732547e-01\n",
            "  5.88963248e-01 2.42860904e-01 3.04222250e-01 3.98135952e-01\n",
            "  8.11145213e-01 5.56385334e-01 3.65194643e-01 3.28109148e-01\n",
            "  2.07160890e-01 7.55632259e-01 5.83952392e-01 5.49441669e-01\n",
            "  4.55475566e-01 1.56649282e-01 5.49003424e-01 4.38186965e-01\n",
            "  1.73962766e-01 7.63037926e-01 4.55120566e-01 6.58593534e-01]\n",
            " [5.39643657e-02 2.51861107e-01 6.72804008e-01 4.98316778e-01\n",
            "  8.54425573e-01 6.65240190e-01 4.60019295e-01 9.80147995e-01\n",
            "  9.57059757e-01 5.33097788e-01 3.89746051e-01 9.02635905e-01\n",
            "  3.62985883e-01 9.32263473e-01 6.72382881e-01 9.43029728e-01\n",
            "  6.47539170e-01 3.90490668e-01 7.20115780e-01 6.36394120e-01\n",
            "  8.77482795e-01 3.56324155e-01 1.09359712e-02 6.41531346e-01\n",
            "  0.00000000e+00 4.99856670e-01 3.48932407e-01 7.19505984e-01\n",
            "  1.02581821e+00 2.29028079e-01 6.15082789e-01 8.16196812e-01\n",
            "  6.19436491e-01 9.79412159e-01 4.76306480e-01 3.08163394e-01\n",
            "  1.93881433e-01 4.28958191e-01 2.91545223e-01 9.83846032e-02\n",
            "  9.10646773e-01 2.83720749e-01 8.42692169e-01 9.53354637e-01\n",
            "  5.63105956e-01 7.19988162e-01 6.31697184e-01 3.09214245e-01\n",
            "  5.99473609e-01 4.48677128e-01 3.88398062e-01 4.81397073e-01\n",
            "  8.59212917e-01 5.16936337e-01 8.80148299e-01 5.43734788e-01\n",
            "  4.38208298e-02 7.69245986e-01 6.28770798e-01 7.28602839e-01\n",
            "  4.75348592e-01 5.25813736e-01 4.32679027e-01 2.43056057e-01\n",
            "  7.81556424e-01 1.91393159e-01 4.42904940e-01 5.87842270e-01\n",
            "  4.17966184e-01 8.94650603e-01 4.74382620e-01 3.77419540e-01\n",
            "  4.79786091e-01 1.48843624e-01 6.17974474e-01 9.69723372e-01\n",
            "  1.77716645e-01 8.49580398e-01 5.19148271e-01 7.69627982e-01\n",
            "  4.52693762e-01 8.82740393e-01 8.12873211e-01 9.53772916e-01\n",
            "  4.23069275e-01 5.86001461e-01 5.54766574e-01 3.13901156e-01\n",
            "  6.30342711e-01 4.49830667e-01 2.55193309e-01 8.98948127e-01\n",
            "  4.17849551e-01 4.97907583e-01 6.66328411e-01 2.40947018e-01\n",
            "  4.70143582e-01 4.22143574e-01 6.87908507e-01 4.54296379e-01]\n",
            " [4.58679053e-01 6.59248412e-01 5.95173281e-01 4.76208602e-01\n",
            "  7.61153845e-01 5.28242408e-01 8.20842694e-01 6.89243846e-01\n",
            "  6.56881338e-01 2.85442380e-01 6.47336711e-01 1.06668807e+00\n",
            "  8.01119917e-01 9.09022746e-01 4.94849102e-01 8.47899238e-01\n",
            "  4.14414449e-01 8.08516978e-01 3.51351540e-01 6.75032604e-01\n",
            "  7.47624368e-01 5.96165726e-01 5.04979645e-01 6.11508986e-01\n",
            "  4.99856670e-01 0.00000000e+00 4.21740733e-01 9.34622607e-01\n",
            "  7.76664556e-01 3.11671414e-01 1.83273126e-01 6.43559205e-01\n",
            "  6.21501758e-01 8.16591501e-01 3.70961185e-01 1.94617506e-01\n",
            "  3.10653464e-01 8.22339954e-01 2.25389591e-01 4.39746506e-01\n",
            "  7.62939456e-01 2.96221948e-01 1.01728544e+00 6.95762999e-01\n",
            "  7.55947887e-01 5.76879430e-01 8.68342413e-01 7.22885920e-01\n",
            "  9.32845250e-01 3.05480009e-01 4.72692405e-01 3.68276214e-01\n",
            "  5.70677353e-01 5.90896213e-01 7.63241200e-01 2.17398562e-01\n",
            "  4.74544962e-01 6.55861462e-01 8.27622920e-01 7.77221852e-01\n",
            "  6.60410217e-01 2.15783262e-01 4.71356908e-01 2.96041729e-01\n",
            "  5.23549170e-01 6.86409472e-01 6.68115468e-01 6.91688040e-01\n",
            "  7.78879540e-01 6.14496519e-01 6.54610474e-01 7.94904955e-01\n",
            "  6.03219291e-01 6.46779730e-01 5.20742862e-01 1.08723364e+00\n",
            "  5.02355657e-01 9.56488296e-01 1.89367339e-01 4.62374794e-01\n",
            "  4.79274874e-02 8.14518441e-01 5.65169978e-01 6.98334460e-01\n",
            "  9.09691721e-01 9.27152775e-01 7.96519795e-01 4.43578922e-01\n",
            "  4.45947584e-01 1.90603551e-01 2.45029869e-01 1.10634328e+00\n",
            "  1.66953035e-01 4.76294146e-01 2.16489908e-01 5.52908868e-01\n",
            "  5.32289453e-01 8.95903911e-01 9.38246077e-01 8.81527100e-01]\n",
            " [3.57226301e-01 3.22718396e-01 3.24590249e-01 1.49478425e-01\n",
            "  5.08477353e-01 3.18755871e-01 4.22935871e-01 6.49186402e-01\n",
            "  6.30048639e-01 2.59045773e-01 2.33238357e-01 6.65427869e-01\n",
            "  4.55568503e-01 6.03117173e-01 3.32461465e-01 5.98531130e-01\n",
            "  3.28192786e-01 4.45316163e-01 4.52337974e-01 3.14283776e-01\n",
            "  5.28918970e-01 1.84414845e-01 3.43784067e-01 2.98421221e-01\n",
            "  3.48932407e-01 4.21740733e-01 0.00000000e+00 5.17240123e-01\n",
            "  6.83692882e-01 1.88851887e-01 4.22566269e-01 4.68911762e-01\n",
            "  2.82855720e-01 6.30480717e-01 1.51980525e-01 2.87073080e-01\n",
            "  2.56853733e-01 4.40878254e-01 3.66771066e-01 3.84747935e-01\n",
            "  5.61750427e-01 1.51287562e-01 6.11404194e-01 6.15040820e-01\n",
            "  3.37366392e-01 3.72307860e-01 4.47297203e-01 3.72758662e-01\n",
            "  5.18779514e-01 1.65322776e-01 5.77923993e-02 1.58630665e-01\n",
            "  5.34549911e-01 2.00393793e-01 5.32346685e-01 3.13156508e-01\n",
            "  3.05211629e-01 4.20502520e-01 4.10311392e-01 4.17039787e-01\n",
            "  2.39653898e-01 2.95855210e-01 8.79267105e-02 3.91523480e-01\n",
            "  4.53367742e-01 4.48237289e-01 2.47036469e-01 2.96045021e-01\n",
            "  3.85669806e-01 5.64952064e-01 2.34163704e-01 4.33443515e-01\n",
            "  1.91735990e-01 4.30006816e-01 2.69514635e-01 7.04430658e-01\n",
            "  2.00797696e-01 5.74104927e-01 3.07104515e-01 4.61218943e-01\n",
            "  3.82805374e-01 5.41277605e-01 4.79212399e-01 6.14976943e-01\n",
            "  6.11044265e-01 5.15297656e-01 3.74781702e-01 4.48339878e-02\n",
            "  2.96978506e-01 5.12047001e-01 3.05921189e-01 6.93923401e-01\n",
            "  2.57709835e-01 1.49079098e-01 4.72058982e-01 1.97819145e-01\n",
            "  1.41059139e-01 5.76490310e-01 5.17004547e-01 5.15695840e-01]\n",
            " [7.59679241e-01 4.91196302e-01 4.74332807e-01 4.78331496e-01\n",
            "  5.08485753e-01 5.53319223e-01 3.21683031e-01 8.44135761e-01\n",
            "  8.46250006e-01 7.05101546e-01 3.34278639e-01 1.90839840e-01\n",
            "  4.83862338e-01 4.34832276e-01 6.04166756e-01 5.42776663e-01\n",
            "  6.72795328e-01 4.37745286e-01 8.47184466e-01 3.23541075e-01\n",
            "  5.68103711e-01 3.78092228e-01 7.09169054e-01 4.17115434e-01\n",
            "  7.19505984e-01 9.34622607e-01 5.17240123e-01 0.00000000e+00\n",
            "  8.06100736e-01 6.84808263e-01 8.93844428e-01 6.11815352e-01\n",
            "  3.81489835e-01 6.56702450e-01 5.83572849e-01 8.00137700e-01\n",
            "  7.40499309e-01 3.82920989e-01 8.69414050e-01 8.03129465e-01\n",
            "  6.05380242e-01 6.63645543e-01 1.31434584e-01 7.81789935e-01\n",
            "  1.79923272e-01 5.58975212e-01 8.87743313e-02 4.63701304e-01\n",
            "  2.31570269e-01 6.40199266e-01 4.62926730e-01 5.88659221e-01\n",
            "  7.86068813e-01 3.53111232e-01 5.50333132e-01 7.80756070e-01\n",
            "  6.89690171e-01 5.21236320e-01 1.07088572e-01 2.82740661e-01\n",
            "  2.79019820e-01 7.68181545e-01 4.64765488e-01 8.75544761e-01\n",
            "  7.19776915e-01 6.66233323e-01 2.88769289e-01 2.60996587e-01\n",
            "  3.44002372e-01 7.88346194e-01 2.83914489e-01 4.40820142e-01\n",
            "  3.31620258e-01 6.85737598e-01 5.11695883e-01 2.82156168e-01\n",
            "  5.53085957e-01 2.12143783e-01 7.88163960e-01 7.81787386e-01\n",
            "  8.98349100e-01 4.80595055e-01 7.14165262e-01 7.78847011e-01\n",
            "  6.41207244e-01 2.48461816e-01 1.64835478e-01 5.07164272e-01\n",
            "  6.16121832e-01 1.02559660e+00 8.06535492e-01 1.82018623e-01\n",
            "  7.67825669e-01 4.78050124e-01 9.34393355e-01 4.82994893e-01\n",
            "  4.06114826e-01 5.82825826e-01 6.62566563e-02 4.45413459e-01]\n",
            " [1.02277218e+00 9.76773774e-01 3.92029859e-01 5.41894896e-01\n",
            "  2.98519685e-01 3.66457771e-01 9.73777186e-01 1.09312260e-01\n",
            "  1.41621857e-01 5.29932579e-01 8.02387987e-01 7.86628978e-01\n",
            "  1.08077995e+00 4.28081425e-01 3.53439806e-01 2.94064992e-01\n",
            "  3.92047650e-01 1.05252670e+00 4.34131629e-01 5.20866187e-01\n",
            "  2.38163899e-01 7.84432752e-01 1.02219204e+00 4.48111642e-01\n",
            "  1.02581821e+00 7.76664556e-01 6.83692882e-01 8.06100736e-01\n",
            "  0.00000000e+00 8.15574117e-01 6.02978843e-01 2.24357925e-01\n",
            "  4.87352314e-01 1.69590570e-01 5.50321348e-01 8.23624777e-01\n",
            "  8.79085040e-01 1.02179207e+00 9.15445911e-01 1.03862535e+00\n",
            "  2.02324868e-01 7.56827756e-01 7.79121867e-01 8.09941079e-02\n",
            "  7.28236553e-01 3.17701317e-01 8.14389128e-01 1.00753189e+00\n",
            "  9.83113955e-01 5.89025146e-01 6.60616285e-01 5.45660838e-01\n",
            "  2.06935260e-01 5.92182561e-01 2.57255017e-01 5.69806671e-01\n",
            "  9.82216207e-01 3.04735462e-01 7.49105445e-01 5.24289938e-01\n",
            "  7.15270848e-01 5.78919251e-01 6.12525651e-01 9.75997994e-01\n",
            "  2.59930492e-01 1.12784543e+00 7.64215808e-01 6.07750572e-01\n",
            "  9.57564232e-01 1.63149021e-01 7.09706839e-01 1.04502952e+00\n",
            "  6.48950222e-01 1.11284001e+00 4.20113015e-01 7.24889360e-01\n",
            "  8.83177421e-01 6.49647929e-01 6.01888669e-01 3.14581467e-01\n",
            "  7.82400598e-01 3.37546659e-01 2.21009942e-01 7.86996743e-02\n",
            "  1.25576786e+00 9.92307664e-01 8.01664868e-01 7.25363024e-01\n",
            "  3.96891040e-01 9.64331126e-01 8.80459090e-01 8.75365188e-01\n",
            "  6.89294301e-01 5.42385600e-01 5.94295059e-01 8.63453988e-01\n",
            "  6.03156863e-01 1.20933776e+00 8.60247421e-01 1.10667921e+00]\n",
            " [2.11549892e-01 3.47601545e-01 4.95069929e-01 3.23080916e-01\n",
            "  6.81620765e-01 4.68323085e-01 5.17952231e-01 7.61244049e-01\n",
            "  7.36327393e-01 3.05929566e-01 3.63716177e-01 8.45192561e-01\n",
            "  4.89478774e-01 7.88324745e-01 4.65455652e-01 7.73039455e-01\n",
            "  4.28104266e-01 4.97387721e-01 4.91087729e-01 5.02778035e-01\n",
            "  6.93829391e-01 3.13551806e-01 2.29485414e-01 4.78944980e-01\n",
            "  2.29028079e-01 3.11671414e-01 1.88851887e-01 6.84808263e-01\n",
            "  8.15574117e-01 0.00000000e+00 3.93416065e-01 6.17843561e-01\n",
            "  4.68143446e-01 7.89463005e-01 2.68526050e-01 1.26620635e-01\n",
            "  6.97995575e-02 5.13836791e-01 1.84672625e-01 2.23095185e-01\n",
            "  7.22864602e-01 5.87967852e-02 7.89097184e-01 7.39883319e-01\n",
            "  5.06862750e-01 5.24873354e-01 6.06640666e-01 4.11399073e-01\n",
            "  6.39729306e-01 2.27680619e-01 2.45490544e-01 2.72235895e-01\n",
            "  6.38366839e-01 3.89016241e-01 7.00651622e-01 3.15173486e-01\n",
            "  1.90729475e-01 5.85773661e-01 5.80123865e-01 6.05866883e-01\n",
            "  4.07201671e-01 2.97093498e-01 2.74022985e-01 2.02689394e-01\n",
            "  5.63450235e-01 3.93348430e-01 3.98390985e-01 4.82551284e-01\n",
            "  4.74796290e-01 6.75864910e-01 4.03066328e-01 4.83714439e-01\n",
            "  3.74572864e-01 3.59402709e-01 4.29275648e-01 8.90123742e-01\n",
            "  1.90925496e-01 7.60646740e-01 2.91700504e-01 5.44503572e-01\n",
            "  2.64485642e-01 7.19870007e-01 5.97570065e-01 7.40731928e-01\n",
            "  6.05332579e-01 6.31740091e-01 5.29202322e-01 1.81261621e-01\n",
            "  4.19108153e-01 3.44750057e-01 1.21861517e-01 8.65508954e-01\n",
            "  1.93740927e-01 3.22814287e-01 4.45596199e-01 2.46207292e-01\n",
            "  3.29899794e-01 5.87297390e-01 6.73846444e-01 5.70262849e-01]\n",
            " [5.84191198e-01 7.18963990e-01 4.85888459e-01 4.15549040e-01\n",
            "  6.28597230e-01 4.06956560e-01 8.45344508e-01 5.10685409e-01\n",
            "  4.77652393e-01 1.89052417e-01 6.54755664e-01 9.99044117e-01\n",
            "  8.60417890e-01 7.88468709e-01 3.63273013e-01 7.09161607e-01\n",
            "  2.75349360e-01 8.58026809e-01 1.70720927e-01 5.97325812e-01\n",
            "  6.04803171e-01 6.06867530e-01 6.17563193e-01 5.17692995e-01\n",
            "  6.15082789e-01 1.83273126e-01 4.22566269e-01 8.93844428e-01\n",
            "  6.02978843e-01 3.93416065e-01 0.00000000e+00 4.95529504e-01\n",
            "  5.38241620e-01 6.60770890e-01 3.11200647e-01 3.15909032e-01\n",
            "  4.22222320e-01 8.60100005e-01 3.81858007e-01 5.76292948e-01\n",
            "  6.13951828e-01 3.52224957e-01 9.56222421e-01 5.22782867e-01\n",
            "  7.24028271e-01 4.45887322e-01 8.40910575e-01 7.77937862e-01\n",
            "  9.37552342e-01 2.62708893e-01 4.58141150e-01 3.05740855e-01\n",
            "  3.96045480e-01 5.40782191e-01 6.23253467e-01 1.13853177e-01\n",
            "  5.81114288e-01 5.26039580e-01 7.90068717e-01 6.90910102e-01\n",
            "  6.39175146e-01 1.28700849e-01 4.38289814e-01 4.53401277e-01\n",
            "  3.59592287e-01 7.86756349e-01 6.60329280e-01 6.35649598e-01\n",
            "  8.07303360e-01 4.39846010e-01 6.32566088e-01 8.45222851e-01\n",
            "  5.69489653e-01 7.52379863e-01 4.16930818e-01 1.00246501e+00\n",
            "  5.65981548e-01 8.75644738e-01 1.15599803e-01 2.89294876e-01\n",
            "  2.05688719e-01 6.85975257e-01 4.00941075e-01 5.25698222e-01\n",
            "  9.93696169e-01 9.35411614e-01 7.77958271e-01 4.58547035e-01\n",
            "  3.21423795e-01 3.73508727e-01 3.78292184e-01 1.05212155e+00\n",
            "  1.99706618e-01 4.15822961e-01 5.24357962e-02 5.98506004e-01\n",
            "  4.90932051e-01 9.70185963e-01 9.10294272e-01 9.30407135e-01]\n",
            " [8.18230080e-01 7.53252088e-01 1.67987471e-01 3.22608611e-01\n",
            "  1.50387818e-01 1.51079214e-01 7.52191801e-01 2.33726869e-01\n",
            "  2.34458809e-01 3.65377283e-01 5.78175773e-01 6.29679983e-01\n",
            "  8.56474152e-01 3.19602345e-01 1.57071526e-01 2.16591416e-01\n",
            "  2.29190539e-01 8.28582936e-01 3.53901817e-01 3.05288466e-01\n",
            "  1.10910634e-01 5.60216224e-01 8.11694419e-01 2.25611719e-01\n",
            "  8.16196812e-01 6.43559205e-01 4.68911762e-01 6.11815352e-01\n",
            "  2.24357925e-01 6.17843561e-01 4.95529504e-01 0.00000000e+00\n",
            "  2.65645296e-01 1.76614550e-01 3.49425525e-01 6.47254737e-01\n",
            "  6.84916237e-01 7.98836342e-01 7.41590752e-01 8.38519830e-01\n",
            "  1.19476058e-01 5.60207387e-01 6.09235147e-01 1.75396906e-01\n",
            "  5.12874723e-01 9.67020613e-02 6.07511838e-01 7.83223040e-01\n",
            "  7.70101150e-01 3.99884681e-01 4.40709231e-01 3.46051033e-01\n",
            "  1.87414140e-01 3.68110388e-01 1.31886192e-01 4.26177436e-01\n",
            "  7.72378486e-01 9.06711676e-02 5.42008562e-01 3.31414483e-01\n",
            "  4.92544944e-01 4.29265197e-01 3.92748083e-01 7.95122472e-01\n",
            "  1.52899833e-01 9.07637113e-01 5.40955297e-01 3.90861645e-01\n",
            "  7.34550752e-01 1.79138343e-01 4.86805389e-01 8.20933790e-01\n",
            "  4.24905020e-01 8.94643817e-01 2.00172259e-01 5.91831629e-01\n",
            "  6.65507329e-01 4.89782800e-01 4.55253363e-01 2.36224771e-01\n",
            "  6.37357890e-01 2.10041108e-01 1.23914855e-01 1.73264927e-01\n",
            "  1.03142116e+00 7.78009312e-01 5.86457163e-01 5.08623207e-01\n",
            "  2.07609290e-01 8.19246562e-01 6.98269768e-01 7.09860725e-01\n",
            "  5.23001475e-01 3.23077391e-01 5.06174061e-01 6.41799535e-01\n",
            "  3.79457039e-01 9.85033599e-01 6.59803082e-01 8.83711105e-01]\n",
            " [6.35266697e-01 5.06461091e-01 1.01316998e-01 1.51953531e-01\n",
            "  2.41617027e-01 1.72573267e-01 4.86726805e-01 4.94802767e-01\n",
            "  4.89304826e-01 3.52388506e-01 3.19247550e-01 4.61355098e-01\n",
            "  5.97339974e-01 3.20437836e-01 2.22810324e-01 3.25951094e-01\n",
            "  2.93532643e-01 5.66770620e-01 4.68772075e-01 6.03981908e-02\n",
            "  2.78546656e-01 3.09985131e-01 6.12600974e-01 4.05780819e-02\n",
            "  6.19436491e-01 6.21501758e-01 2.82855720e-01 3.81489835e-01\n",
            "  4.87352314e-01 4.68143446e-01 5.38241620e-01 2.65645296e-01\n",
            "  0.00000000e+00 3.85180398e-01 2.50941242e-01 5.44813026e-01\n",
            "  5.37539899e-01 5.34536610e-01 6.34276807e-01 6.65829051e-01\n",
            "  3.16947453e-01 4.20939002e-01 4.21361055e-01 4.40309174e-01\n",
            "  2.51924220e-01 1.88286922e-01 3.56777499e-01 5.28292212e-01\n",
            "  5.09198891e-01 3.17277959e-01 2.33115744e-01 2.53295277e-01\n",
            "  4.15783115e-01 1.12013697e-01 2.74284982e-01 4.31122994e-01\n",
            "  5.76979897e-01 1.83527187e-01 2.93249071e-01 1.55889464e-01\n",
            "  2.28052159e-01 4.22749230e-01 1.95104186e-01 6.68796335e-01\n",
            "  3.43289152e-01 6.74411423e-01 2.77471108e-01 1.30604486e-01\n",
            "  4.70362035e-01 4.26033800e-01 2.22633232e-01 5.59936134e-01\n",
            "  1.66395543e-01 6.68936563e-01 1.31185731e-01 4.67609973e-01\n",
            "  4.49183013e-01 3.38518543e-01 4.46817107e-01 4.00808888e-01\n",
            "  5.96231661e-01 2.63583668e-01 3.44158129e-01 4.38428069e-01\n",
            "  7.74345047e-01 5.15851541e-01 3.24734315e-01 3.08302086e-01\n",
            "  2.36730319e-01 7.58058156e-01 5.77522884e-01 5.20116425e-01\n",
            "  4.61464327e-01 1.52044807e-01 5.72132840e-01 4.08667852e-01\n",
            "  1.49293001e-01 7.25543227e-01 4.17246483e-01 6.19409856e-01]\n",
            " [9.85202725e-01 8.91282845e-01 3.08558281e-01 4.81154850e-01\n",
            "  1.54273199e-01 3.21358342e-01 8.57742522e-01 2.55971368e-01\n",
            "  2.78722677e-01 5.41447905e-01 7.03472922e-01 6.21403010e-01\n",
            "  9.80130594e-01 2.59231909e-01 3.33544967e-01 1.25413555e-01\n",
            "  4.03574684e-01 9.47216081e-01 5.06116400e-01 4.02912570e-01\n",
            "  1.06634911e-01 6.94896387e-01 9.74159340e-01 3.51469818e-01\n",
            "  9.79412159e-01 8.16591501e-01 6.30480717e-01 6.56702450e-01\n",
            "  1.69590570e-01 7.89463005e-01 6.60770890e-01 1.76614550e-01\n",
            "  3.85180398e-01 0.00000000e+00 5.22271327e-01 8.23478850e-01\n",
            "  8.57483870e-01 9.10569663e-01 9.17882998e-01 1.00790275e+00\n",
            "  6.93366621e-02 7.32624561e-01 6.17804567e-01 1.94216802e-01\n",
            "  6.02377563e-01 2.64722008e-01 6.75622173e-01 9.13064467e-01\n",
            "  8.49515429e-01 5.75340614e-01 5.95094730e-01 5.19400397e-01\n",
            "  2.94176027e-01 4.96881383e-01 1.14143336e-01 5.99707178e-01\n",
            "  9.35688472e-01 2.11066971e-01 6.11791884e-01 3.81533718e-01\n",
            "  6.07934866e-01 6.03866817e-01 5.48473067e-01 9.70520911e-01\n",
            "  3.02456541e-01 1.05574135e+00 6.58361382e-01 4.88157484e-01\n",
            "  8.47356412e-01 2.60781317e-01 6.03294829e-01 9.41340014e-01\n",
            "  5.51504019e-01 1.04688706e+00 3.62535734e-01 5.56102118e-01\n",
            "  8.20570056e-01 4.86715013e-01 6.29558777e-01 3.81241050e-01\n",
            "  8.12347017e-01 1.77099145e-01 2.62372548e-01 1.89849350e-01\n",
            "  1.15784034e+00 8.60492617e-01 6.74016924e-01 6.67087333e-01\n",
            "  3.84180948e-01 9.94712783e-01 8.73683240e-01 7.11772334e-01\n",
            "  6.99563494e-01 4.81571145e-01 6.65135330e-01 7.88640102e-01\n",
            "  5.23124432e-01 1.10760795e+00 7.14741903e-01 9.94690114e-01]\n",
            " [4.72596847e-01 4.74383079e-01 2.41379861e-01 1.07516944e-01\n",
            "  4.24758587e-01 2.00986261e-01 5.56479802e-01 5.05312284e-01\n",
            "  4.83955387e-01 1.25195436e-01 3.60716872e-01 6.99758415e-01\n",
            "  6.04954555e-01 5.52696901e-01 1.97711070e-01 5.16207968e-01\n",
            "  1.77433985e-01 5.91713606e-01 3.06293060e-01 3.04148304e-01\n",
            "  4.29863599e-01 3.18506970e-01 4.73186673e-01 2.44617367e-01\n",
            "  4.76306480e-01 3.70961185e-01 1.51980525e-01 5.83572849e-01\n",
            "  5.50321348e-01 2.68526050e-01 3.11200647e-01 3.49425525e-01\n",
            "  2.50941242e-01 5.22271327e-01 0.00000000e+00 3.09682267e-01\n",
            "  3.35553883e-01 5.81986919e-01 4.03457035e-01 4.90240794e-01\n",
            "  4.56757060e-01 2.10787132e-01 6.53069393e-01 4.77065894e-01\n",
            "  4.12863719e-01 2.57616806e-01 5.29806786e-01 5.22657935e-01\n",
            "  6.34389583e-01 6.65458618e-02 1.62273064e-01 6.86693760e-03\n",
            "  3.87032758e-01 2.30646037e-01 4.38913180e-01 1.97536761e-01\n",
            "  4.32961065e-01 3.23707467e-01 4.79114196e-01 4.06389682e-01\n",
            "  3.30341704e-01 1.84608789e-01 1.30889771e-01 4.50451536e-01\n",
            "  3.07197540e-01 5.96089558e-01 3.56489475e-01 3.28316101e-01\n",
            "  5.23036801e-01 4.20090292e-01 3.23592795e-01 5.80429660e-01\n",
            "  2.58694108e-01 5.74618074e-01 1.68798418e-01 7.16401565e-01\n",
            "  3.48530540e-01 5.85872041e-01 2.05162052e-01 3.09469178e-01\n",
            "  3.45407637e-01 4.69781164e-01 3.36847616e-01 4.77520615e-01\n",
            "  7.62879353e-01 6.34020709e-01 4.68342819e-01 1.96764049e-01\n",
            "  1.54037288e-01 5.11333054e-01 3.54098196e-01 7.46209512e-01\n",
            "  2.11083526e-01 1.07694060e-01 3.54569286e-01 3.49717768e-01\n",
            "  1.79819959e-01 7.27480742e-01 5.99111711e-01 6.60274596e-01]\n",
            " [2.71301404e-01 4.70403491e-01 5.50766319e-01 3.93118887e-01\n",
            "  7.34289655e-01 5.06087662e-01 6.44572134e-01 7.54807437e-01\n",
            "  7.26305972e-01 2.93808295e-01 4.86777911e-01 9.52495337e-01\n",
            "  6.10894934e-01 8.58864573e-01 4.90212344e-01 8.25610651e-01\n",
            "  4.32295918e-01 6.21360552e-01 4.47762159e-01 5.87999062e-01\n",
            "  7.36526677e-01 4.35918505e-01 3.12507145e-01 5.47454761e-01\n",
            "  3.08163394e-01 1.94617506e-01 2.87073080e-01 8.00137700e-01\n",
            "  8.23624777e-01 1.26620635e-01 3.15909032e-01 6.47254737e-01\n",
            "  5.44813026e-01 8.23478850e-01 3.09682267e-01 0.00000000e+00\n",
            "  1.16246047e-01 6.39680054e-01 9.44905447e-02 2.60471307e-01\n",
            "  7.60721434e-01 1.36717575e-01 8.98237257e-01 7.44269984e-01\n",
            "  6.20589948e-01 5.61823104e-01 7.25072185e-01 5.34782467e-01\n",
            "  7.65622983e-01 2.49407462e-01 3.44540269e-01 3.10726550e-01\n",
            "  6.30456239e-01 4.82973459e-01 7.47000987e-01 2.70382994e-01\n",
            "  2.80569458e-01 6.32225334e-01 6.94005623e-01 6.92856521e-01\n",
            "  5.21128193e-01 2.55767114e-01 3.61081113e-01 1.52994886e-01\n",
            "  5.64150332e-01 4.92328124e-01 5.17680801e-01 5.81626705e-01\n",
            "  6.01396369e-01 6.71640167e-01 5.16351969e-01 6.07609994e-01\n",
            "  4.78801910e-01 4.53388869e-01 4.78450649e-01 9.89541653e-01\n",
            "  3.15343526e-01 8.58591232e-01 2.39868624e-01 5.27150440e-01\n",
            "  1.46727253e-01 7.79252358e-01 6.02641224e-01 7.45834899e-01\n",
            "  7.15123530e-01 7.57923791e-01 6.48803178e-01 2.93035564e-01\n",
            "  4.39955372e-01 2.25588189e-01 6.32256103e-02 9.79014066e-01\n",
            "  1.37998244e-01 3.92993932e-01 3.64949877e-01 3.72775166e-01\n",
            "  4.21972097e-01 7.02139682e-01 7.93376841e-01 6.93882978e-01]\n",
            " [1.62890279e-01 3.64238915e-01 5.64632787e-01 3.92880436e-01\n",
            "  7.51189434e-01 5.36148066e-01 5.50575275e-01 8.21025522e-01\n",
            "  7.95030721e-01 3.60681436e-01 4.12487224e-01 9.05733993e-01\n",
            "  5.01894288e-01 8.57840295e-01 5.31204806e-01 8.42651139e-01\n",
            "  4.89090831e-01 5.15950130e-01 5.37018889e-01 5.71134620e-01\n",
            "  7.62690393e-01 3.64238563e-01 1.97442752e-01 5.48712125e-01\n",
            "  1.93881433e-01 3.10653464e-01 2.56853733e-01 7.40499309e-01\n",
            "  8.79085040e-01 6.97995575e-02 4.22222320e-01 6.84916237e-01\n",
            "  5.37539899e-01 8.57483870e-01 3.35553883e-01 1.16246047e-01\n",
            "  0.00000000e+00 5.39095225e-01 1.35660493e-01 1.63836075e-01\n",
            "  7.91259070e-01 1.24860753e-01 8.48757378e-01 8.02375086e-01\n",
            "  5.64687648e-01 5.92770594e-01 6.59759235e-01 4.28927838e-01\n",
            "  6.78755750e-01 2.90061859e-01 3.12531037e-01 3.38870495e-01\n",
            "  6.97326937e-01 4.56141950e-01 7.69834274e-01 3.58286362e-01\n",
            "  1.64411106e-01 6.54829106e-01 6.37422239e-01 6.73679059e-01\n",
            "  4.65635071e-01 3.41214179e-01 3.43020747e-01 1.37117510e-01\n",
            "  6.24399831e-01 3.76092498e-01 4.52074257e-01 5.47771062e-01\n",
            "  5.06748063e-01 7.35981480e-01 4.61996004e-01 5.02137637e-01\n",
            "  4.38596677e-01 3.37408079e-01 4.98257479e-01 9.54049941e-01\n",
            "  2.15353125e-01 8.25339281e-01 3.31329636e-01 6.00173151e-01\n",
            "  2.62837089e-01 7.89657463e-01 6.59758814e-01 8.03395118e-01\n",
            "  5.99589798e-01 6.69310343e-01 5.81455213e-01 2.44681680e-01\n",
            "  4.83832504e-01 3.04038775e-01 7.70607733e-02 9.22092249e-01\n",
            "  2.27826338e-01 3.92613843e-01 4.73072022e-01 2.80614838e-01\n",
            "  3.97776170e-01 5.88186013e-01 7.25431551e-01 5.87487297e-01]\n",
            " [4.80734232e-01 1.79997538e-01 6.31069128e-01 5.17900492e-01\n",
            "  7.57777249e-01 6.76920928e-01 6.19853406e-02 1.02131309e+00\n",
            "  1.01090539e+00 6.98907685e-01 2.27940034e-01 5.71421080e-01\n",
            "  1.02391131e-01 7.54083094e-01 7.13362559e-01 8.24434807e-01\n",
            "  7.42489852e-01 5.58233525e-02 8.88260959e-01 5.07798226e-01\n",
            "  8.05682838e-01 2.63873059e-01 4.18106702e-01 5.73704028e-01\n",
            "  4.28958191e-01 8.22339954e-01 4.40878254e-01 3.82920989e-01\n",
            "  1.02179207e+00 5.13836791e-01 8.60100005e-01 7.98836342e-01\n",
            "  5.34536610e-01 9.10569663e-01 5.81986919e-01 6.39680054e-01\n",
            "  5.39095225e-01 0.00000000e+00 6.73054947e-01 5.26591349e-01\n",
            "  8.45232957e-01 5.27396751e-01 5.13586010e-01 9.71358593e-01\n",
            "  3.16838947e-01 7.12644905e-01 3.02027823e-01 1.19792228e-01\n",
            "  1.86709880e-01 6.06160699e-01 4.19855415e-01 5.88836692e-01\n",
            "  9.25442711e-01 4.32058562e-01 7.96504405e-01 7.53301253e-01\n",
            "  4.17335662e-01 7.17885052e-01 3.40534674e-01 5.47979562e-01\n",
            "  3.06522935e-01 7.35616194e-01 4.57914424e-01 6.49204029e-01\n",
            "  8.44959452e-01 3.09216839e-01 2.57947452e-01 4.22603442e-01\n",
            "  6.42952276e-02 9.45173980e-01 3.12108935e-01 6.23532396e-02\n",
            "  3.75632559e-01 3.40600493e-01 6.21006887e-01 6.64856162e-01\n",
            "  3.24980284e-01 5.77403793e-01 7.44655780e-01 8.75685252e-01\n",
            "  7.76318661e-01 7.56301279e-01 8.58377668e-01 9.69843707e-01\n",
            "  2.63957340e-01 1.69763955e-01 2.56253497e-01 4.01970374e-01\n",
            "  6.96620982e-01 8.42144294e-01 6.16083395e-01 5.35083583e-01\n",
            "  6.76800514e-01 5.17393945e-01 9.10787844e-01 2.69461859e-01\n",
            "  4.36941495e-01 2.07121670e-01 3.27103902e-01 8.48896554e-02]\n",
            " [2.43839905e-01 4.96206421e-01 6.44098674e-01 4.83347911e-01\n",
            "  8.28208583e-01 6.00535263e-01 6.86002976e-01 8.43920963e-01\n",
            "  8.14666587e-01 3.85622661e-01 5.45512518e-01 1.02901846e+00\n",
            "  6.30636524e-01 9.50458743e-01 5.84527234e-01 9.19615508e-01\n",
            "  5.25052934e-01 6.47601906e-01 5.27941657e-01 6.75068163e-01\n",
            "  8.30968451e-01 4.96238931e-01 2.98738651e-01 6.38791759e-01\n",
            "  2.91545223e-01 2.25389591e-01 3.66771066e-01 8.69414050e-01\n",
            "  9.15445911e-01 1.84672625e-01 3.81858007e-01 7.41590752e-01\n",
            "  6.34276807e-01 9.17882998e-01 4.03457035e-01 9.44905447e-02\n",
            "  1.35660493e-01 6.73054947e-01 0.00000000e+00 2.18086833e-01\n",
            "  8.55209353e-01 2.16307653e-01 9.73308195e-01 8.35668858e-01\n",
            "  6.91520463e-01 6.56305812e-01 7.90666370e-01 5.60698143e-01\n",
            "  8.14372118e-01 3.43845485e-01 4.24522963e-01 4.04706153e-01\n",
            "  7.19819542e-01 5.66238395e-01 8.41325445e-01 3.54715221e-01\n",
            "  2.76327689e-01 7.26461619e-01 7.64794383e-01 7.79600060e-01\n",
            "  5.91841266e-01 3.41792585e-01 4.46213055e-01 7.19168849e-02\n",
            "  6.55614255e-01 4.82851145e-01 5.82423401e-01 6.62801144e-01\n",
            "  6.42139542e-01 7.61615054e-01 5.87654959e-01 6.33806140e-01\n",
            "  5.56736658e-01 4.40298603e-01 5.72250202e-01 1.07116333e+00\n",
            "  3.50645424e-01 9.40869039e-01 3.22973931e-01 6.14923757e-01\n",
            "  1.83787855e-01 8.72536741e-01 6.94656369e-01 8.37355908e-01\n",
            "  7.13485995e-01 8.04969792e-01 7.12878499e-01 3.65018560e-01\n",
            "  5.34181418e-01 1.69090500e-01 6.28873699e-02 1.05018130e+00\n",
            "  2.26520348e-01 4.83190809e-01 4.26550953e-01 4.16259163e-01\n",
            "  5.05692870e-01 7.08186906e-01 8.57359249e-01 7.18166228e-01]\n",
            " [4.60317949e-02 3.48294939e-01 7.07133773e-01 5.31893123e-01\n",
            "  8.92509371e-01 6.88022686e-01 5.55716414e-01 9.83510146e-01\n",
            "  9.57994335e-01 5.24351640e-01 4.69640266e-01 9.82403456e-01\n",
            "  4.61223300e-01 9.84339093e-01 6.87783673e-01 9.82985477e-01\n",
            "  6.50744903e-01 4.88817899e-01 6.99594804e-01 6.90150607e-01\n",
            "  9.09584976e-01 4.30812647e-01 1.08989577e-01 6.83140339e-01\n",
            "  9.83846032e-02 4.39746506e-01 3.84747935e-01 8.03129465e-01\n",
            "  1.03862535e+00 2.23095185e-01 5.76292948e-01 8.38519830e-01\n",
            "  6.65829051e-01 1.00790275e+00 4.90240794e-01 2.60471307e-01\n",
            "  1.63836075e-01 5.26591349e-01 2.18086833e-01 0.00000000e+00\n",
            "  9.40337272e-01 2.81884849e-01 9.23003560e-01 9.62959963e-01\n",
            "  6.39806128e-01 7.44233170e-01 7.16471437e-01 4.06990104e-01\n",
            "  6.94387304e-01 4.50557051e-01 4.32870185e-01 4.94308293e-01\n",
            "  8.60153869e-01 5.70835820e-01 9.14677869e-01 5.20591512e-01\n",
            "  1.14680311e-01 8.00981673e-01 7.08280965e-01 7.87447714e-01\n",
            "  5.47132162e-01 5.03908869e-01 4.72350652e-01 1.57610726e-01\n",
            "  7.86143814e-01 2.79379704e-01 5.19980114e-01 6.50867268e-01\n",
            "  5.13086532e-01 8.98263642e-01 5.45268504e-01 4.75707206e-01\n",
            "  5.40620480e-01 2.34843550e-01 6.45675387e-01 1.04410411e+00\n",
            "  2.50878099e-01 9.20529026e-01 4.92596514e-01 7.63853653e-01\n",
            "  3.94823140e-01 9.26000804e-01 8.20593899e-01 9.63820307e-01\n",
            "  5.11870919e-01 6.81421634e-01 6.38445438e-01 3.57985994e-01\n",
            "  6.41992538e-01 3.63381438e-01 1.99140529e-01 9.84075323e-01\n",
            "  3.88439630e-01 5.31547380e-01 6.25391750e-01 3.20193806e-01\n",
            "  5.18314372e-01 5.15548642e-01 7.75385058e-01 5.52592822e-01]\n",
            " [9.17049924e-01 8.22574189e-01 2.39263728e-01 4.12331109e-01\n",
            "  9.68945149e-02 2.55885706e-01 7.93360679e-01 2.64907285e-01\n",
            "  2.80448039e-01 4.83466398e-01 6.35812613e-01 5.86593002e-01\n",
            "  9.13088406e-01 2.38188515e-01 2.72872852e-01 1.11821919e-01\n",
            "  3.48526901e-01 8.80850274e-01 4.67090905e-01 3.37508558e-01\n",
            "  3.96880432e-02 6.26280221e-01 9.05307263e-01 2.82568599e-01\n",
            "  9.10646773e-01 7.62939456e-01 5.61750427e-01 6.05380242e-01\n",
            "  2.02324868e-01 7.22864602e-01 6.13951828e-01 1.19476058e-01\n",
            "  3.16947453e-01 6.93366621e-02 4.56757060e-01 7.60721434e-01\n",
            "  7.91259070e-01 8.45232957e-01 8.55209353e-01 9.40337272e-01\n",
            "  0.00000000e+00 6.66462299e-01 5.77186135e-01 1.98937472e-01\n",
            "  5.40051284e-01 1.99409378e-01 6.18417899e-01 8.45176426e-01\n",
            "  7.90442474e-01 5.11724551e-01 5.25857201e-01 4.54185485e-01\n",
            "  2.72035141e-01 4.28363807e-01 5.51249456e-02 5.45542537e-01\n",
            "  8.66953621e-01 1.41821175e-01 5.53775470e-01 3.25374170e-01\n",
            "  5.41281064e-01 5.48347885e-01 4.79336017e-01 9.06321040e-01\n",
            "  2.62400957e-01 9.86493680e-01 5.91592973e-01 4.23621525e-01\n",
            "  7.81725960e-01 2.46738266e-01 5.36475658e-01 8.74706124e-01\n",
            "  4.83342996e-01 9.77552360e-01 2.94668515e-01 5.30963133e-01\n",
            "  7.51279523e-01 4.48489593e-01 5.74422087e-01 3.44842555e-01\n",
            "  7.56135962e-01 1.37536610e-01 2.25798515e-01 1.94938080e-01\n",
            "  1.09058700e+00 8.00762765e-01 6.12466165e-01 5.98029752e-01\n",
            "  3.23653219e-01 9.37620954e-01 8.09579448e-01 6.74142674e-01\n",
            "  6.39613414e-01 4.12741523e-01 6.22623586e-01 7.19376416e-01\n",
            "  4.53835638e-01 1.04084561e+00 6.61085416e-01 9.29618344e-01]\n",
            " [2.69534934e-01 3.71416250e-01 4.41433671e-01 2.72412066e-01\n",
            "  6.27873996e-01 4.11287424e-01 5.24621005e-01 7.02653876e-01\n",
            "  6.77928782e-01 2.49418859e-01 3.55426481e-01 8.16280983e-01\n",
            "  5.13987625e-01 7.39818151e-01 4.07129557e-01 7.19458140e-01\n",
            "  3.69435234e-01 5.16895875e-01 4.38053793e-01 4.59469325e-01\n",
            "  6.38143363e-01 3.04151406e-01 2.83202129e-01 4.28840596e-01\n",
            "  2.83720749e-01 2.96221948e-01 1.51287562e-01 6.63645543e-01\n",
            "  7.56827756e-01 5.87967852e-02 3.52224957e-01 5.60207387e-01\n",
            "  4.20939002e-01 7.32624561e-01 2.10787132e-01 1.36717575e-01\n",
            "  1.24860753e-01 5.27396751e-01 2.16307653e-01 2.81884849e-01\n",
            "  6.66462299e-01 0.00000000e+00 7.61728728e-01 6.81086782e-01\n",
            "  4.83984784e-01 4.67910003e-01 5.89457406e-01 4.33107488e-01\n",
            "  6.38688072e-01 1.68963412e-01 2.09046806e-01 2.14242906e-01\n",
            "  5.79949635e-01 3.49963862e-01 6.45637706e-01 2.65223989e-01\n",
            "  2.43458579e-01 5.30501677e-01 5.57381495e-01 5.63738517e-01\n",
            "  3.84629256e-01 2.46753323e-01 2.30195505e-01 2.48294588e-01\n",
            "  5.04747030e-01 4.38246296e-01 3.82924853e-01 4.47110578e-01\n",
            "  4.82712596e-01 6.17242671e-01 3.79775752e-01 5.03523135e-01\n",
            "  3.42698758e-01 4.07083945e-01 3.73919074e-01 8.55476885e-01\n",
            "  2.15460056e-01 7.24929154e-01 2.44552672e-01 4.87021840e-01\n",
            "  2.51720001e-01 6.67852623e-01 5.38778089e-01 6.81937496e-01\n",
            "  6.41511395e-01 6.32276975e-01 5.13850833e-01 1.56921295e-01\n",
            "  3.60485137e-01 3.62297463e-01 1.57044707e-01 8.42312622e-01\n",
            "  1.54819381e-01 2.72191467e-01 4.04659430e-01 2.58172239e-01\n",
            "  2.89385343e-01 6.19187721e-01 6.58161541e-01 5.90024328e-01]\n",
            " [8.80593361e-01 6.20399816e-01 4.98756516e-01 5.45554300e-01\n",
            "  4.83046615e-01 5.82911255e-01 4.52668681e-01 8.32968463e-01\n",
            "  8.40353614e-01 7.67821491e-01 4.53667406e-01 6.03264707e-02\n",
            "  6.14918693e-01 3.70474091e-01 6.34904606e-01 4.95276810e-01\n",
            "  7.12954818e-01 5.68676947e-01 8.87879809e-01 3.61054984e-01\n",
            "  5.43892253e-01 4.93174074e-01 8.32583119e-01 4.49524896e-01\n",
            "  8.42692169e-01 1.01728544e+00 6.11404194e-01 1.31434584e-01\n",
            "  7.79121867e-01 7.89097184e-01 9.56222421e-01 6.09235147e-01\n",
            "  4.21361055e-01 6.17804567e-01 6.53069393e-01 8.98237257e-01\n",
            "  8.48757378e-01 5.13586010e-01 9.73308195e-01 9.23003560e-01\n",
            "  5.77186135e-01 7.61728728e-01 0.00000000e+00 7.67901469e-01\n",
            "  2.85095180e-01 5.75657821e-01 2.18575253e-01 5.94767288e-01\n",
            "  3.52809342e-01 7.14800461e-01 5.54487280e-01 6.57243669e-01\n",
            "  7.93366874e-01 4.26400656e-01 5.22907703e-01 8.45871476e-01\n",
            "  8.10903175e-01 5.22058116e-01 2.14739337e-01 2.84358610e-01\n",
            "  3.83200629e-01 8.35354788e-01 5.46965877e-01 9.85338169e-01\n",
            "  7.36316554e-01 7.96872094e-01 4.03399703e-01 3.25805555e-01\n",
            "  4.75425275e-01 7.88341451e-01 3.86761420e-01 5.72012945e-01\n",
            "  4.19874208e-01 8.15388128e-01 5.51069795e-01 1.54544030e-01\n",
            "  6.72129877e-01 1.31957091e-01 8.57538864e-01 8.06914621e-01\n",
            "  9.84503432e-01 4.42120514e-01 7.23358898e-01 7.64455364e-01\n",
            "  7.69629355e-01 3.70733832e-01 2.89944184e-01 6.08301728e-01\n",
            "  6.56518358e-01 1.12344588e+00 9.10781694e-01 1.01287045e-01\n",
            "  8.50762552e-01 5.45375379e-01 9.92351041e-01 6.03367079e-01\n",
            "  4.85385835e-01 7.11173607e-01 1.88606505e-01 5.73302891e-01]\n",
            " [9.48444080e-01 9.15900453e-01 3.40798890e-01 4.77492652e-01\n",
            "  2.85978941e-01 3.02487187e-01 9.26043912e-01 6.60791800e-02\n",
            "  8.45393646e-02 4.50462511e-01 7.48153613e-01 7.81553789e-01\n",
            "  1.02524027e+00 4.36846966e-01 2.82677600e-01 3.06482073e-01\n",
            "  3.13853934e-01 9.99170012e-01 3.54743754e-01 4.80585438e-01\n",
            "  2.26014528e-01 7.26580203e-01 9.50113003e-01 3.99973373e-01\n",
            "  9.53354637e-01 6.95762999e-01 6.15040820e-01 7.81789935e-01\n",
            "  8.09941079e-02 7.39883319e-01 5.22782867e-01 1.75396906e-01\n",
            "  4.40309174e-01 1.94216802e-01 4.77065894e-01 7.44269984e-01\n",
            "  8.02375086e-01 9.71358593e-01 8.35668858e-01 9.62959963e-01\n",
            "  1.98937472e-01 6.81086782e-01 7.67901469e-01 0.00000000e+00\n",
            "  6.88259855e-01 2.59373010e-01 7.81633633e-01 9.49871118e-01\n",
            "  9.45407375e-01 5.12575164e-01 5.95828639e-01 4.72077844e-01\n",
            "  1.27013307e-01 5.39417417e-01 2.48701235e-01 4.88956953e-01\n",
            "  9.09948011e-01 2.64336508e-01 7.16082356e-01 4.99275579e-01\n",
            "  6.65822464e-01 4.98254235e-01 5.47944167e-01 8.96884057e-01\n",
            "  1.80123731e-01 1.06178079e+00 7.13463276e-01 5.66258161e-01\n",
            "  9.07076188e-01 8.37759184e-02 6.59903712e-01 9.90997730e-01\n",
            "  5.96068614e-01 1.04502130e+00 3.57978100e-01 7.29577006e-01\n",
            "  8.15530119e-01 6.42161669e-01 5.21070967e-01 2.33922804e-01\n",
            "  7.01417768e-01 3.35324553e-01 1.42659115e-01 4.37532323e-03\n",
            "  1.19831961e+00 9.53392200e-01 7.61847646e-01 6.57702850e-01\n",
            "  3.23035772e-01 8.83339022e-01 8.01689905e-01 8.66770715e-01\n",
            "  6.09323017e-01 4.77997080e-01 5.15498953e-01 7.99670246e-01\n",
            "  5.44162399e-01 1.15365317e+00 8.32133303e-01 1.05612758e+00]\n",
            " [5.98318966e-01 3.61776496e-01 3.53124987e-01 3.11864168e-01\n",
            "  4.48180581e-01 4.20093508e-01 2.59299154e-01 7.45027245e-01\n",
            "  7.40770375e-01 5.36960417e-01 1.74194830e-01 3.43516490e-01\n",
            "  4.01913103e-01 4.38240733e-01 4.67012372e-01 5.09422863e-01\n",
            "  5.23631982e-01 3.61706464e-01 6.93698478e-01 2.07901768e-01\n",
            "  5.00406037e-01 2.09022431e-01 5.53377360e-01 2.92256460e-01\n",
            "  5.63105956e-01 7.55947887e-01 3.37366392e-01 1.79923272e-01\n",
            "  7.28236553e-01 5.06862750e-01 7.24028271e-01 5.12874723e-01\n",
            "  2.51924220e-01 6.02377563e-01 4.12863719e-01 6.20589948e-01\n",
            "  5.64687648e-01 3.16838947e-01 6.91520463e-01 6.39806128e-01\n",
            "  5.40051284e-01 4.83984784e-01 2.85095180e-01 6.88259855e-01\n",
            "  0.00000000e+00 4.40206284e-01 1.17061677e-01 3.54516086e-01\n",
            "  2.57604793e-01 4.65808264e-01 2.83520539e-01 4.18452797e-01\n",
            "  6.67328907e-01 1.87766843e-01 4.88528885e-01 6.10255174e-01\n",
            "  5.29172563e-01 4.25031430e-01 7.34366851e-02 2.31311645e-01\n",
            "  9.97266469e-02 5.96599495e-01 2.88705949e-01 7.00869566e-01\n",
            "  5.93114377e-01 5.43731916e-01 1.20254928e-01 1.22222178e-01\n",
            "  2.57852901e-01 6.77877217e-01 1.04253588e-01 3.59168503e-01\n",
            "  1.55235191e-01 5.54433609e-01 3.70300024e-01 4.06798306e-01\n",
            "  3.89220768e-01 2.91120113e-01 6.15215955e-01 6.44172418e-01\n",
            "  7.19004751e-01 4.41415596e-01 5.95909715e-01 6.86058777e-01\n",
            "  5.77454613e-01 2.65134836e-01 7.36099432e-02 3.27854380e-01\n",
            "  4.68616342e-01 8.46138661e-01 6.28722617e-01 3.58817948e-01\n",
            "  5.89438452e-01 3.11510664e-01 7.66984394e-01 3.22220975e-01\n",
            "  2.33102790e-01 5.22417154e-01 1.86279424e-01 3.98089448e-01]\n",
            " [7.22943040e-01 6.59156092e-01 8.72141548e-02 2.26009744e-01\n",
            "  1.84705541e-01 5.66414553e-02 6.68677325e-01 3.09198443e-01\n",
            "  3.01659195e-01 2.92268490e-01 4.88789903e-01 6.04489782e-01\n",
            "  7.65986473e-01 3.42984350e-01 8.31431946e-02 2.71304109e-01\n",
            "  1.70544619e-01 7.39821940e-01 3.28834450e-01 2.38371670e-01\n",
            "  1.75186543e-01 4.67846065e-01 7.15367034e-01 1.48016396e-01\n",
            "  7.19988162e-01 5.76879430e-01 3.72307860e-01 5.58975212e-01\n",
            "  3.17701317e-01 5.24873354e-01 4.45887322e-01 9.67020613e-02\n",
            "  1.88286922e-01 2.64722008e-01 2.57616806e-01 5.61823104e-01\n",
            "  5.92770594e-01 7.12644905e-01 6.56305812e-01 7.44233170e-01\n",
            "  1.99409378e-01 4.67910003e-01 5.75657821e-01 2.59373010e-01\n",
            "  4.40206284e-01 0.00000000e+00 5.42995163e-01 6.91176662e-01\n",
            "  6.97436054e-01 3.12558378e-01 3.44318042e-01 2.54887437e-01\n",
            "  2.28565842e-01 2.80599217e-01 1.87880170e-01 3.61393252e-01\n",
            "  6.76167458e-01 8.02799925e-02 4.78419302e-01 2.91304309e-01\n",
            "  4.08227965e-01 3.61159047e-01 2.96294581e-01 7.06914758e-01\n",
            "  1.61565362e-01 8.11483854e-01 4.55011818e-01 3.18570431e-01\n",
            "  6.48410563e-01 2.37831924e-01 4.02117648e-01 7.31624817e-01\n",
            "  3.37062503e-01 7.98095515e-01 1.03536032e-01 5.82949888e-01\n",
            "  5.68866937e-01 4.67728127e-01 3.87607182e-01 2.32246736e-01\n",
            "  5.65429635e-01 2.40475892e-01 1.56573946e-01 2.58136563e-01\n",
            "  9.39622500e-01 7.03884942e-01 5.12973367e-01 4.11921509e-01\n",
            "  1.30946590e-01 7.44707124e-01 6.10184326e-01 6.76906596e-01\n",
            "  4.43726216e-01 2.26482134e-01 4.65512578e-01 5.46137351e-01\n",
            "  2.85841695e-01 8.94449835e-01 6.00637244e-01 7.97304962e-01]\n",
            " [6.72654936e-01 4.02512434e-01 4.56001731e-01 4.28811764e-01\n",
            "  5.22694281e-01 5.28517595e-01 2.40089673e-01 8.41215545e-01\n",
            "  8.39740315e-01 6.54010020e-01 2.49503024e-01 2.78609729e-01\n",
            "  4.01053308e-01 4.76523793e-01 5.77163997e-01 5.70188129e-01\n",
            "  6.37754496e-01 3.55593594e-01 8.09177002e-01 3.04953605e-01\n",
            "  5.79535708e-01 2.95664048e-01 6.21293695e-01 3.95805148e-01\n",
            "  6.31697184e-01 8.68342413e-01 4.47297203e-01 8.87743313e-02\n",
            "  8.14389128e-01 6.06640666e-01 8.40910575e-01 6.07511838e-01\n",
            "  3.56777499e-01 6.75622173e-01 5.29806786e-01 7.25072185e-01\n",
            "  6.59759235e-01 3.02027823e-01 7.90666370e-01 7.16471437e-01\n",
            "  6.18417899e-01 5.89457406e-01 2.18575253e-01 7.81633633e-01\n",
            "  1.17061677e-01 5.42995163e-01 0.00000000e+00 3.76390916e-01\n",
            "  1.76727308e-01 5.81914751e-01 3.95855144e-01 5.35436073e-01\n",
            "  7.71515028e-01 3.04220765e-01 5.64430707e-01 7.27102356e-01\n",
            "  6.02630393e-01 5.17415749e-01 6.55525610e-02 2.94088513e-01\n",
            "  2.07932206e-01 7.13289790e-01 4.04549678e-01 7.93555377e-01\n",
            "  7.00065386e-01 5.78296890e-01 2.08264980e-01 2.27044150e-01\n",
            "  2.58436296e-01 7.78703684e-01 2.13773407e-01 3.57562511e-01\n",
            "  2.71608251e-01 5.97202319e-01 4.81309806e-01 3.64842053e-01\n",
            "  4.67261497e-01 2.77052408e-01 7.31591578e-01 7.55192779e-01\n",
            "  8.30091235e-01 5.04317546e-01 6.99565050e-01 7.79077491e-01\n",
            "  5.64136244e-01 1.90274050e-01 7.87303275e-02 4.32552835e-01\n",
            "  5.82098698e-01 9.49790688e-01 7.27816906e-01 2.67617418e-01\n",
            "  7.02521690e-01 4.28463585e-01 8.84027125e-01 3.96747813e-01\n",
            "  3.49995510e-01 5.06163872e-01 7.00547918e-02 3.70645929e-01]\n",
            " [3.61206549e-01 6.46914529e-02 6.16407340e-01 4.77808788e-01\n",
            "  7.64904315e-01 6.48455837e-01 1.58583837e-01 9.94322030e-01\n",
            "  9.80217689e-01 6.30472583e-01 2.09826852e-01 6.54517927e-01\n",
            "  8.31085827e-02 7.87267988e-01 6.78084461e-01 8.40208124e-01\n",
            "  6.93646658e-01 8.70252177e-02 8.24986106e-01 5.14624652e-01\n",
            "  8.06521324e-01 2.23335786e-01 2.98377069e-01 5.64242038e-01\n",
            "  3.09214245e-01 7.22885920e-01 3.72758662e-01 4.63701304e-01\n",
            "  1.00753189e+00 4.11399073e-01 7.77937862e-01 7.83223040e-01\n",
            "  5.28292212e-01 9.13064467e-01 5.22657935e-01 5.34782467e-01\n",
            "  4.28927838e-01 1.19792228e-01 5.60698143e-01 4.06990104e-01\n",
            "  8.45176426e-01 4.33107488e-01 5.94767288e-01 9.49871118e-01\n",
            "  3.54516086e-01 6.91176662e-01 3.76390916e-01 0.00000000e+00\n",
            "  2.98252257e-01 5.35369569e-01 3.66240430e-01 5.29477866e-01\n",
            "  8.89587945e-01 4.17776734e-01 8.00713172e-01 6.76490819e-01\n",
            "  2.98830875e-01 7.09749243e-01 3.98499901e-01 5.75137900e-01\n",
            "  3.09067443e-01 6.58188475e-01 4.10658003e-01 5.32915824e-01\n",
            "  8.07852117e-01 2.03495970e-01 2.59132794e-01 4.36605312e-01\n",
            "  1.22845512e-01 9.14063334e-01 3.12704789e-01 7.32123377e-02\n",
            "  3.61974715e-01 2.28422375e-01 5.92398427e-01 7.39825263e-01\n",
            "  2.20532672e-01 6.38626370e-01 6.63961713e-01 8.27968131e-01\n",
            "  6.75863144e-01 7.72782534e-01 8.26557512e-01 9.48870836e-01\n",
            "  2.48459871e-01 2.82944931e-01 3.12509641e-01 3.29511125e-01\n",
            "  6.53673022e-01 7.29454090e-01 5.05902114e-01 6.30128079e-01\n",
            "  5.86702018e-01 4.77290821e-01 8.29745978e-01 1.79784742e-01\n",
            "  4.05716701e-01 2.06163358e-01 4.16719490e-01 1.59101349e-01]\n",
            " [6.48422821e-01 3.48203162e-01 6.10498444e-01 5.46275364e-01\n",
            "  6.95765447e-01 6.74783599e-01 1.40300667e-01 1.00258307e+00\n",
            "  9.98324763e-01 7.58994536e-01 2.86364369e-01 4.06055994e-01\n",
            "  2.86614078e-01 6.52701940e-01 7.19773431e-01 7.46346529e-01\n",
            "  7.68885425e-01 2.41069224e-01 9.32474011e-01 4.64824131e-01\n",
            "  7.51148087e-01 3.37093174e-01 5.88541801e-01 5.49649894e-01\n",
            "  5.99473609e-01 9.32845250e-01 5.18779514e-01 2.31570269e-01\n",
            "  9.83113955e-01 6.39729306e-01 9.37552342e-01 7.70101150e-01\n",
            "  5.09198891e-01 8.49515429e-01 6.34389583e-01 7.65622983e-01\n",
            "  6.78755750e-01 1.86709880e-01 8.14372118e-01 6.94387304e-01\n",
            "  7.90442474e-01 6.38688072e-01 3.52809342e-01 9.45407375e-01\n",
            "  2.57604793e-01 6.97436054e-01 1.76727308e-01 2.98252257e-01\n",
            "  0.00000000e+00 6.74977264e-01 4.79418461e-01 6.40803627e-01\n",
            "  9.23699667e-01 4.32012343e-01 7.37190320e-01 8.24978797e-01\n",
            "  5.81016412e-01 6.81584023e-01 2.38093044e-01 4.68591466e-01\n",
            "  3.07881113e-01 8.09019661e-01 5.03507749e-01 8.01476190e-01\n",
            "  8.48123209e-01 4.95475923e-01 2.78065327e-01 3.79817178e-01\n",
            "  1.81507525e-01 9.35230393e-01 3.14775261e-01 2.48993211e-01\n",
            "  3.84478990e-01 5.25220755e-01 6.22880259e-01 5.07346202e-01\n",
            "  4.65741645e-01 4.42611587e-01 8.23263633e-01 8.94740254e-01\n",
            "  8.89862876e-01 6.80033918e-01 8.52613096e-01 9.43131894e-01\n",
            "  4.21586721e-01 1.85199385e-02 1.84465500e-01 4.90377819e-01\n",
            "  7.16053827e-01 9.81652904e-01 7.53634106e-01 3.56699484e-01\n",
            "  7.74212409e-01 5.45836420e-01 9.84899014e-01 3.98160867e-01\n",
            "  4.61610694e-01 3.63417922e-01 1.66370307e-01 2.26190726e-01]\n",
            " [4.38107218e-01 4.81887465e-01 3.05206859e-01 1.70852636e-01\n",
            "  4.86021929e-01 2.56689986e-01 5.86673065e-01 5.33770833e-01\n",
            "  5.09383360e-01 9.53863481e-02 3.93612922e-01 7.62719044e-01\n",
            "  6.18451898e-01 6.18041948e-01 2.43624829e-01 5.77026566e-01\n",
            "  2.00489225e-01 6.10039107e-01 2.91421707e-01 3.69682207e-01\n",
            "  4.87123974e-01 3.47143827e-01 4.46964837e-01 3.11024768e-01\n",
            "  4.48677128e-01 3.05480009e-01 1.65322776e-01 6.40199266e-01\n",
            "  5.89025146e-01 2.27680619e-01 2.62708893e-01 3.99884681e-01\n",
            "  3.17277959e-01 5.75340614e-01 6.65458618e-02 2.49407462e-01\n",
            "  2.90061859e-01 6.06160699e-01 3.43845485e-01 4.50557051e-01\n",
            "  5.11724551e-01 1.68963412e-01 7.14800461e-01 5.12575164e-01\n",
            "  4.65808264e-01 3.12558378e-01 5.81914751e-01 5.35369569e-01\n",
            "  6.74977264e-01 0.00000000e+00 1.95595826e-01 6.52017423e-02\n",
            "  4.11399380e-01 2.89442500e-01 4.97699407e-01 1.50145718e-01\n",
            "  4.06632187e-01 3.83139222e-01 5.34434135e-01 4.72482819e-01\n",
            "  3.77588773e-01 1.34060573e-01 1.77402489e-01 3.95262195e-01\n",
            "  3.35783697e-01 5.85736233e-01 3.97620423e-01 3.89121559e-01\n",
            "  5.50344692e-01 4.48326941e-01 3.71088248e-01 5.97963726e-01\n",
            "  3.10573134e-01 5.59979330e-01 2.31295374e-01 7.81794119e-01\n",
            "  3.42367522e-01 6.51008776e-01 1.49996646e-01 3.21503998e-01\n",
            "  2.78960812e-01 5.32939673e-01 3.70085725e-01 5.13519719e-01\n",
            "  7.67730606e-01 6.73101302e-01 5.16557478e-01 2.06325527e-01\n",
            "  1.94755964e-01 4.45480469e-01 2.98407890e-01 8.06424419e-01\n",
            "  1.44542232e-01 1.70954213e-01 3.10100503e-01 3.56975788e-01\n",
            "  2.34087871e-01 7.36579766e-01 6.51763301e-01 6.80806349e-01]\n",
            " [4.02251359e-01 3.23723043e-01 2.86659266e-01 1.18723331e-01\n",
            "  4.66096880e-01 2.94273515e-01 3.94673023e-01 6.34853378e-01\n",
            "  6.18302169e-01 2.82727398e-01 1.99482643e-01 6.08119614e-01\n",
            "  4.47249077e-01 5.51759436e-01 3.16353073e-01 5.54680065e-01\n",
            "  3.27562183e-01 4.31299592e-01 4.68541129e-01 2.59769765e-01\n",
            "  4.91256806e-01 1.56234589e-01 3.82158519e-01 2.53176023e-01\n",
            "  3.88398062e-01 4.72692405e-01 5.77923993e-02 4.62926730e-01\n",
            "  6.60616285e-01 2.45490544e-01 4.58141150e-01 4.40709231e-01\n",
            "  2.33115744e-01 5.95094730e-01 1.62273064e-01 3.44540269e-01\n",
            "  3.12531037e-01 4.19855415e-01 4.24522963e-01 4.32870185e-01\n",
            "  5.25857201e-01 2.09046806e-01 5.54487280e-01 5.95828639e-01\n",
            "  2.83520539e-01 3.44318042e-01 3.95855144e-01 3.66240430e-01\n",
            "  4.79418461e-01 1.95595826e-01 0.00000000e+00 1.69102593e-01\n",
            "  5.25436188e-01 1.43633440e-01 4.92694648e-01 3.45697893e-01\n",
            "  3.45356350e-01 3.84039046e-01 3.55842958e-01 3.61296025e-01\n",
            "  1.88049299e-01 3.29609265e-01 4.80944566e-02 4.48114680e-01\n",
            "  4.43600173e-01 4.67310350e-01 2.02599379e-01 2.38278360e-01\n",
            "  3.60778093e-01 5.52376582e-01 1.82092010e-01 4.20442298e-01\n",
            "  1.34613165e-01 4.54069206e-01 2.40897155e-01 6.46654106e-01\n",
            "  2.25730839e-01 5.16387048e-01 3.44164957e-01 4.61885027e-01\n",
            "  4.35496439e-01 4.95104305e-01 4.65238003e-01 5.95371931e-01\n",
            "  6.11299605e-01 4.77521969e-01 3.25821629e-01 7.52382533e-02\n",
            "  2.88095707e-01 5.69178119e-01 3.63526774e-01 6.38183636e-01\n",
            "  3.06667097e-01 1.18231726e-01 5.05659973e-01 2.03989419e-01\n",
            "  8.61468792e-02 5.72318656e-01 4.65850894e-01 4.98841509e-01]\n",
            " [4.77135705e-01 4.81109153e-01 2.40958022e-01 1.11774074e-01\n",
            "  4.23564062e-01 1.98309971e-01 5.63248437e-01 4.99784255e-01\n",
            "  4.78215640e-01 1.19125004e-01 3.67461665e-01 7.03617365e-01\n",
            "  6.11789423e-01 5.53059052e-01 1.93482279e-01 5.14918301e-01\n",
            "  1.71217117e-01 5.98578814e-01 2.99451423e-01 3.07139648e-01\n",
            "  4.27720813e-01 3.25337181e-01 4.78377378e-01 2.45906779e-01\n",
            "  4.81397073e-01 3.68276214e-01 1.58630665e-01 5.88659221e-01\n",
            "  5.45660838e-01 2.72235895e-01 3.05740855e-01 3.46051033e-01\n",
            "  2.53295277e-01 5.19400397e-01 6.86693760e-03 3.10726550e-01\n",
            "  3.38870495e-01 5.88836692e-01 4.04706153e-01 4.94308293e-01\n",
            "  4.54185485e-01 2.14242906e-01 6.57243669e-01 4.72077844e-01\n",
            "  4.18452797e-01 2.54887437e-01 5.35436073e-01 5.29477866e-01\n",
            "  6.40803627e-01 6.52017423e-02 1.69102593e-01 0.00000000e+00\n",
            "  3.81173347e-01 2.35616297e-01 4.37103303e-01 1.92207749e-01\n",
            "  4.38118270e-01 3.21990241e-01 4.84403933e-01 4.08946996e-01\n",
            "  3.36469268e-01 1.79605923e-01 1.37343954e-01 4.52543714e-01\n",
            "  3.01539697e-01 6.02251879e-01 3.62954664e-01 3.32810980e-01\n",
            "  5.29856875e-01 4.14502445e-01 3.29707346e-01 5.87292159e-01\n",
            "  2.64504275e-01 5.80565071e-01 1.67806142e-01 7.19370339e-01\n",
            "  3.54766175e-01 5.88985537e-01 2.00578102e-01 3.02969237e-01\n",
            "  3.43461325e-01 4.69185351e-01 3.31568038e-01 4.72576006e-01\n",
            "  7.69584659e-01 6.40503285e-01 4.74332178e-01 2.03390777e-01\n",
            "  1.49061484e-01 5.10603606e-01 3.56042003e-01 7.50684182e-01\n",
            "  2.09569570e-01 1.11974835e-01 3.48756162e-01 3.56402940e-01\n",
            "  1.85507230e-01 7.34265166e-01 6.04667342e-01 6.67140411e-01]\n",
            " [8.49412944e-01 8.49158573e-01 3.15529428e-01 4.11896096e-01\n",
            "  3.34302577e-01 2.50477724e-01 8.85947609e-01 1.24394008e-01\n",
            "  9.79877922e-02 3.38424664e-01 6.97941013e-01 8.16010395e-01\n",
            "  9.68552509e-01 5.01152363e-01 2.12380716e-01 3.83428089e-01\n",
            "  2.11699008e-01 9.47151990e-01 2.27746242e-01 4.66923454e-01\n",
            "  2.83722414e-01 6.69131379e-01 8.56976554e-01 3.75997514e-01\n",
            "  8.59212917e-01 5.70677353e-01 5.34549911e-01 7.86068813e-01\n",
            "  2.06935260e-01 6.38366839e-01 3.96045480e-01 1.87414140e-01\n",
            "  4.15783115e-01 2.94176027e-01 3.87032758e-01 6.30456239e-01\n",
            "  6.97326937e-01 9.25442711e-01 7.19819542e-01 8.60153869e-01\n",
            "  2.72035141e-01 5.79949635e-01 7.93366874e-01 1.27013307e-01\n",
            "  6.67328907e-01 2.28565842e-01 7.71515028e-01 8.89587945e-01\n",
            "  9.23699667e-01 4.11399380e-01 5.25436188e-01 3.81173347e-01\n",
            "  0.00000000e+00 4.98050184e-01 3.07337264e-01 3.68234473e-01\n",
            "  8.16593052e-01 2.71336519e-01 7.06984896e-01 5.11551100e-01\n",
            "  6.27234053e-01 3.79054747e-01 4.79382548e-01 7.83449677e-01\n",
            "  8.18399888e-02 9.82286668e-01 6.71096016e-01 5.46380096e-01\n",
            "  8.61865150e-01 4.38787743e-02 6.20757885e-01 9.37711120e-01\n",
            "  5.52450548e-01 9.61616026e-01 3.05302058e-01 7.79118860e-01\n",
            "  7.34500929e-01 6.76354437e-01 4.00512563e-01 1.08364268e-01\n",
            "  5.78333632e-01 3.92284343e-01 7.20534205e-02 1.30138208e-01\n",
            "  1.13634568e+00 9.29392571e-01 7.39468044e-01 5.78906818e-01\n",
            "  2.38088044e-01 7.59305849e-01 6.89844413e-01 8.94413132e-01\n",
            "  4.93486084e-01 4.12414068e-01 3.88639246e-01 7.27879300e-01\n",
            "  4.88939452e-01 1.09557352e+00 8.29029311e-01 1.00906709e+00]\n",
            " [5.37159777e-01 3.94502353e-01 2.00167694e-01 1.25526861e-01\n",
            "  3.53244403e-01 2.47618676e-01 3.88831116e-01 5.89508761e-01\n",
            "  5.80116440e-01 3.52240058e-01 2.10300954e-01 4.76356631e-01\n",
            "  4.88875173e-01 4.15404319e-01 2.89270551e-01 4.35795207e-01\n",
            "  3.37907233e-01 4.60479165e-01 5.06229139e-01 1.19672962e-01\n",
            "  3.90262029e-01 1.98044778e-01 5.09448249e-01 1.46480857e-01\n",
            "  5.16936337e-01 5.90896213e-01 2.00393793e-01 3.53111232e-01\n",
            "  5.92182561e-01 3.89016241e-01 5.40782191e-01 3.68110388e-01\n",
            "  1.12013697e-01 4.96881383e-01 2.30646037e-01 4.82973459e-01\n",
            "  4.56141950e-01 4.32058562e-01 5.66238395e-01 5.70835820e-01\n",
            "  4.28363807e-01 3.49963862e-01 4.26400656e-01 5.39417417e-01\n",
            "  1.87766843e-01 2.80599217e-01 3.04220765e-01 4.17776734e-01\n",
            "  4.32012343e-01 2.89442500e-01 1.43633440e-01 2.35616297e-01\n",
            "  4.98050184e-01 0.00000000e+00 3.86298563e-01 4.27647389e-01\n",
            "  4.75556715e-01 2.91990941e-01 2.49739119e-01 2.18141466e-01\n",
            "  1.29183921e-01 4.15208834e-01 1.22726284e-01 5.91687959e-01\n",
            "  4.19677444e-01 5.62970409e-01 1.74493828e-01 1.00988523e-01\n",
            "  3.67814111e-01 5.14829913e-01 1.22727860e-01 4.52853363e-01\n",
            "  5.67967385e-02 5.58606728e-01 1.93141922e-01 5.06671117e-01\n",
            "  3.42945826e-01 3.75625263e-01 4.35640030e-01 4.62776445e-01\n",
            "  5.58719815e-01 3.71535671e-01 4.28959740e-01 5.37966862e-01\n",
            "  6.64920928e-01 4.35658880e-01 2.52185603e-01 2.14678908e-01\n",
            "  2.84211011e-01 7.05110161e-01 5.05999504e-01 5.16998830e-01\n",
            "  4.24507451e-01 1.25220398e-01 5.81972417e-01 2.98256150e-01\n",
            "  6.10455116e-02 6.17387885e-01 3.72121300e-01 5.16759349e-01]\n",
            " [8.89331023e-01 7.80686213e-01 2.07808025e-01 3.83257155e-01\n",
            "  4.19377397e-02 2.41622740e-01 7.43599476e-01 3.14738129e-01\n",
            "  3.27534452e-01 4.79649787e-01 5.90932413e-01 5.33657863e-01\n",
            "  8.66827572e-01 1.94172566e-01 2.68470411e-01 8.59109319e-02\n",
            "  3.51053640e-01 8.33487112e-01 4.85642473e-01 2.89004380e-01\n",
            "  2.37960804e-02 5.84216218e-01 8.74326641e-01 2.43045893e-01\n",
            "  8.80148299e-01 7.63241200e-01 5.32346685e-01 5.50333132e-01\n",
            "  2.57255017e-01 7.00651622e-01 6.23253467e-01 1.31886192e-01\n",
            "  2.74284982e-01 1.14143336e-01 4.38913180e-01 7.47000987e-01\n",
            "  7.69834274e-01 7.96504405e-01 8.41325445e-01 9.14677869e-01\n",
            "  5.51249456e-02 6.45637706e-01 5.22907703e-01 2.48701235e-01\n",
            "  4.88528885e-01 1.87880170e-01 5.64430707e-01 8.00713172e-01\n",
            "  7.37190320e-01 4.97699407e-01 4.92694648e-01 4.37103303e-01\n",
            "  3.07337264e-01 3.86298563e-01 0.00000000e+00 5.46564793e-01\n",
            "  8.36691789e-01 1.15283467e-01 5.00030938e-01 2.70889408e-01\n",
            "  4.94493324e-01 5.47500520e-01 4.47486527e-01 8.89277102e-01\n",
            "  2.84309978e-01 9.47833284e-01 5.44970706e-01 3.74032103e-01\n",
            "  7.33364780e-01 2.87436586e-01 4.89977682e-01 8.27759974e-01\n",
            "  4.39955034e-01 9.40727320e-01 2.71740692e-01 4.81509940e-01\n",
            "  7.16707133e-01 3.94935047e-01 5.73886330e-01 3.67737440e-01\n",
            "  7.53012585e-01 8.73134847e-02 2.52245611e-01 2.44913328e-01\n",
            "  1.04467786e+00 7.47804319e-01 5.60445141e-01 5.66364998e-01\n",
            "  3.18142023e-01 9.32581898e-01 7.93010221e-01 6.20384470e-01\n",
            "  6.31421333e-01 3.83627575e-01 6.36356192e-01 6.81201496e-01\n",
            "  4.16707058e-01 9.94077166e-01 6.06306784e-01 8.80579744e-01]\n",
            " [5.20403118e-01 6.19746299e-01 3.88321911e-01 3.02784402e-01\n",
            "  5.46084132e-01 3.15382655e-01 7.35885188e-01 4.91354057e-01\n",
            "  4.61184795e-01 7.87347900e-02 5.43594537e-01 8.90077582e-01\n",
            "  7.59474070e-01 6.98669968e-01 2.78673031e-01 6.31608948e-01\n",
            "  1.97016241e-01 7.54220209e-01 1.79025708e-01 4.89142839e-01\n",
            "  5.30538746e-01 4.96610863e-01 5.44571720e-01 4.13813077e-01\n",
            "  5.43734788e-01 2.17398562e-01 3.13156508e-01 7.80756070e-01\n",
            "  5.69806671e-01 3.15173486e-01 1.13853177e-01 4.26177436e-01\n",
            "  4.31122994e-01 5.99707178e-01 1.97536761e-01 2.70382994e-01\n",
            "  3.58286362e-01 7.53301253e-01 3.54715221e-01 5.20591512e-01\n",
            "  5.45542537e-01 2.65223989e-01 8.45871476e-01 4.88956953e-01\n",
            "  6.10255174e-01 3.61393252e-01 7.27102356e-01 6.76490819e-01\n",
            "  8.24978797e-01 1.50145718e-01 3.45697893e-01 1.92207749e-01\n",
            "  3.68234473e-01 4.27647389e-01 5.46564793e-01 0.00000000e+00\n",
            "  5.05883642e-01 4.41126243e-01 6.76608591e-01 5.85708332e-01\n",
            "  5.25447672e-01 1.86460051e-02 3.24552824e-01 4.21581354e-01\n",
            "  3.11683123e-01 7.03297587e-01 5.47356135e-01 5.23542121e-01\n",
            "  6.98818380e-01 4.11104697e-01 5.18821290e-01 7.41744414e-01\n",
            "  4.55645980e-01 6.72234454e-01 3.15989852e-01 8.97932847e-01\n",
            "  4.71180121e-01 7.69589094e-01 3.22801255e-02 2.61426214e-01\n",
            "  2.14224706e-01 6.00831454e-01 3.52792907e-01 4.91110412e-01\n",
            "  9.00423068e-01 8.23219638e-01 6.64174799e-01 3.51437773e-01\n",
            "  2.31042090e-01 3.97195717e-01 3.32779601e-01 9.40837102e-01\n",
            "  1.33261185e-01 3.03038688e-01 1.59962836e-01 4.96738613e-01\n",
            "  3.77152395e-01 8.73375541e-01 7.96531063e-01 8.25916663e-01]\n",
            " [7.00261865e-02 2.37558980e-01 6.29255025e-01 4.54634325e-01\n",
            "  8.11224213e-01 6.21427524e-01 4.43177692e-01 9.37213177e-01\n",
            "  9.14373945e-01 4.92368176e-01 3.57237521e-01 8.70572200e-01\n",
            "  3.60407303e-01 8.90959899e-01 6.28776422e-01 9.00036040e-01\n",
            "  6.04894266e-01 3.83356982e-01 6.81095407e-01 5.95162574e-01\n",
            "  8.33887263e-01 3.20891437e-01 4.03843419e-02 5.98532276e-01\n",
            "  4.38208298e-02 4.74544962e-01 3.05211629e-01 6.89690171e-01\n",
            "  9.82216207e-01 1.90729475e-01 5.81114288e-01 7.72378486e-01\n",
            "  5.76979897e-01 9.35688472e-01 4.32961065e-01 2.80569458e-01\n",
            "  1.64411106e-01 4.17335662e-01 2.76327689e-01 1.14680311e-01\n",
            "  8.66953621e-01 2.43458579e-01 8.10903175e-01 9.09948011e-01\n",
            "  5.29172563e-01 6.76167458e-01 6.02630393e-01 2.98830875e-01\n",
            "  5.81016412e-01 4.06632187e-01 3.45356350e-01 4.38118270e-01\n",
            "  8.16593052e-01 4.75556715e-01 8.36691789e-01 5.05883642e-01\n",
            "  0.00000000e+00 7.25603045e-01 5.96384751e-01 6.88582122e-01\n",
            "  4.39054236e-01 4.87759985e-01 3.89283179e-01 2.37101714e-01\n",
            "  7.38634155e-01 2.11864651e-01 4.08963361e-01 5.48749090e-01\n",
            "  4.00122688e-01 8.51739924e-01 4.37726396e-01 3.69863653e-01\n",
            "  4.39894885e-01 1.73118970e-01 5.74173269e-01 9.35040843e-01\n",
            "  1.40512011e-01 8.13410689e-01 4.82255148e-01 7.27929801e-01\n",
            "  4.26866238e-01 8.40079440e-01 7.69663239e-01 9.10338655e-01\n",
            "  4.38499051e-01 5.68445176e-01 5.24881090e-01 2.70634846e-01\n",
            "  5.86979041e-01 4.40530666e-01 2.32697454e-01 8.70239814e-01\n",
            "  3.82461497e-01 4.54227475e-01 6.32806597e-01 2.07544404e-01\n",
            "  4.27723704e-01 4.31864301e-01 6.60947781e-01 4.50528628e-01]\n",
            " [7.76630414e-01 6.84252878e-01 9.75337434e-02 2.71024616e-01\n",
            "  1.05337040e-01 1.28772535e-01 6.69153937e-01 3.24148630e-01\n",
            "  3.25018130e-01 3.70660589e-01 5.01784951e-01 5.45354756e-01\n",
            "  7.80272185e-01 2.63530865e-01 1.63389641e-01 1.94471321e-01\n",
            "  2.50697578e-01 7.50228279e-01 4.04307397e-01 2.17136111e-01\n",
            "  1.08637887e-01 4.88643022e-01 7.63791264e-01 1.45656581e-01\n",
            "  7.69245986e-01 6.55861462e-01 4.20502520e-01 5.21236320e-01\n",
            "  3.04735462e-01 5.85773661e-01 5.26039580e-01 9.06711676e-02\n",
            "  1.83527187e-01 2.11066971e-01 3.23707467e-01 6.32225334e-01\n",
            "  6.54829106e-01 7.17885052e-01 7.26461619e-01 8.00981673e-01\n",
            "  1.41821175e-01 5.30501677e-01 5.22058116e-01 2.64336508e-01\n",
            "  4.25031430e-01 8.02799925e-02 5.17415749e-01 7.09749243e-01\n",
            "  6.81584023e-01 3.83139222e-01 3.84039046e-01 3.21990241e-01\n",
            "  2.71336519e-01 2.91990941e-01 1.15283467e-01 4.41126243e-01\n",
            "  7.25603045e-01 0.00000000e+00 4.51875953e-01 2.41673017e-01\n",
            "  4.11508818e-01 4.40368163e-01 3.37550148e-01 7.74013502e-01\n",
            "  2.20322319e-01 8.45763822e-01 4.60997325e-01 3.03651339e-01\n",
            "  6.53765448e-01 2.68139093e-01 4.06143531e-01 7.43269358e-01\n",
            "  3.48182380e-01 8.36140427e-01 1.56587976e-01 5.14795290e-01\n",
            "  6.09510161e-01 4.06180172e-01 4.66818156e-01 2.99075157e-01\n",
            "  6.43088791e-01 1.60200993e-01 2.02062937e-01 2.61884300e-01\n",
            "  9.56795922e-01 6.89963740e-01 4.98630173e-01 4.56305737e-01\n",
            "  2.10178628e-01 8.21065581e-01 6.77787476e-01 6.23078757e-01\n",
            "  5.18836556e-01 2.71423424e-01 5.44826980e-01 5.78631907e-01\n",
            "  3.13092554e-01 9.08630046e-01 5.69180190e-01 8.02730214e-01]\n",
            " [6.65988621e-01 4.14915683e-01 3.91611303e-01 3.75259103e-01\n",
            "  4.58407960e-01 4.65558181e-01 2.79196071e-01 7.75723402e-01\n",
            "  7.74425480e-01 6.01856419e-01 2.39207782e-01 2.74198600e-01\n",
            "  4.34566687e-01 4.20607094e-01 5.14852510e-01 5.08566234e-01\n",
            "  5.78044535e-01 3.90991593e-01 7.50829509e-01 2.40118816e-01\n",
            "  5.14752837e-01 2.78631572e-01 6.18777112e-01 3.31750701e-01\n",
            "  6.28770798e-01 8.27622920e-01 4.10311392e-01 1.07088572e-01\n",
            "  7.49105445e-01 5.80123865e-01 7.90068717e-01 5.42008562e-01\n",
            "  2.93249071e-01 6.11791884e-01 4.79114196e-01 6.94005623e-01\n",
            "  6.37422239e-01 3.40534674e-01 7.64794383e-01 7.08280965e-01\n",
            "  5.53775470e-01 5.57381495e-01 2.14739337e-01 7.16082356e-01\n",
            "  7.34366851e-02 4.78419302e-01 6.55525610e-02 3.98499901e-01\n",
            "  2.38093044e-01 5.34434135e-01 3.55842958e-01 4.84403933e-01\n",
            "  7.06984896e-01 2.49739119e-01 5.00030938e-01 6.76608591e-01\n",
            "  5.96384751e-01 4.51875953e-01 0.00000000e+00 2.30539948e-01\n",
            "  1.73126919e-01 6.63583449e-01 3.58308510e-01 7.73319023e-01\n",
            "  6.36309528e-01 5.95342529e-01 1.88766201e-01 1.64999644e-01\n",
            "  2.88860184e-01 7.13610383e-01 1.77688324e-01 3.90900319e-01\n",
            "  2.24890506e-01 6.09795940e-01 4.19710336e-01 3.45514223e-01\n",
            "  4.57403459e-01 2.40408237e-01 6.83037634e-01 6.93046334e-01\n",
            "  7.91261577e-01 4.42016645e-01 6.34981776e-01 7.13525004e-01\n",
            "  6.04491084e-01 2.50056312e-01 8.64501408e-02 4.01290563e-01\n",
            "  5.21922263e-01 9.19562535e-01 7.01973818e-01 2.85433264e-01\n",
            "  6.60873702e-01 3.74948624e-01 8.31692014e-01 3.88846634e-01\n",
            "  3.00470048e-01 5.47461781e-01 1.24853589e-01 4.15554416e-01]\n",
            " [7.52326580e-01 5.70244847e-01 2.16130459e-01 3.04126290e-01\n",
            "  2.29009895e-01 3.00929716e-01 4.90556293e-01 5.62132510e-01\n",
            "  5.65594276e-01 5.07037626e-01 3.72063180e-01 3.15658897e-01\n",
            "  6.29978237e-01 2.12699222e-01 3.52729808e-01 2.79680583e-01\n",
            "  4.34145421e-01 5.91458412e-01 6.07612762e-01 1.04903767e-01\n",
            "  2.87093946e-01 3.83971348e-01 7.20438043e-01 1.73436927e-01\n",
            "  7.28602839e-01 7.77221852e-01 4.17039787e-01 2.82740661e-01\n",
            "  5.24289938e-01 6.05866883e-01 6.90910102e-01 3.31414483e-01\n",
            "  1.55889464e-01 3.81533718e-01 4.06389682e-01 6.92856521e-01\n",
            "  6.73679059e-01 5.47979562e-01 7.79600060e-01 7.87447714e-01\n",
            "  3.25374170e-01 5.63738517e-01 2.84358610e-01 4.99275579e-01\n",
            "  2.31311645e-01 2.91304309e-01 2.94088513e-01 5.75137900e-01\n",
            "  4.68591466e-01 4.72482819e-01 3.61296025e-01 4.08946996e-01\n",
            "  5.11551100e-01 2.18141466e-01 2.70889408e-01 5.85708332e-01\n",
            "  6.88582122e-01 2.41673017e-01 2.30539948e-01 0.00000000e+00\n",
            "  2.70439850e-01 5.77925080e-01 3.33545287e-01 8.08475938e-01\n",
            "  4.52173543e-01 7.49642158e-01 3.17830302e-01 1.43748639e-01\n",
            "  4.87968087e-01 5.09803962e-01 2.68483419e-01 5.88037738e-01\n",
            "  2.48816815e-01 7.52607861e-01 2.75493766e-01 3.12237351e-01\n",
            "  5.51647689e-01 1.84958800e-01 6.02272196e-01 5.22718060e-01\n",
            "  7.51245921e-01 2.12283274e-01 4.40680813e-01 4.96278108e-01\n",
            "  8.06946439e-01 4.80167306e-01 2.98441521e-01 4.32750347e-01\n",
            "  3.78788899e-01 9.10041244e-01 7.20691399e-01 3.85602310e-01\n",
            "  6.16196921e-01 3.04135991e-01 7.22412002e-01 4.97518482e-01\n",
            "  2.75981514e-01 7.52712345e-01 3.36033085e-01 6.29375602e-01]\n",
            " [5.07086045e-01 2.99894965e-01 3.25087235e-01 2.38422166e-01\n",
            "  4.57438499e-01 3.76795762e-01 2.60454761e-01 7.17425257e-01\n",
            "  7.08786586e-01 4.55537130e-01 1.01769634e-01 4.40683172e-01\n",
            "  3.72355517e-01 4.83014357e-01 4.17974860e-01 5.31185383e-01\n",
            "  4.61705819e-01 3.39623064e-01 6.24704016e-01 2.06263611e-01\n",
            "  5.02011846e-01 1.19414691e-01 4.66127988e-01 2.67206596e-01\n",
            "  4.75348592e-01 6.60410217e-01 2.39653898e-01 2.79019820e-01\n",
            "  7.15270848e-01 4.07201671e-01 6.39175146e-01 4.92544944e-01\n",
            "  2.28052159e-01 6.07934866e-01 3.30341704e-01 5.21128193e-01\n",
            "  4.65635071e-01 3.06522935e-01 5.91841266e-01 5.47132162e-01\n",
            "  5.41281064e-01 3.84629256e-01 3.83200629e-01 6.65822464e-01\n",
            "  9.97266469e-02 4.08227965e-01 2.07932206e-01 3.09067443e-01\n",
            "  3.07881113e-01 3.77588773e-01 1.88049299e-01 3.36469268e-01\n",
            "  6.27234053e-01 1.29183921e-01 4.94493324e-01 5.25447672e-01\n",
            "  4.39054236e-01 4.11508818e-01 1.73126919e-01 2.70439850e-01\n",
            "  0.00000000e+00 5.10680556e-01 2.00895040e-01 6.02138469e-01\n",
            "  5.48724894e-01 4.79370450e-01 5.05060011e-02 1.28311799e-01\n",
            "  2.42318003e-01 6.43691031e-01 6.89494838e-03 3.33445268e-01\n",
            "  7.69654795e-02 4.83784600e-01 3.22225193e-01 4.97001453e-01\n",
            "  2.98557254e-01 3.74381963e-01 5.27581037e-01 5.89634002e-01\n",
            "  6.22316905e-01 4.63715567e-01 5.58050867e-01 6.64186659e-01\n",
            "  5.50291365e-01 3.09894666e-01 1.38972084e-01 2.28227961e-01\n",
            "  4.09917573e-01 7.46622047e-01 5.29062969e-01 4.58542140e-01\n",
            "  4.94682717e-01 2.37986505e-01 6.84319407e-01 2.35750464e-01\n",
            "  1.53942946e-01 4.99675377e-01 2.77863835e-01 3.91408701e-01]\n",
            " [5.03039819e-01 6.01292824e-01 3.83946852e-01 2.90961960e-01\n",
            "  5.45589498e-01 3.13394882e-01 7.18736032e-01 5.02717478e-01\n",
            "  4.73045063e-01 7.20003554e-02 5.26936491e-01 8.80297918e-01\n",
            "  7.41148129e-01 6.95897576e-01 2.79073374e-01 6.32116238e-01\n",
            "  2.00328071e-01 7.36142290e-01 1.95806408e-01 4.80122524e-01\n",
            "  5.32090953e-01 4.79633994e-01 5.26549442e-01 4.06945174e-01\n",
            "  5.25813736e-01 2.15783262e-01 2.95855210e-01 7.68181545e-01\n",
            "  5.78919251e-01 2.97093498e-01 1.28700849e-01 4.29265197e-01\n",
            "  4.22749230e-01 6.03866817e-01 1.84608789e-01 2.55767114e-01\n",
            "  3.41214179e-01 7.35616194e-01 3.41792585e-01 5.03908869e-01\n",
            "  5.48347885e-01 2.46753323e-01 8.35354788e-01 4.98254235e-01\n",
            "  5.96599495e-01 3.61159047e-01 7.13289790e-01 6.58188475e-01\n",
            "  8.09019661e-01 1.34060573e-01 3.29609265e-01 1.79605923e-01\n",
            "  3.79054747e-01 4.15208834e-01 5.47500520e-01 1.86460051e-02\n",
            "  4.87759985e-01 4.40368163e-01 6.63583449e-01 5.77925080e-01\n",
            "  5.10680556e-01 0.00000000e+00 3.09857761e-01 4.07716615e-01\n",
            "  3.19802528e-01 6.84754798e-01 5.31660410e-01 5.12027161e-01\n",
            "  6.81437010e-01 4.21529224e-01 5.04098056e-01 7.23630654e-01\n",
            "  4.41699616e-01 6.53805679e-01 3.10726533e-01 8.90129968e-01\n",
            "  4.52555474e-01 7.61245169e-01 2.64524550e-02 2.73221971e-01\n",
            "  2.08538870e-01 5.99512954e-01 3.60514584e-01 5.00281824e-01\n",
            "  8.81802414e-01 8.07046857e-01 6.49543050e-01 3.33672872e-01\n",
            "  2.30274634e-01 3.91278488e-01 3.17723258e-01 9.29703492e-01\n",
            "  1.17952088e-01 2.91194050e-01 1.76451021e-01 4.78418594e-01\n",
            "  3.63583339e-01 8.54844803e-01 7.82864999e-01 8.07925110e-01]\n",
            " [4.43817285e-01 3.70225847e-01 2.40485551e-01 7.06409982e-02\n",
            "  4.22190314e-01 2.46210282e-01 4.28559676e-01 5.87565546e-01\n",
            "  5.71509202e-01 2.55653940e-01 2.32656044e-01 5.98153077e-01\n",
            "  4.90732746e-01 5.15504602e-01 2.69249738e-01 5.11688515e-01\n",
            "  2.85279378e-01 4.72654986e-01 4.33787701e-01 2.29430383e-01\n",
            "  4.45276045e-01 1.94549071e-01 4.26848970e-01 2.10860227e-01\n",
            "  4.32679027e-01 4.71356908e-01 8.79267105e-02 4.64765488e-01\n",
            "  6.12525651e-01 2.74022985e-01 4.38289814e-01 3.92748083e-01\n",
            "  1.95104186e-01 5.48473067e-01 1.30889771e-01 3.61081113e-01\n",
            "  3.43020747e-01 4.57914424e-01 4.46213055e-01 4.72350652e-01\n",
            "  4.79336017e-01 2.30195505e-01 5.46965877e-01 5.47944167e-01\n",
            "  2.88705949e-01 2.96294581e-01 4.04549678e-01 4.10658003e-01\n",
            "  5.03507749e-01 1.77402489e-01 4.80944566e-02 1.37343954e-01\n",
            "  4.79382548e-01 1.22726284e-01 4.47486527e-01 3.24552824e-01\n",
            "  3.89283179e-01 3.37550148e-01 3.58308510e-01 3.33545287e-01\n",
            "  2.00895040e-01 3.09857761e-01 0.00000000e+00 4.75940488e-01\n",
            "  3.97559565e-01 5.15401551e-01 2.25610765e-01 2.23202628e-01\n",
            "  3.97105824e-01 5.05488731e-01 1.94276567e-01 4.62275473e-01\n",
            "  1.33596794e-01 5.01924127e-01 1.92836323e-01 6.29141878e-01\n",
            "  2.73168925e-01 4.97957105e-01 3.27271155e-01 4.19269822e-01\n",
            "  4.37567406e-01 4.53689377e-01 4.18198244e-01 5.47454659e-01\n",
            "  6.56963305e-01 5.03161928e-01 3.39689940e-01 1.18917155e-01\n",
            "  2.43047189e-01 5.82466781e-01 3.87157526e-01 6.34990439e-01\n",
            "  3.04441316e-01 7.01475686e-02 4.83571706e-01 2.51736088e-01\n",
            "  6.19385716e-02 6.16812073e-01 4.74442218e-01 5.38603767e-01]\n",
            " [1.91091613e-01 4.69622837e-01 6.87799410e-01 5.20680784e-01\n",
            "  8.73648708e-01 6.50538474e-01 6.68313212e-01 9.07796484e-01\n",
            "  8.79223740e-01 4.46515426e-01 5.44801259e-01 1.04253625e+00\n",
            "  5.97374009e-01 9.88081744e-01 6.38551094e-01 9.65285978e-01\n",
            "  5.84216161e-01 6.18755065e-01 5.96868030e-01 7.05136136e-01\n",
            "  8.80258978e-01 4.97970414e-01 2.51738362e-01 6.77107167e-01\n",
            "  2.43056057e-01 2.96041729e-01 3.91523480e-01 8.75544761e-01\n",
            "  9.75997994e-01 2.02689394e-01 4.53401277e-01 7.95122472e-01\n",
            "  6.68796335e-01 9.70520911e-01 4.50451536e-01 1.52994886e-01\n",
            "  1.37117510e-01 6.49204029e-01 7.19168849e-02 1.57610726e-01\n",
            "  9.06321040e-01 2.48294588e-01 9.85338169e-01 8.96884057e-01\n",
            "  7.00869566e-01 7.06914758e-01 7.93555377e-01 5.32915824e-01\n",
            "  8.01476190e-01 3.95262195e-01 4.48114680e-01 4.52543714e-01\n",
            "  7.83449677e-01 5.91687959e-01 8.89277102e-01 4.21581354e-01\n",
            "  2.37101714e-01 7.74013502e-01 7.73319023e-01 8.08475938e-01\n",
            "  6.02138469e-01 4.07716615e-01 4.75940488e-01 0.00000000e+00\n",
            "  7.16801279e-01 4.33062391e-01 5.86791601e-01 6.84466059e-01\n",
            "  6.24454133e-01 8.24613921e-01 5.98635759e-01 6.05107999e-01\n",
            "  5.75573413e-01 3.89185949e-01 6.18095396e-01 1.09111200e+00\n",
            "  3.36128911e-01 9.62245657e-01 3.90326683e-01 6.79920245e-01\n",
            "  2.55453604e-01 9.15253854e-01 7.54988711e-01 8.98393018e-01\n",
            "  6.65561438e-01 7.90708025e-01 7.14963301e-01 3.81631131e-01\n",
            "  5.88909602e-01 2.07106239e-01 9.68545760e-02 1.05739801e+00\n",
            "  2.90531321e-01 5.20464464e-01 4.98410449e-01 4.05623537e-01\n",
            "  5.32546048e-01 6.64983501e-01 8.58126217e-01 6.87096532e-01]\n",
            " [7.73608197e-01 7.67323142e-01 2.45624191e-01 3.30275346e-01\n",
            "  3.02411485e-01 1.73339628e-01 8.06415611e-01 1.98591665e-01\n",
            "  1.76908380e-01 2.70342037e-01 6.17233863e-01 7.63254955e-01\n",
            "  8.86970546e-01 4.71675359e-01 1.31615897e-01 3.67684886e-01\n",
            "  1.35400703e-01 8.65947426e-01 2.04891500e-01 3.97400744e-01\n",
            "  2.62408960e-01 5.87706561e-01 7.78989865e-01 3.04609413e-01\n",
            "  7.81556424e-01 5.23549170e-01 4.53367742e-01 7.19776915e-01\n",
            "  2.59930492e-01 5.63450235e-01 3.59592287e-01 1.52899833e-01\n",
            "  3.43289152e-01 3.02456541e-01 3.07197540e-01 5.64150332e-01\n",
            "  6.24399831e-01 8.44959452e-01 6.55614255e-01 7.86143814e-01\n",
            "  2.62400957e-01 5.04747030e-01 7.36316554e-01 1.80123731e-01\n",
            "  5.93114377e-01 1.61565362e-01 7.00065386e-01 8.07852117e-01\n",
            "  8.48123209e-01 3.35783697e-01 4.43600173e-01 3.01539697e-01\n",
            "  8.18399888e-02 4.19677444e-01 2.84309978e-01 3.11683123e-01\n",
            "  7.38634155e-01 2.20322319e-01 6.36309528e-01 4.52173543e-01\n",
            "  5.48724894e-01 3.19802528e-01 3.97559565e-01 7.16801279e-01\n",
            "  0.00000000e+00 9.01396223e-01 5.91676810e-01 4.73525073e-01\n",
            "  7.81564427e-01 1.13106667e-01 5.42160630e-01 8.56398248e-01\n",
            "  4.73273430e-01 8.81331280e-01 2.26535964e-01 7.35090432e-01\n",
            "  6.53642610e-01 6.25044262e-01 3.43455327e-01 8.34298787e-02\n",
            "  5.25577209e-01 3.62320311e-01 4.16806088e-02 1.81747193e-01\n",
            "  1.05452196e+00 8.53204495e-01 6.64421319e-01 4.97592129e-01\n",
            "  1.56533498e-01 7.08340715e-01 6.21753126e-01 8.37603035e-01\n",
            "  4.29374246e-01 3.30793115e-01 3.62712800e-01 6.46152676e-01\n",
            "  4.08130403e-01 1.01387593e+00 7.59676755e-01 9.28350258e-01]\n",
            " [2.41972701e-01 1.81998857e-01 7.48564680e-01 5.85992378e-01\n",
            "  9.16022624e-01 7.61399578e-01 3.59043124e-01 1.09738110e+00\n",
            "  1.07819560e+00 6.78138644e-01 3.78339169e-01 8.56855870e-01\n",
            "  2.16547571e-01 9.61888203e-01 7.79908472e-01 9.98332558e-01\n",
            "  7.73465362e-01 2.57476258e-01 8.72641880e-01 6.74308335e-01\n",
            "  9.49809206e-01 3.68618816e-01 1.84173807e-01 7.04970067e-01\n",
            "  1.91393159e-01 6.86409472e-01 4.48237289e-01 6.66233323e-01\n",
            "  1.12784543e+00 3.93348430e-01 7.86756349e-01 9.07637113e-01\n",
            "  6.74411423e-01 1.05574135e+00 5.96089558e-01 4.92328124e-01\n",
            "  3.76092498e-01 3.09216839e-01 4.82851145e-01 2.79379704e-01\n",
            "  9.86493680e-01 4.38246296e-01 7.96872094e-01 1.06178079e+00\n",
            "  5.43731916e-01 8.11483854e-01 5.78296890e-01 2.03495970e-01\n",
            "  4.95475923e-01 5.85736233e-01 4.67310350e-01 6.02251879e-01\n",
            "  9.82286668e-01 5.62970409e-01 9.47833284e-01 7.03297587e-01\n",
            "  2.11864651e-01 8.45763822e-01 5.95342529e-01 7.49642158e-01\n",
            "  4.79370450e-01 6.84754798e-01 5.15401551e-01 4.33062391e-01\n",
            "  9.01396223e-01 0.00000000e+00 4.33930793e-01 6.06392649e-01\n",
            "  3.26108312e-01 1.01318407e+00 4.81161541e-01 2.47656260e-01\n",
            "  5.12960037e-01 4.47249346e-02 7.08171662e-01 9.39608795e-01\n",
            "  2.47785782e-01 8.33355848e-01 6.82589475e-01 9.03711601e-01\n",
            "  6.38724566e-01 9.33009056e-01 9.27364484e-01 1.06151229e+00\n",
            "  2.32669892e-01 4.78864637e-01 5.10851683e-01 4.04560058e-01\n",
            "  7.45161155e-01 6.40166009e-01 4.43765108e-01 8.33594243e-01\n",
            "  5.87058103e-01 5.85504662e-01 8.38943525e-01 2.67142714e-01\n",
            "  5.32723945e-01 2.38598773e-01 6.20207997e-01 3.03705243e-01]\n",
            " [4.78209076e-01 2.53013511e-01 3.73131065e-01 2.72986407e-01\n",
            "  5.07943694e-01 4.21165402e-01 2.14855778e-01 7.64000165e-01\n",
            "  7.54441849e-01 4.80944458e-01 5.61566166e-02 4.62532880e-01\n",
            "  3.21862635e-01 5.30517382e-01 4.60302725e-01 5.81379358e-01\n",
            "  4.98738648e-01 2.89504687e-01 6.57132675e-01 2.56750267e-01\n",
            "  5.52368626e-01 8.99012462e-02 4.33219250e-01 3.16138521e-01\n",
            "  4.42904940e-01 6.68115468e-01 2.47036469e-01 2.88769289e-01\n",
            "  7.64215808e-01 3.98390985e-01 6.60329280e-01 5.40955297e-01\n",
            "  2.77471108e-01 6.58361382e-01 3.56489475e-01 5.17680801e-01\n",
            "  4.52074257e-01 2.57947452e-01 5.82423401e-01 5.19980114e-01\n",
            "  5.91592973e-01 3.82924853e-01 4.03399703e-01 7.13463276e-01\n",
            "  1.20254928e-01 4.55011818e-01 2.08264980e-01 2.59132794e-01\n",
            "  2.78065327e-01 3.97620423e-01 2.02599379e-01 3.62954664e-01\n",
            "  6.71096016e-01 1.74493828e-01 5.44970706e-01 5.47356135e-01\n",
            "  4.08963361e-01 4.60997325e-01 1.88766201e-01 3.17830302e-01\n",
            "  5.05060011e-02 5.31660410e-01 2.25610765e-01 5.86791601e-01\n",
            "  5.91676810e-01 4.33930793e-01 0.00000000e+00 1.77514959e-01\n",
            "  1.93652408e-01 6.89007469e-01 5.51226285e-02 2.83118781e-01\n",
            "  1.18737667e-01 4.40686838e-01 3.65808437e-01 5.26852975e-01\n",
            "  2.69199730e-01 4.08789563e-01 5.46714704e-01 6.28931694e-01\n",
            "  6.27878923e-01 5.13803938e-01 6.02763323e-01 7.11925957e-01\n",
            "  4.99786613e-01 2.77564532e-01 1.31131207e-01 2.26634210e-01\n",
            "  4.48804838e-01 7.41907745e-01 5.19565370e-01 4.70706462e-01\n",
            "  5.04746003e-01 2.72514889e-01 7.07173016e-01 2.01984106e-01\n",
            "  1.88341417e-01 4.49279006e-01 2.75779515e-01 3.42790083e-01]\n",
            " [6.14018610e-01 4.27918981e-01 2.31374676e-01 2.21104878e-01\n",
            "  3.35180152e-01 3.01511959e-01 3.69760956e-01 6.22808907e-01\n",
            "  6.18655740e-01 4.46597188e-01 2.30002624e-01 3.75368390e-01\n",
            "  4.96676308e-01 3.55497184e-01 3.50189721e-01 4.04821617e-01\n",
            "  4.13468033e-01 4.61142864e-01 5.86995961e-01 8.69670220e-02\n",
            "  3.83957391e-01 2.40238694e-01 5.79367697e-01 1.70561800e-01\n",
            "  5.87842270e-01 6.91688040e-01 2.96045021e-01 2.60996587e-01\n",
            "  6.07750572e-01 4.82551284e-01 6.35649598e-01 3.90861645e-01\n",
            "  1.30604486e-01 4.88157484e-01 3.28316101e-01 5.81626705e-01\n",
            "  5.47771062e-01 4.22603442e-01 6.62801144e-01 6.50867268e-01\n",
            "  4.23621525e-01 4.47110578e-01 3.25805555e-01 5.66258161e-01\n",
            "  1.22222178e-01 3.18570431e-01 2.27044150e-01 4.36605312e-01\n",
            "  3.79817178e-01 3.89121559e-01 2.38278360e-01 3.32810980e-01\n",
            "  5.46380096e-01 1.00988523e-01 3.74032103e-01 5.23542121e-01\n",
            "  5.48749090e-01 3.03651339e-01 1.64999644e-01 1.43748639e-01\n",
            "  1.28311799e-01 5.12027161e-01 2.23202628e-01 6.84466059e-01\n",
            "  4.73525073e-01 6.06392649e-01 1.77514959e-01 0.00000000e+00\n",
            "  3.59804312e-01 5.55992437e-01 1.25686704e-01 4.56227995e-01\n",
            "  1.10581423e-01 6.08880649e-01 2.54733018e-01 4.08390440e-01\n",
            "  4.10290535e-01 2.78199699e-01 5.33388436e-01 5.28308317e-01\n",
            "  6.59706941e-01 3.36965843e-01 4.74710970e-01 5.64104030e-01\n",
            "  6.74677699e-01 3.87255015e-01 1.95684041e-01 3.03238181e-01\n",
            "  3.57160117e-01 8.04833063e-01 6.01687113e-01 4.17893487e-01\n",
            "  5.25430191e-01 2.20885370e-01 6.74769030e-01 3.54261480e-01\n",
            "  1.61264419e-01 6.22422582e-01 2.89826214e-01 5.06556709e-01]\n",
            " [4.67090770e-01 1.66952916e-01 5.66774623e-01 4.55544094e-01\n",
            "  6.94920625e-01 6.13015427e-01 4.39235427e-02 9.57152813e-01\n",
            "  9.46917897e-01 6.41874644e-01 1.65387734e-01 5.34684773e-01\n",
            "  1.45826207e-01 6.96076366e-01 6.49948993e-01 7.62896886e-01\n",
            "  6.80793899e-01 1.03886877e-01 8.29226229e-01 4.44459539e-01\n",
            "  7.42221545e-01 2.04599502e-01 4.07034294e-01 5.09461952e-01\n",
            "  4.17966184e-01 7.78879540e-01 3.85669806e-01 3.44002372e-01\n",
            "  9.57564232e-01 4.74796290e-01 8.07303360e-01 7.34550752e-01\n",
            "  4.70362035e-01 8.47356412e-01 5.23036801e-01 6.01396369e-01\n",
            "  5.06748063e-01 6.42952276e-02 6.42139542e-01 5.13086532e-01\n",
            "  7.81725960e-01 4.82712596e-01 4.75425275e-01 9.07076188e-01\n",
            "  2.57852901e-01 6.48410563e-01 2.58436296e-01 1.22845512e-01\n",
            "  1.81507525e-01 5.50344692e-01 3.60778093e-01 5.29856875e-01\n",
            "  8.61865150e-01 3.67814111e-01 7.33364780e-01 6.98818380e-01\n",
            "  4.00122688e-01 6.53765448e-01 2.88860184e-01 4.87968087e-01\n",
            "  2.42318003e-01 6.81437010e-01 3.97105824e-01 6.24454133e-01\n",
            "  7.81564427e-01 3.26108312e-01 1.93652408e-01 3.59804312e-01\n",
            "  0.00000000e+00 8.81239887e-01 2.47860651e-01 1.02289952e-01\n",
            "  3.11445223e-01 3.50911857e-01 5.57176735e-01 6.23265159e-01\n",
            "  2.91495338e-01 5.28583506e-01 6.91704768e-01 8.13566136e-01\n",
            "  7.33767817e-01 6.94776266e-01 7.94539197e-01 9.05556300e-01\n",
            "  3.19618090e-01 1.68358186e-01 2.02730813e-01 3.48873740e-01\n",
            "  6.34128052e-01 8.10784025e-01 5.83029269e-01 5.07542144e-01\n",
            "  6.28530708e-01 4.55041315e-01 8.57379006e-01 2.28648409e-01\n",
            "  3.73820041e-01 2.64756585e-01 2.94554592e-01 1.49160772e-01]\n",
            " [8.86362235e-01 8.75710691e-01 3.24757584e-01 4.36575726e-01\n",
            "  3.18299610e-01 2.68260118e-01 9.03644008e-01 8.55229129e-02\n",
            "  6.61559938e-02 3.78685753e-01 7.18608914e-01 8.07925519e-01\n",
            "  9.91954041e-01 4.81439255e-01 2.36296642e-01 3.58514579e-01\n",
            "  2.47850492e-01 9.68964505e-01 2.71164100e-01 4.73830829e-01\n",
            "  2.63642710e-01 6.92168399e-01 8.92096276e-01 3.85624163e-01\n",
            "  8.94650603e-01 6.14496519e-01 5.64952064e-01 7.88346194e-01\n",
            "  1.63149021e-01 6.75864910e-01 4.39846010e-01 1.79138343e-01\n",
            "  4.26033800e-01 2.60781317e-01 4.20090292e-01 6.71640167e-01\n",
            "  7.35981480e-01 9.45173980e-01 7.61615054e-01 8.98263642e-01\n",
            "  2.46738266e-01 6.17242671e-01 7.88341451e-01 8.37759184e-02\n",
            "  6.77877217e-01 2.37831924e-01 7.78703684e-01 9.14063334e-01\n",
            "  9.35230393e-01 4.48326941e-01 5.52376582e-01 4.14502445e-01\n",
            "  4.38787743e-02 5.14829913e-01 2.87436586e-01 4.11104697e-01\n",
            "  8.51739924e-01 2.68139093e-01 7.13610383e-01 5.09803962e-01\n",
            "  6.43691031e-01 4.21529224e-01 5.05488731e-01 8.24613921e-01\n",
            "  1.13106667e-01 1.01318407e+00 6.89007469e-01 5.55992437e-01\n",
            "  8.81239887e-01 0.00000000e+00 6.37380290e-01 9.59932456e-01\n",
            "  5.70308275e-01 9.93749086e-01 3.24288713e-01 7.65673918e-01\n",
            "  7.65563509e-01 6.67909968e-01 4.43365692e-01 1.52131633e-01\n",
            "  6.21833070e-01 3.74162338e-01 8.75062853e-02 8.71274710e-02\n",
            "  1.16169580e+00 9.41715305e-01 7.50764921e-01 6.08876498e-01\n",
            "  2.68077631e-01 8.02994890e-01 7.30507510e-01 8.88889800e-01\n",
            "  5.35133879e-01 4.37092512e-01 4.31767384e-01 7.55879512e-01\n",
            "  5.10478914e-01 1.11959783e+00 8.33969359e-01 1.02931552e+00]\n",
            " [5.05513833e-01 3.02235325e-01 3.19229884e-01 2.31527305e-01\n",
            "  4.53145224e-01 3.70344784e-01 2.66570695e-01 7.11304526e-01\n",
            "  7.02524967e-01 4.48787558e-01 1.04416134e-01 4.43972515e-01\n",
            "  3.76861335e-01 4.80889334e-01 4.11348142e-01 5.27510380e-01\n",
            "  4.54847659e-01 3.44595223e-01 6.17810125e-01 2.02147885e-01\n",
            "  4.97263345e-01 1.19077701e-01 4.65248427e-01 2.61601318e-01\n",
            "  4.74382620e-01 6.54610474e-01 2.34163704e-01 2.83914489e-01\n",
            "  7.09706839e-01 4.03066328e-01 6.32566088e-01 4.86805389e-01\n",
            "  2.22633232e-01 6.03294829e-01 3.23592795e-01 5.16351969e-01\n",
            "  4.61996004e-01 3.12108935e-01 5.87654959e-01 5.45268504e-01\n",
            "  5.36475658e-01 3.79775752e-01 3.86761420e-01 6.59903712e-01\n",
            "  1.04253588e-01 4.02117648e-01 2.13773407e-01 3.12704789e-01\n",
            "  3.14775261e-01 3.71088248e-01 1.82092010e-01 3.29707346e-01\n",
            "  6.20757885e-01 1.22727860e-01 4.89977682e-01 5.18821290e-01\n",
            "  4.37726396e-01 4.06143531e-01 1.77688324e-01 2.68483419e-01\n",
            "  6.89494838e-03 5.04098056e-01 1.94276567e-01 5.98635759e-01\n",
            "  5.42160630e-01 4.81161541e-01 5.51226285e-02 1.25686704e-01\n",
            "  2.47860651e-01 6.37380290e-01 0.00000000e+00 3.38240698e-01\n",
            "  7.01293247e-02 4.84953895e-01 3.15684783e-01 4.99048526e-01\n",
            "  2.97292588e-01 3.75715539e-01 5.21084446e-01 5.82853155e-01\n",
            "  6.16693786e-01 4.60158002e-01 5.51660091e-01 6.58289721e-01\n",
            "  5.54709519e-01 3.16770642e-01 1.45479492e-01 2.23614939e-01\n",
            "  4.03108130e-01 7.41890971e-01 5.24916192e-01 4.62996590e-01\n",
            "  4.88757516e-01 2.31091691e-01 6.77635985e-01 2.35357204e-01\n",
            "  1.47056688e-01 5.04382942e-01 2.83759068e-01 3.96998421e-01]\n",
            " [4.30288097e-01 1.37898734e-01 6.53020476e-01 5.26492199e-01\n",
            "  7.90209105e-01 6.92286700e-01 1.19636313e-01 1.03830067e+00\n",
            "  1.02599944e+00 6.92415797e-01 2.42900977e-01 6.30439115e-01\n",
            "  4.37073032e-02 7.97310056e-01 7.25379589e-01 8.60776494e-01\n",
            "  7.47369921e-01 1.38128801e-02 8.85253938e-01 5.38957908e-01\n",
            "  8.35456234e-01 2.68811317e-01 3.66730999e-01 5.97832516e-01\n",
            "  3.77419540e-01 7.94904955e-01 4.33443515e-01 4.40820142e-01\n",
            "  1.04502952e+00 4.83714439e-01 8.45222851e-01 8.20933790e-01\n",
            "  5.59936134e-01 9.41340014e-01 5.80429660e-01 6.07609994e-01\n",
            "  5.02137637e-01 6.23532396e-02 6.33806140e-01 4.75707206e-01\n",
            "  8.74706124e-01 5.03523135e-01 5.72012945e-01 9.90997730e-01\n",
            "  3.59168503e-01 7.31624817e-01 3.57562511e-01 7.32123377e-02\n",
            "  2.48993211e-01 5.97963726e-01 4.20442298e-01 5.87292159e-01\n",
            "  9.37711120e-01 4.52853363e-01 8.27759974e-01 7.41744414e-01\n",
            "  3.69863653e-01 7.43269358e-01 3.90900319e-01 5.88037738e-01\n",
            "  3.33445268e-01 7.23630654e-01 4.62275473e-01 6.05107999e-01\n",
            "  8.56398248e-01 2.47656260e-01 2.83118781e-01 4.56227995e-01\n",
            "  1.02289952e-01 9.59932456e-01 3.38240698e-01 0.00000000e+00\n",
            "  3.96079308e-01 2.80443236e-01 6.36063494e-01 7.21963953e-01\n",
            "  2.92797572e-01 6.30174673e-01 7.30574426e-01 8.81508713e-01\n",
            "  7.48049396e-01 7.92757209e-01 8.72587126e-01 9.89733076e-01\n",
            "  2.18967420e-01 2.31904204e-01 3.04933771e-01 3.91670638e-01\n",
            "  7.04546861e-01 8.02487274e-01 5.79114408e-01 5.96448829e-01\n",
            "  6.56218619e-01 5.25976381e-01 8.96716784e-01 2.47090158e-01\n",
            "  4.49453548e-01 1.66346059e-01 3.86976648e-01 8.66420599e-02]\n",
            " [5.04320307e-01 3.41122070e-01 2.56952173e-01 1.62408261e-01\n",
            "  4.05618009e-01 3.02429508e-01 3.33562204e-01 6.45710111e-01\n",
            "  6.35798939e-01 3.83502950e-01 1.53687056e-01 4.73693703e-01\n",
            "  4.32279059e-01 4.55230085e-01 3.42107452e-01 4.85681245e-01\n",
            "  3.84762973e-01 4.03682474e-01 5.48622918e-01 1.61826124e-01\n",
            "  4.44883187e-01 1.45073746e-01 4.71638195e-01 2.02530044e-01\n",
            "  4.79786091e-01 6.03219291e-01 1.91735990e-01 3.31620258e-01\n",
            "  6.48950222e-01 3.74572864e-01 5.69489653e-01 4.24905020e-01\n",
            "  1.66395543e-01 5.51504019e-01 2.58694108e-01 4.78801910e-01\n",
            "  4.38596677e-01 3.75632559e-01 5.56736658e-01 5.40620480e-01\n",
            "  4.83342996e-01 3.42698758e-01 4.19874208e-01 5.96068614e-01\n",
            "  1.55235191e-01 3.37062503e-01 2.71608251e-01 3.61974715e-01\n",
            "  3.84478990e-01 3.10573134e-01 1.34613165e-01 2.64504275e-01\n",
            "  5.52450548e-01 5.67967385e-02 4.39955034e-01 4.55645980e-01\n",
            "  4.39894885e-01 3.48182380e-01 2.24890506e-01 2.48816815e-01\n",
            "  7.69654795e-02 4.41699616e-01 1.33596794e-01 5.75573413e-01\n",
            "  4.73273430e-01 5.12960037e-01 1.18737667e-01 1.10581423e-01\n",
            "  3.11445223e-01 5.70308275e-01 7.01293247e-02 3.96079308e-01\n",
            "  0.00000000e+00 5.11009352e-01 2.47148573e-01 5.15640920e-01\n",
            "  3.02976235e-01 3.86772660e-01 4.60048422e-01 5.12809277e-01\n",
            "  5.67778866e-01 4.20058724e-01 4.84025658e-01 5.94646203e-01\n",
            "  6.08615178e-01 3.86784041e-01 2.10505261e-01 1.93942286e-01\n",
            "  3.32999436e-01 7.03710520e-01 4.94931945e-01 5.04370912e-01\n",
            "  4.36328493e-01 1.61990706e-01 6.13250718e-01 2.51844776e-01\n",
            "  7.92620388e-02 5.60756525e-01 3.41303884e-01 4.60247726e-01]\n",
            " [1.98206731e-01 1.95200783e-01 7.38643983e-01 5.72088979e-01\n",
            "  9.10255009e-01 7.46644417e-01 3.86637385e-01 1.07846317e+00\n",
            "  1.05823659e+00 6.50843174e-01 3.84561856e-01 8.75613233e-01\n",
            "  2.53017196e-01 9.63832802e-01 7.62467885e-01 9.94352910e-01\n",
            "  7.51424672e-01 2.91280498e-01 8.43933790e-01 6.72835432e-01\n",
            "  9.41595629e-01 3.68929055e-01 1.42391673e-01 6.97710543e-01\n",
            "  1.48843624e-01 6.46779730e-01 4.30006816e-01 6.85737598e-01\n",
            "  1.11284001e+00 3.59402709e-01 7.52379863e-01 8.94643817e-01\n",
            "  6.68936563e-01 1.04688706e+00 5.74618074e-01 4.53388869e-01\n",
            "  3.37408079e-01 3.40600493e-01 4.40298603e-01 2.34843550e-01\n",
            "  9.77552360e-01 4.07083945e-01 8.15388128e-01 1.04502130e+00\n",
            "  5.54433609e-01 7.98095515e-01 5.97202319e-01 2.28422375e-01\n",
            "  5.25220755e-01 5.59979330e-01 4.54069206e-01 5.80565071e-01\n",
            "  9.61616026e-01 5.58606728e-01 9.40727320e-01 6.72234454e-01\n",
            "  1.73118970e-01 8.36140427e-01 6.09795940e-01 7.52607861e-01\n",
            "  4.83784600e-01 6.53805679e-01 5.01924127e-01 3.89185949e-01\n",
            "  8.81331280e-01 4.47249346e-02 4.40686838e-01 6.08880649e-01\n",
            "  3.50911857e-01 9.93749086e-01 4.84953895e-01 2.80443236e-01\n",
            "  5.11009352e-01 0.00000000e+00 6.94563680e-01 9.55162439e-01\n",
            "  2.29668431e-01 8.45346993e-01 6.50392614e-01 8.79998169e-01\n",
            "  5.99276877e-01 9.29995541e-01 9.08726629e-01 1.04492506e+00\n",
            "  2.77041541e-01 5.09186078e-01 5.26919025e-01 3.87538193e-01\n",
            "  7.25767038e-01 5.96276975e-01 4.03040795e-01 8.56595739e-01\n",
            "  5.52949606e-01 5.71615397e-01 8.04350871e-01 2.60372825e-01\n",
            "  5.24153083e-01 2.83095329e-01 6.42676089e-01 3.42296812e-01]\n",
            " [6.22681775e-01 5.58008011e-01 7.47941905e-02 1.22475157e-01\n",
            "  2.56003756e-01 5.62283811e-02 5.80664122e-01 4.02380023e-01\n",
            "  3.90196610e-01 2.38728030e-01 3.94339756e-01 5.88706722e-01\n",
            "  6.68908965e-01 3.89287378e-01 9.69309657e-02 3.47524664e-01\n",
            "  1.62405265e-01 6.44903583e-01 3.37665023e-01 1.91282264e-01\n",
            "  2.64581597e-01 3.69392049e-01 6.13102351e-01 1.02391116e-01\n",
            "  6.17974474e-01 5.20742862e-01 2.69514635e-01 5.11695883e-01\n",
            "  4.20113015e-01 4.29275648e-01 4.16930818e-01 2.00172259e-01\n",
            "  1.31185731e-01 3.62535734e-01 1.68798418e-01 4.78450649e-01\n",
            "  4.98257479e-01 6.21006887e-01 5.72250202e-01 6.45675387e-01\n",
            "  2.94668515e-01 3.73919074e-01 5.51069795e-01 3.57978100e-01\n",
            "  3.70300024e-01 1.03536032e-01 4.81309806e-01 5.92398427e-01\n",
            "  6.22880259e-01 2.31295374e-01 2.40897155e-01 1.67806142e-01\n",
            "  3.05302058e-01 1.93141922e-01 2.71740692e-01 3.15989852e-01\n",
            "  5.74173269e-01 1.56587976e-01 4.19710336e-01 2.75493766e-01\n",
            "  3.22225193e-01 3.10726533e-01 1.92836323e-01 6.18095396e-01\n",
            "  2.26535964e-01 7.08171662e-01 3.65808437e-01 2.54733018e-01\n",
            "  5.57176735e-01 3.24288713e-01 3.15684783e-01 6.36063494e-01\n",
            "  2.47148573e-01 6.94563680e-01 0.00000000e+00 5.85833465e-01\n",
            "  4.65341089e-01 4.60415260e-01 3.36408015e-01 2.74038112e-01\n",
            "  5.02173863e-01 3.01645953e-01 2.37371427e-01 3.57173564e-01\n",
            "  8.40744253e-01 6.27436646e-01 4.40106349e-01 3.08546517e-01\n",
            "  1.05658439e-01 6.75231960e-01 5.22173042e-01 6.50499117e-01\n",
            "  3.72278730e-01 1.22948325e-01 4.47026576e-01 4.43343576e-01\n",
            "  1.86954751e-01 7.97011497e-01 5.44485441e-01 7.05054406e-01]\n",
            " [1.00366317e+00 7.60103675e-01 5.20663879e-01 6.11428679e-01\n",
            "  4.47553126e-01 6.04565084e-01 6.03364179e-01 7.95646636e-01\n",
            "  8.09008922e-01 8.19272161e-01 5.80884052e-01 1.07364134e-01\n",
            "  7.65263549e-01 2.96890056e-01 6.54892808e-01 4.30892818e-01\n",
            "  7.40182711e-01 7.19381711e-01 9.09954238e-01 4.12254507e-01\n",
            "  5.04836448e-01 6.14152571e-01 9.60068819e-01 4.84827659e-01\n",
            "  9.69723372e-01 1.08723364e+00 7.04430658e-01 2.82156168e-01\n",
            "  7.24889360e-01 8.90123742e-01 1.00246501e+00 5.91831629e-01\n",
            "  4.67609973e-01 5.56102118e-01 7.16401565e-01 9.89541653e-01\n",
            "  9.54049941e-01 6.64856162e-01 1.07116333e+00 1.04410411e+00\n",
            "  5.30963133e-01 8.55476885e-01 1.54544030e-01 7.29577006e-01\n",
            "  4.06798306e-01 5.82949888e-01 3.64842053e-01 7.39825263e-01\n",
            "  5.07346202e-01 7.81794119e-01 6.46654106e-01 7.19370339e-01\n",
            "  7.79118860e-01 5.06671117e-01 4.81509940e-01 8.97932847e-01\n",
            "  9.35040843e-01 5.14795290e-01 3.45514223e-01 3.12237351e-01\n",
            "  4.97001453e-01 8.90129968e-01 6.29141878e-01 1.09111200e+00\n",
            "  7.35090432e-01 9.39608795e-01 5.26852975e-01 4.08390440e-01\n",
            "  6.23265159e-01 7.65673918e-01 4.99048526e-01 7.21963953e-01\n",
            "  5.15640920e-01 9.55162439e-01 5.85833465e-01 0.00000000e+00\n",
            "  7.94645012e-01 1.31348659e-01 9.14380520e-01 8.13128521e-01\n",
            "  1.05933238e+00 3.94377307e-01 7.14057984e-01 7.25662488e-01\n",
            "  9.23037036e-01 5.25245309e-01 4.28777560e-01 7.09530823e-01\n",
            "  6.86509013e-01 1.21156253e+00 1.00989784e+00 1.94389183e-01\n",
            "  9.24079293e-01 6.11371800e-01 1.03254401e+00 7.28776444e-01\n",
            "  5.67715406e-01 8.64609211e-01 3.42585443e-01 7.26915013e-01]\n",
            " [2.09133434e-01 1.57134369e-01 5.12016168e-01 3.42908699e-01\n",
            "  6.88261075e-01 5.17053083e-01 3.35367394e-01 8.49933358e-01\n",
            "  8.30474283e-01 4.36724718e-01 2.19009084e-01 7.31531415e-01\n",
            "  2.99594859e-01 7.57174463e-01 5.33118790e-01 7.74878835e-01\n",
            "  5.25962465e-01 3.06482326e-01 6.32810579e-01 4.61587244e-01\n",
            "  7.16202745e-01 1.80522897e-01 1.69087003e-01 4.74693675e-01\n",
            "  1.77716645e-01 5.02355657e-01 2.00797696e-01 5.53085957e-01\n",
            "  8.83177421e-01 1.90925496e-01 5.65981548e-01 6.65507329e-01\n",
            "  4.49183013e-01 8.20570056e-01 3.48530540e-01 3.15343526e-01\n",
            "  2.15353125e-01 3.24980284e-01 3.50645424e-01 2.50878099e-01\n",
            "  7.51279523e-01 2.15460056e-01 6.72129877e-01 8.15530119e-01\n",
            "  3.89220768e-01 5.68866937e-01 4.67261497e-01 2.20532672e-01\n",
            "  4.65741645e-01 3.42367522e-01 2.25730839e-01 3.54766175e-01\n",
            "  7.34500929e-01 3.42945826e-01 7.16707133e-01 4.71180121e-01\n",
            "  1.40512011e-01 6.09510161e-01 4.57403459e-01 5.51647689e-01\n",
            "  2.98557254e-01 4.52555474e-01 2.73168925e-01 3.36128911e-01\n",
            "  6.53642610e-01 2.47785782e-01 2.69199730e-01 4.10290535e-01\n",
            "  2.91495338e-01 7.65563509e-01 2.97292588e-01 2.92797572e-01\n",
            "  3.02976235e-01 2.29668431e-01 4.65341089e-01 7.94645012e-01\n",
            "  0.00000000e+00 6.72930553e-01 4.54759310e-01 6.56982015e-01\n",
            "  4.55344822e-01 7.12622713e-01 6.79990781e-01 8.15393706e-01\n",
            "  4.29253853e-01 4.55489780e-01 3.88807224e-01 1.57887767e-01\n",
            "  4.97496141e-01 5.19372116e-01 2.91937465e-01 7.34554952e-01\n",
            "  3.70238489e-01 3.42442515e-01 6.18305828e-01 7.09100148e-02\n",
            "  3.00910976e-01 4.04229553e-01 5.28328517e-01 3.79337364e-01]\n",
            " [8.81187289e-01 6.51798698e-01 3.98836929e-01 4.80442680e-01\n",
            "  3.56228236e-01 4.83591759e-01 5.15468840e-01 7.07768765e-01\n",
            "  7.17055448e-01 6.90856998e-01 4.64266427e-01 1.40031021e-01\n",
            "  6.73881939e-01 2.38894166e-01 5.34910479e-01 3.63576188e-01\n",
            "  6.18068827e-01 6.29524291e-01 7.90401132e-01 2.81917839e-01\n",
            "  4.16675257e-01 4.93270246e-01 8.40246685e-01 3.58389436e-01\n",
            "  8.49580398e-01 9.56488296e-01 5.74104927e-01 2.12143783e-01\n",
            "  6.49647929e-01 7.60646740e-01 8.75644738e-01 4.89782800e-01\n",
            "  3.38518543e-01 4.86715013e-01 5.85872041e-01 8.58591232e-01\n",
            "  8.25339281e-01 5.77403793e-01 9.40869039e-01 9.20529026e-01\n",
            "  4.48489593e-01 7.24929154e-01 1.31957091e-01 6.42161669e-01\n",
            "  2.91120113e-01 4.67728127e-01 2.77052408e-01 6.38626370e-01\n",
            "  4.42611587e-01 6.51008776e-01 5.16387048e-01 5.88985537e-01\n",
            "  6.76354437e-01 3.75625263e-01 3.94935047e-01 7.69589094e-01\n",
            "  8.13410689e-01 4.06180172e-01 2.40408237e-01 1.84958800e-01\n",
            "  3.74381963e-01 7.61245169e-01 4.97957105e-01 9.62245657e-01\n",
            "  6.25044262e-01 8.33355848e-01 4.08789563e-01 2.78199699e-01\n",
            "  5.28583506e-01 6.67909968e-01 3.75715539e-01 6.30174673e-01\n",
            "  3.86772660e-01 8.45346993e-01 4.60415260e-01 1.31348659e-01\n",
            "  6.72930553e-01 0.00000000e+00 7.85175646e-01 6.99868410e-01\n",
            "  9.28199043e-01 3.12118456e-01 6.08161007e-01 6.38568028e-01\n",
            "  8.40640932e-01 4.58897975e-01 3.26829701e-01 5.80658240e-01\n",
            "  5.63189753e-01 1.08030957e+00 8.79870248e-01 2.25724563e-01\n",
            "  7.92958636e-01 4.80376602e-01 9.07369679e-01 6.09193712e-01\n",
            "  4.36651450e-01 7.82864225e-01 2.78397847e-01 6.47697694e-01]\n",
            " [4.93981977e-01 6.05849845e-01 4.09866405e-01 3.12329364e-01\n",
            "  5.72041753e-01 3.39784483e-01 7.29778127e-01 5.23620514e-01\n",
            "  4.93403995e-01 9.78699146e-02 5.39646758e-01 9.03119903e-01\n",
            "  7.46681816e-01 7.22133209e-01 3.05481819e-01 6.58540139e-01\n",
            "  2.26164124e-01 7.43281957e-01 2.08100087e-01 5.03703922e-01\n",
            "  5.58401176e-01 4.91479245e-01 5.20418440e-01 4.31884630e-01\n",
            "  5.19148271e-01 1.89367339e-01 3.07104515e-01 7.88163960e-01\n",
            "  6.01888669e-01 2.91700504e-01 1.15599803e-01 4.55253363e-01\n",
            "  4.46817107e-01 6.29558777e-01 2.05162052e-01 2.39868624e-01\n",
            "  3.31329636e-01 7.44655780e-01 3.22973931e-01 4.92596514e-01\n",
            "  5.74422087e-01 2.44552672e-01 8.57538864e-01 5.21070967e-01\n",
            "  6.15215955e-01 3.87607182e-01 7.31591578e-01 6.63961713e-01\n",
            "  8.23263633e-01 1.49996646e-01 3.44164957e-01 2.00578102e-01\n",
            "  4.00512563e-01 4.35640030e-01 5.73886330e-01 3.22801255e-02\n",
            "  4.82255148e-01 4.66818156e-01 6.83037634e-01 6.02272196e-01\n",
            "  5.27581037e-01 2.64524550e-02 3.27271155e-01 3.90326683e-01\n",
            "  3.43455327e-01 6.82589475e-01 5.46714704e-01 5.33388436e-01\n",
            "  6.91704768e-01 4.43365692e-01 5.21084446e-01 7.30574426e-01\n",
            "  4.60048422e-01 6.50392614e-01 3.36408015e-01 9.14380520e-01\n",
            "  4.54759310e-01 7.85175646e-01 0.00000000e+00 2.93674245e-01\n",
            "  1.83205261e-01 6.25934008e-01 3.84439395e-01 5.23198840e-01\n",
            "  8.83735022e-01 8.20784394e-01 6.66551404e-01 3.42975464e-01\n",
            "  2.56726824e-01 3.66140642e-01 3.02613621e-01 9.51260285e-01\n",
            "  1.04194758e-01 3.12537177e-01 1.66252346e-01 4.84274225e-01\n",
            "  3.82626051e-01 8.58359093e-01 8.01350460e-01 8.15485912e-01]\n",
            " [7.56042046e-01 7.82493822e-01 3.09498906e-01 3.58055743e-01\n",
            "  3.85221353e-01 2.28472840e-01 8.41714412e-01 2.30010713e-01\n",
            "  1.99838673e-01 2.39503449e-01 6.48179915e-01 8.36704482e-01\n",
            "  9.09129118e-01 5.54330388e-01 1.78206274e-01 4.51010282e-01\n",
            "  1.34328700e-01 8.91924633e-01 1.25301989e-01 4.58282204e-01\n",
            "  3.45818395e-01 6.13561607e-01 7.68208787e-01 3.64732547e-01\n",
            "  7.69627982e-01 4.62374794e-01 4.61218943e-01 7.81787386e-01\n",
            "  3.14581467e-01 5.44503572e-01 2.89294876e-01 2.36224771e-01\n",
            "  4.00808888e-01 3.81241050e-01 3.09469178e-01 5.27150440e-01\n",
            "  6.00173151e-01 8.75685252e-01 6.14923757e-01 7.63853653e-01\n",
            "  3.44842555e-01 4.87021840e-01 8.06914621e-01 2.33922804e-01\n",
            "  6.44172418e-01 2.32246736e-01 7.55192779e-01 8.27968131e-01\n",
            "  8.94740254e-01 3.21503998e-01 4.61885027e-01 3.02969237e-01\n",
            "  1.08364268e-01 4.62776445e-01 3.67737440e-01 2.61426214e-01\n",
            "  7.27929801e-01 2.99075157e-01 6.93046334e-01 5.22718060e-01\n",
            "  5.89634002e-01 2.73221971e-01 4.19269822e-01 6.79920245e-01\n",
            "  8.34298787e-02 9.03711601e-01 6.28931694e-01 5.28308317e-01\n",
            "  8.13566136e-01 1.52131633e-01 5.82853155e-01 8.81508713e-01\n",
            "  5.12809277e-01 8.79998169e-01 2.74038112e-01 8.13128521e-01\n",
            "  6.56982015e-01 6.99868410e-01 2.93674245e-01 0.00000000e+00\n",
            "  4.70149580e-01 4.45169433e-01 1.19549764e-01 2.36701117e-01\n",
            "  1.07110165e+00 8.98385782e-01 7.13235961e-01 5.06051327e-01\n",
            "  1.80129230e-01 6.50949510e-01 5.87674674e-01 9.08032949e-01\n",
            "  3.89397306e-01 3.58556193e-01 2.86060221e-01 6.58492488e-01\n",
            "  4.41152142e-01 1.03385563e+00 8.17588500e-01 9.57391651e-01]\n",
            " [4.12320679e-01 6.12076425e-01 5.76956210e-01 4.48012537e-01\n",
            "  7.48354248e-01 5.14509351e-01 7.75997882e-01 6.99374411e-01\n",
            "  6.67835480e-01 2.73406441e-01 6.05117829e-01 1.03507476e+00\n",
            "  7.53774084e-01 8.91452965e-01 4.84915677e-01 8.36671792e-01\n",
            "  4.08772489e-01 7.61690878e-01 3.66443170e-01 6.47887545e-01\n",
            "  7.38548770e-01 5.53840836e-01 4.57653420e-01 5.88963248e-01\n",
            "  4.52693762e-01 4.79274874e-02 3.82805374e-01 8.98349100e-01\n",
            "  7.82400598e-01 2.64485642e-01 2.05688719e-01 6.37357890e-01\n",
            "  5.96231661e-01 8.12347017e-01 3.45407637e-01 1.46727253e-01\n",
            "  2.62837089e-01 7.76318661e-01 1.83787855e-01 3.94823140e-01\n",
            "  7.56135962e-01 2.51720001e-01 9.84503432e-01 7.01417768e-01\n",
            "  7.19004751e-01 5.65429635e-01 8.30091235e-01 6.75863144e-01\n",
            "  8.89862876e-01 2.78960812e-01 4.35496439e-01 3.43461325e-01\n",
            "  5.78333632e-01 5.58719815e-01 7.53012585e-01 2.14224706e-01\n",
            "  4.26866238e-01 6.43088791e-01 7.91261577e-01 7.51245921e-01\n",
            "  6.22316905e-01 2.08538870e-01 4.37567406e-01 2.55453604e-01\n",
            "  5.25577209e-01 6.38724566e-01 6.27878923e-01 6.59706941e-01\n",
            "  7.33767817e-01 6.21833070e-01 6.16693786e-01 7.48049396e-01\n",
            "  5.67778866e-01 5.99276877e-01 5.02173863e-01 1.05933238e+00\n",
            "  4.55344822e-01 9.28199043e-01 1.83205261e-01 4.70149580e-01\n",
            "  0.00000000e+00 8.00019035e-01 5.66841275e-01 7.03742601e-01\n",
            "  8.61769382e-01 8.83768541e-01 7.57194265e-01 4.02126707e-01\n",
            "  4.34880375e-01 1.82980345e-01 1.98397020e-01 1.07193447e+00\n",
            "  1.35256580e-01 4.48054969e-01 2.45981946e-01 5.07032002e-01\n",
            "  4.99134546e-01 8.48036387e-01 8.99808158e-01 8.34642116e-01]\n",
            " [8.97096098e-01 7.59483871e-01 2.28486104e-01 3.96887847e-01\n",
            "  5.99515632e-02 2.86277011e-01 7.00368402e-01 4.01403586e-01\n",
            "  4.14795046e-01 5.29076130e-01 5.64049199e-01 4.49417291e-01\n",
            "  8.33537198e-01 1.09580941e-01 3.23588753e-01 6.81342473e-02\n",
            "  4.10721493e-01 7.97225281e-01 5.58431886e-01 2.59475197e-01\n",
            "  1.10911621e-01 5.64821084e-01 8.76028585e-01 2.42860904e-01\n",
            "  8.82740393e-01 8.14518441e-01 5.41277605e-01 4.80595055e-01\n",
            "  3.37546659e-01 7.19870007e-01 6.85975257e-01 2.10041108e-01\n",
            "  2.63583668e-01 1.77099145e-01 4.69781164e-01 7.79252358e-01\n",
            "  7.89657463e-01 7.56301279e-01 8.72536741e-01 9.26000804e-01\n",
            "  1.37536610e-01 6.67852623e-01 4.42120514e-01 3.35324553e-01\n",
            "  4.41415596e-01 2.40475892e-01 5.04317546e-01 7.72782534e-01\n",
            "  6.80033918e-01 5.32939673e-01 4.95104305e-01 4.69185351e-01\n",
            "  3.92284343e-01 3.71535671e-01 8.73134847e-02 6.00831454e-01\n",
            "  8.40079440e-01 1.60200993e-01 4.42016645e-01 2.12283274e-01\n",
            "  4.63715567e-01 5.99512954e-01 4.53689377e-01 9.15253854e-01\n",
            "  3.62320311e-01 9.33009056e-01 5.13803938e-01 3.36965843e-01\n",
            "  6.94776266e-01 3.74162338e-01 4.60158002e-01 7.92757209e-01\n",
            "  4.20058724e-01 9.29995541e-01 3.01645953e-01 3.94377307e-01\n",
            "  7.12622713e-01 3.12118456e-01 6.25934008e-01 4.45169433e-01\n",
            "  8.00019035e-01 0.00000000e+00 3.33569662e-01 3.31453508e-01\n",
            "  1.01146375e+00 6.92016228e-01 5.10292302e-01 5.70283500e-01\n",
            "  3.69793555e-01 9.75859999e-01 8.20480836e-01 5.37824307e-01\n",
            "  6.72847668e-01 3.97169653e-01 7.03499508e-01 6.69727230e-01\n",
            "  4.12737507e-01 9.58681164e-01 5.39849708e-01 8.38895541e-01]\n",
            " [8.06707217e-01 7.88387177e-01 2.43637342e-01 3.49121422e-01\n",
            "  2.74154856e-01 1.81614106e-01 8.17553573e-01 1.70051474e-01\n",
            "  1.53661947e-01 3.09048000e-01 6.31515765e-01 7.47417391e-01\n",
            "  9.04483637e-01 4.43143036e-01 1.48948742e-01 3.33621749e-01\n",
            "  1.71275276e-01 8.81684896e-01 2.43820529e-01 3.94899446e-01\n",
            "  2.29511489e-01 6.04703508e-01 8.09938016e-01 3.04222250e-01\n",
            "  8.12873211e-01 5.65169978e-01 4.79212399e-01 7.14165262e-01\n",
            "  2.21009942e-01 5.97570065e-01 4.00941075e-01 1.23914855e-01\n",
            "  3.44158129e-01 2.62372548e-01 3.36847616e-01 6.02641224e-01\n",
            "  6.59758814e-01 8.58377668e-01 6.94656369e-01 8.20593899e-01\n",
            "  2.25798515e-01 5.38778089e-01 7.23358898e-01 1.42659115e-01\n",
            "  5.95909715e-01 1.56573946e-01 6.99565050e-01 8.26557512e-01\n",
            "  8.52613096e-01 3.70085725e-01 4.65238003e-01 3.31568038e-01\n",
            "  7.20534205e-02 4.28959740e-01 2.52245611e-01 3.52792907e-01\n",
            "  7.69663239e-01 2.02062937e-01 6.34981776e-01 4.40680813e-01\n",
            "  5.58050867e-01 3.60514584e-01 4.18198244e-01 7.54988711e-01\n",
            "  4.16806088e-02 9.27364484e-01 6.02763323e-01 4.74710970e-01\n",
            "  7.94539197e-01 8.75062853e-02 5.51660091e-01 8.72587126e-01\n",
            "  4.84025658e-01 9.08726629e-01 2.37371427e-01 7.14057984e-01\n",
            "  6.79990781e-01 6.08161007e-01 3.84439395e-01 1.19549764e-01\n",
            "  5.66841275e-01 3.33569662e-01 0.00000000e+00 1.43824558e-01\n",
            "  1.07421402e+00 8.58552172e-01 6.68266589e-01 5.22838509e-01\n",
            "  1.83280801e-01 7.49676801e-01 6.59504169e-01 8.24531627e-01\n",
            "  4.68779004e-01 3.49637915e-01 4.02951107e-01 6.68927732e-01\n",
            "  4.23148523e-01 1.03209933e+00 7.56975931e-01 9.42387529e-01]\n",
            " [9.49107715e-01 9.15153697e-01 3.39120085e-01 4.76961741e-01\n",
            "  2.82358249e-01 3.01806494e-01 9.24347797e-01 6.99902037e-02\n",
            "  8.88966950e-02 4.52039608e-01 7.46866269e-01 7.77912766e-01\n",
            "  1.02408870e+00 4.32777019e-01 2.82716823e-01 3.02290705e-01\n",
            "  3.15089793e-01 9.97858461e-01 3.57883741e-01 4.78325085e-01\n",
            "  2.22296298e-01 7.25559902e-01 9.50483505e-01 3.98135952e-01\n",
            "  9.53772916e-01 6.98334460e-01 6.14976943e-01 7.78847011e-01\n",
            "  7.86996743e-02 7.40731928e-01 5.25698222e-01 1.73264927e-01\n",
            "  4.38428069e-01 1.89849350e-01 4.77520615e-01 7.45834899e-01\n",
            "  8.03395118e-01 9.69843707e-01 8.37355908e-01 9.63820307e-01\n",
            "  1.94938080e-01 6.81937496e-01 7.64455364e-01 4.37532323e-03\n",
            "  6.86058777e-01 2.58136563e-01 7.79077491e-01 9.48870836e-01\n",
            "  9.43131894e-01 5.13519719e-01 5.95371931e-01 4.72576006e-01\n",
            "  1.30138208e-01 5.37966862e-01 2.44913328e-01 4.91110412e-01\n",
            "  9.10338655e-01 2.61884300e-01 7.13525004e-01 4.96278108e-01\n",
            "  6.64186659e-01 5.00281824e-01 5.47454659e-01 8.98393018e-01\n",
            "  1.81747193e-01 1.06151229e+00 7.11925957e-01 5.64104030e-01\n",
            "  9.05556300e-01 8.71274710e-02 6.58289721e-01 9.89733076e-01\n",
            "  5.94646203e-01 1.04492506e+00 3.57173564e-01 7.25662488e-01\n",
            "  8.15393706e-01 6.38568028e-01 5.23198840e-01 2.36701117e-01\n",
            "  7.03742601e-01 3.31453508e-01 1.43824558e-01 0.00000000e+00\n",
            "  1.19732685e+00 9.51182861e-01 7.59655010e-01 6.57543153e-01\n",
            "  3.23516395e-01 8.85753592e-01 8.03113252e-01 8.63252512e-01\n",
            "  6.11063752e-01 4.77465075e-01 5.18724911e-01 7.99160560e-01\n",
            "  5.43184355e-01 1.15252448e+00 8.29367311e-01 1.05463036e+00]\n",
            " [4.74493361e-01 2.88619434e-01 8.64283662e-01 7.25142841e-01\n",
            "  1.00770986e+00 8.96748350e-01 3.25536366e-01 1.24241135e+00\n",
            "  1.22782907e+00 8.62994805e-01 4.55123952e-01 8.25379352e-01\n",
            "  1.78056713e-01 1.01569056e+00 9.25491888e-01 1.07943040e+00\n",
            "  9.37085750e-01 2.15748174e-01 1.05915220e+00 7.56449028e-01\n",
            "  1.05158528e+00 4.71792951e-01 4.15154296e-01 8.11145213e-01\n",
            "  4.23069275e-01 9.09691721e-01 6.11044265e-01 6.41207244e-01\n",
            "  1.25576786e+00 6.05332579e-01 9.93696169e-01 1.03142116e+00\n",
            "  7.74345047e-01 1.15784034e+00 7.62879353e-01 7.15123530e-01\n",
            "  5.99589798e-01 2.63957340e-01 7.13485995e-01 5.11870919e-01\n",
            "  1.09058700e+00 6.41511395e-01 7.69629355e-01 1.19831961e+00\n",
            "  5.77454613e-01 9.39622500e-01 5.64136244e-01 2.48459871e-01\n",
            "  4.21586721e-01 7.67730606e-01 6.11299605e-01 7.69584659e-01\n",
            "  1.13634568e+00 6.64920928e-01 1.04467786e+00 9.00423068e-01\n",
            "  4.38499051e-01 9.56795922e-01 6.04491084e-01 8.06946439e-01\n",
            "  5.50291365e-01 8.81802414e-01 6.56963305e-01 6.65561438e-01\n",
            "  1.05452196e+00 2.32669892e-01 4.99786613e-01 6.74677699e-01\n",
            "  3.19618090e-01 1.16169580e+00 5.54709519e-01 2.18967420e-01\n",
            "  6.08615178e-01 2.77041541e-01 8.40744253e-01 9.23037036e-01\n",
            "  4.29253853e-01 8.40640932e-01 8.83735022e-01 1.07110165e+00\n",
            "  8.61769382e-01 1.01146375e+00 1.07421402e+00 1.19732685e+00\n",
            "  0.00000000e+00 4.03080678e-01 5.19904109e-01 5.66466074e-01\n",
            "  8.99393675e-01 8.72626901e-01 6.70982626e-01 7.77898191e-01\n",
            "  7.95566464e-01 7.24625635e-01 1.04612225e+00 4.13229124e-01\n",
            "  6.54158071e-01 5.84583611e-02 5.81061447e-01 1.96420851e-01]\n",
            " [6.35416779e-01 3.34348944e-01 6.17160930e-01 5.47885753e-01\n",
            "  7.06525613e-01 6.79914398e-01 1.26048273e-01 1.00998851e+00\n",
            "  1.00515421e+00 7.58257188e-01 2.82216927e-01 4.24270811e-01\n",
            "  2.68964094e-01 6.66760501e-01 7.24222817e-01 7.58621096e-01\n",
            "  7.71530110e-01 2.23661069e-01 9.33713922e-01 4.72922894e-01\n",
            "  7.61365346e-01 3.32410572e-01 5.75065684e-01 5.56385334e-01\n",
            "  5.86001461e-01 9.27152775e-01 5.15297656e-01 2.48461816e-01\n",
            "  9.92307664e-01 6.31740091e-01 9.35411614e-01 7.78009312e-01\n",
            "  5.15851541e-01 8.60492617e-01 6.34020709e-01 7.57923791e-01\n",
            "  6.69310343e-01 1.69763955e-01 8.04969792e-01 6.81421634e-01\n",
            "  8.00762765e-01 6.32276975e-01 3.70733832e-01 9.53392200e-01\n",
            "  2.65134836e-01 7.03884942e-01 1.90274050e-01 2.82944931e-01\n",
            "  1.85199385e-02 6.73101302e-01 4.77521969e-01 6.40503285e-01\n",
            "  9.29392571e-01 4.35658880e-01 7.47804319e-01 8.23219638e-01\n",
            "  5.68445176e-01 6.89963740e-01 2.50056312e-01 4.80167306e-01\n",
            "  3.09894666e-01 8.07046857e-01 5.03161928e-01 7.90708025e-01\n",
            "  8.53204495e-01 4.78864637e-01 2.77564532e-01 3.87255015e-01\n",
            "  1.68358186e-01 9.41715305e-01 3.16770642e-01 2.31904204e-01\n",
            "  3.86784041e-01 5.09186078e-01 6.27436646e-01 5.25245309e-01\n",
            "  4.55489780e-01 4.58897975e-01 8.20784394e-01 8.98385782e-01\n",
            "  8.83768541e-01 6.92016228e-01 8.58552172e-01 9.51182861e-01\n",
            "  4.03080678e-01 0.00000000e+00 1.91573574e-01 4.85667230e-01\n",
            "  7.19229051e-01 9.72669180e-01 7.44580758e-01 3.75213700e-01\n",
            "  7.69647983e-01 5.47437778e-01 9.83181929e-01 3.88746307e-01\n",
            "  4.63045997e-01 3.44903160e-01 1.83706698e-01 2.07678153e-01]\n",
            " [5.94880812e-01 3.31720562e-01 4.26037543e-01 3.72334235e-01\n",
            "  5.19743756e-01 4.91138090e-01 1.95826944e-01 8.18458512e-01\n",
            "  8.13909564e-01 5.93454268e-01 1.70776314e-01 3.50259676e-01\n",
            "  3.48541776e-01 4.99275876e-01 5.37025028e-01 5.77991760e-01\n",
            "  5.90063470e-01 3.05458728e-01 7.57607473e-01 2.81506929e-01\n",
            "  5.72875259e-01 2.17231779e-01 5.44464904e-01 3.65194643e-01\n",
            "  5.54766574e-01 7.96519795e-01 3.74781702e-01 1.64835478e-01\n",
            "  8.01664868e-01 5.29202322e-01 7.77958271e-01 5.86457163e-01\n",
            "  3.24734315e-01 6.74016924e-01 4.68342819e-01 6.48803178e-01\n",
            "  5.81455213e-01 2.56253497e-01 7.12878499e-01 6.38445438e-01\n",
            "  6.12466165e-01 5.13850833e-01 2.89944184e-01 7.61847646e-01\n",
            "  7.36099432e-02 5.12973367e-01 7.87303275e-02 3.12509641e-01\n",
            "  1.84465500e-01 5.16557478e-01 3.25821629e-01 4.74332178e-01\n",
            "  7.39468044e-01 2.52185603e-01 5.60445141e-01 6.64174799e-01\n",
            "  5.24881090e-01 4.98630173e-01 8.64501408e-02 2.98441521e-01\n",
            "  1.38972084e-01 6.49543050e-01 3.39689940e-01 7.14963301e-01\n",
            "  6.64421319e-01 5.10851683e-01 1.31131207e-01 1.95684041e-01\n",
            "  2.02730813e-01 7.50764921e-01 1.45479492e-01 3.04933771e-01\n",
            "  2.10505261e-01 5.26919025e-01 4.40106349e-01 4.28777560e-01\n",
            "  3.88807224e-01 3.26829701e-01 6.66551404e-01 7.13235961e-01\n",
            "  7.57194265e-01 5.10292302e-01 6.68266589e-01 7.59655010e-01\n",
            "  5.19904109e-01 1.91573574e-01 0.00000000e+00 3.57239543e-01\n",
            "  5.35967482e-01 8.72998518e-01 6.50075572e-01 3.45768056e-01\n",
            "  6.31735384e-01 3.71936804e-01 8.22738438e-01 3.18448806e-01\n",
            "  2.89723401e-01 4.63369227e-01 1.44686452e-01 3.33939952e-01]\n",
            " [3.27014682e-01 2.78338315e-01 3.59373521e-01 1.86591549e-01\n",
            "  5.40589656e-01 3.59457921e-01 3.87657551e-01 6.92876523e-01\n",
            "  6.74130480e-01 3.01104936e-01 2.04124800e-01 6.64078689e-01\n",
            "  4.12500046e-01 6.26375414e-01 3.75442814e-01 6.29548975e-01\n",
            "  3.72996611e-01 4.03814577e-01 4.95542590e-01 3.32989497e-01\n",
            "  5.64165292e-01 1.53309604e-01 3.07963776e-01 3.28109148e-01\n",
            "  3.13901156e-01 4.43578922e-01 4.48339878e-02 5.07164272e-01\n",
            "  7.25363024e-01 1.81261621e-01 4.58547035e-01 5.08623207e-01\n",
            "  3.08302086e-01 6.67087333e-01 1.96764049e-01 2.93035564e-01\n",
            "  2.44681680e-01 4.01970374e-01 3.65018560e-01 3.57985994e-01\n",
            "  5.98029752e-01 1.56921295e-01 6.08301728e-01 6.57702850e-01\n",
            "  3.27854380e-01 4.11921509e-01 4.32552835e-01 3.29511125e-01\n",
            "  4.90377819e-01 2.06325527e-01 7.52382533e-02 2.03390777e-01\n",
            "  5.78906818e-01 2.14678908e-01 5.66364998e-01 3.51437773e-01\n",
            "  2.70634846e-01 4.56305737e-01 4.01290563e-01 4.32750347e-01\n",
            "  2.28227961e-01 3.33672872e-01 1.18917155e-01 3.81631131e-01\n",
            "  4.97592129e-01 4.04560058e-01 2.26634210e-01 3.03238181e-01\n",
            "  3.48873740e-01 6.08876498e-01 2.23614939e-01 3.91670638e-01\n",
            "  1.93942286e-01 3.87538193e-01 3.08546517e-01 7.09530823e-01\n",
            "  1.57887767e-01 5.80658240e-01 3.42975464e-01 5.06051327e-01\n",
            "  4.02126707e-01 5.70283500e-01 5.22838509e-01 6.57543153e-01\n",
            "  5.66466074e-01 4.85667230e-01 3.57239543e-01 0.00000000e+00\n",
            "  3.41100861e-01 5.18432879e-01 3.02590894e-01 6.86597927e-01\n",
            "  2.83982041e-01 1.86147085e-01 5.08935307e-01 1.53261105e-01\n",
            "  1.60340954e-01 5.32461758e-01 5.01362746e-01 4.74914166e-01]\n",
            " [6.25940882e-01 6.11620345e-01 1.66117400e-01 1.78739678e-01\n",
            "  3.15329978e-01 8.56238886e-02 6.61738540e-01 3.52705504e-01\n",
            "  3.33070790e-01 1.61509967e-01 4.68814576e-01 6.93336802e-01\n",
            "  7.33711390e-01 4.68755932e-01 5.07951807e-02 4.02171616e-01\n",
            "  5.68217952e-02 7.14581262e-01 2.32042343e-01 2.96920580e-01\n",
            "  3.03900899e-01 4.35862891e-01 6.27183648e-01 2.07160890e-01\n",
            "  6.30342711e-01 4.45947584e-01 2.96978506e-01 6.16121832e-01\n",
            "  3.96891040e-01 4.19108153e-01 3.21423795e-01 2.07609290e-01\n",
            "  2.36730319e-01 3.84180948e-01 1.54037288e-01 4.39955372e-01\n",
            "  4.83832504e-01 6.96620982e-01 5.34181418e-01 6.41992538e-01\n",
            "  3.23653219e-01 3.60485137e-01 6.56518358e-01 3.23035772e-01\n",
            "  4.68616342e-01 1.30946590e-01 5.82098698e-01 6.53673022e-01\n",
            "  7.16053827e-01 1.94755964e-01 2.88095707e-01 1.49061484e-01\n",
            "  2.38088044e-01 2.84211011e-01 3.18142023e-01 2.31042090e-01\n",
            "  5.86979041e-01 2.10178628e-01 5.21922263e-01 3.78788899e-01\n",
            "  4.09917573e-01 2.30274634e-01 2.43047189e-01 5.88909602e-01\n",
            "  1.56533498e-01 7.45161155e-01 4.48804838e-01 3.57160117e-01\n",
            "  6.34128052e-01 2.68077631e-01 4.03108130e-01 7.04546861e-01\n",
            "  3.32999436e-01 7.25767038e-01 1.05658439e-01 6.86509013e-01\n",
            "  4.97496141e-01 5.63189753e-01 2.56726824e-01 1.80129230e-01\n",
            "  4.34880375e-01 3.69793555e-01 1.83280801e-01 3.23516395e-01\n",
            "  8.99393675e-01 7.19229051e-01 5.35967482e-01 3.41100861e-01\n",
            "  0.00000000e+00 6.14994309e-01 4.92152233e-01 7.56096807e-01\n",
            "  3.15974383e-01 1.79248033e-01 3.46892736e-01 4.89849266e-01\n",
            "  2.61105263e-01 8.59835125e-01 6.46761623e-01 7.78913569e-01]\n",
            " [3.98193395e-01 6.65053437e-01 7.49794090e-01 6.06505255e-01\n",
            "  9.25952124e-01 6.92299952e-01 8.54602316e-01 8.79003416e-01\n",
            "  8.46883500e-01 4.54169390e-01 7.08466206e-01 1.17728825e+00\n",
            "  7.98281923e-01 1.06344191e+00 6.65448682e-01 1.01533555e+00\n",
            "  5.91225513e-01 8.16269857e-01 5.41902320e-01 8.05282494e-01\n",
            "  9.18881977e-01 6.58221082e-01 4.58231412e-01 7.55632259e-01\n",
            "  4.49830667e-01 1.90603551e-01 5.12047001e-01 1.02559660e+00\n",
            "  9.64331126e-01 3.44750057e-01 3.73508727e-01 8.19246562e-01\n",
            "  7.58058156e-01 9.94712783e-01 5.11333054e-01 2.25588189e-01\n",
            "  3.04038775e-01 8.42144294e-01 1.69090500e-01 3.63381438e-01\n",
            "  9.37620954e-01 3.62297463e-01 1.12344588e+00 8.83339022e-01\n",
            "  8.46138661e-01 7.44707124e-01 9.49790688e-01 7.29454090e-01\n",
            "  9.81652904e-01 4.45480469e-01 5.69178119e-01 5.10603606e-01\n",
            "  7.59305849e-01 7.05110161e-01 9.32581898e-01 3.97195717e-01\n",
            "  4.40530666e-01 8.21065581e-01 9.19562535e-01 9.10041244e-01\n",
            "  7.46622047e-01 3.91278488e-01 5.82466781e-01 2.07106239e-01\n",
            "  7.08340715e-01 6.40166009e-01 7.41907745e-01 8.04833063e-01\n",
            "  8.10784025e-01 8.02994890e-01 7.41890971e-01 8.02487274e-01\n",
            "  7.03710520e-01 5.96276975e-01 6.75231960e-01 1.21156253e+00\n",
            "  5.19372116e-01 1.08030957e+00 3.66140642e-01 6.50949510e-01\n",
            "  1.82980345e-01 9.75859999e-01 7.49676801e-01 8.85753592e-01\n",
            "  8.72626901e-01 9.72669180e-01 8.72998518e-01 5.18432879e-01\n",
            "  6.14994309e-01 0.00000000e+00 2.28093529e-01 1.20460225e+00\n",
            "  3.03045134e-01 6.06456734e-01 4.02756398e-01 5.83993023e-01\n",
            "  6.44098490e-01 8.71124001e-01 1.01767825e+00 8.86464708e-01]\n",
            " [2.13949265e-01 4.41220138e-01 5.92551529e-01 4.27761406e-01\n",
            "  7.77987454e-01 5.53856662e-01 6.26790523e-01 8.14237497e-01\n",
            "  7.86254602e-01 3.51873326e-01 4.83008706e-01 9.66668630e-01\n",
            "  5.78326585e-01 8.95476849e-01 5.41727785e-01 8.69596084e-01\n",
            "  4.88456760e-01 5.92927282e-01 5.10650542e-01 6.16498993e-01\n",
            "  7.83745179e-01 4.33561806e-01 2.60757223e-01 5.83952392e-01\n",
            "  2.55193309e-01 2.45029869e-01 3.05921189e-01 8.06535492e-01\n",
            "  8.80459090e-01 1.21861517e-01 3.78292184e-01 6.98269768e-01\n",
            "  5.77522884e-01 8.73683240e-01 3.54098196e-01 6.32256103e-02\n",
            "  7.70607733e-02 6.16083395e-01 6.28873699e-02 1.99140529e-01\n",
            "  8.09579448e-01 1.57044707e-01 9.10781694e-01 8.01689905e-01\n",
            "  6.28722617e-01 6.10184326e-01 7.27816906e-01 5.05902114e-01\n",
            "  7.53634106e-01 2.98407890e-01 3.63526774e-01 3.56042003e-01\n",
            "  6.89844413e-01 5.05999504e-01 7.93010221e-01 3.32779601e-01\n",
            "  2.32697454e-01 6.77787476e-01 7.01973818e-01 7.20691399e-01\n",
            "  5.29062969e-01 3.17723258e-01 3.87157526e-01 9.68545760e-02\n",
            "  6.21753126e-01 4.43765108e-01 5.19565370e-01 6.01687113e-01\n",
            "  5.83029269e-01 7.30507510e-01 5.24916192e-01 5.79114408e-01\n",
            "  4.94931945e-01 4.03040795e-01 5.22173042e-01 1.00989784e+00\n",
            "  2.91937465e-01 8.79870248e-01 3.02613621e-01 5.87674674e-01\n",
            "  1.98397020e-01 8.20480836e-01 6.59504169e-01 8.03113252e-01\n",
            "  6.70982626e-01 7.44580758e-01 6.50075572e-01 3.02590894e-01\n",
            "  4.92152233e-01 2.28093529e-01 0.00000000e+00 9.87343299e-01\n",
            "  1.99772187e-01 4.27572747e-01 4.26708706e-01 3.55902404e-01\n",
            "  4.45782613e-01 6.61931138e-01 7.94591382e-01 6.64343018e-01]\n",
            " [9.40265378e-01 6.64283092e-01 5.99565407e-01 6.38936864e-01\n",
            "  5.81192226e-01 6.83504900e-01 4.77656893e-01 9.32107461e-01\n",
            "  9.40201851e-01 8.63271338e-01 5.16026856e-01 9.42428886e-02\n",
            "  6.37431999e-01 4.58814995e-01 7.35495156e-01 5.87743851e-01\n",
            "  8.12679465e-01 5.90898402e-01 9.87788631e-01 4.59718553e-01\n",
            "  6.41861623e-01 5.60107499e-01 8.88480914e-01 5.49441669e-01\n",
            "  8.98948127e-01 1.10634328e+00 6.93923401e-01 1.82018623e-01\n",
            "  8.75365188e-01 8.65508954e-01 1.05212155e+00 7.09860725e-01\n",
            "  5.20116425e-01 7.11772334e-01 7.46209512e-01 9.79014066e-01\n",
            "  9.22092249e-01 5.35083583e-01 1.05018130e+00 9.84075323e-01\n",
            "  6.74142674e-01 8.42312622e-01 1.01287045e-01 8.66770715e-01\n",
            "  3.58817948e-01 6.76906596e-01 2.67617418e-01 6.30128079e-01\n",
            "  3.56699484e-01 8.06424419e-01 6.38183636e-01 7.50684182e-01\n",
            "  8.94413132e-01 5.16998830e-01 6.20384470e-01 9.40837102e-01\n",
            "  8.70239814e-01 6.23078757e-01 2.85433264e-01 3.85602310e-01\n",
            "  4.58542140e-01 9.29703492e-01 6.34990439e-01 1.05739801e+00\n",
            "  8.37603035e-01 8.33594243e-01 4.70706462e-01 4.17893487e-01\n",
            "  5.07542144e-01 8.88889800e-01 4.62996590e-01 5.96448829e-01\n",
            "  5.04370912e-01 8.56595739e-01 6.50499117e-01 1.94389183e-01\n",
            "  7.34554952e-01 2.25724563e-01 9.51260285e-01 9.08032949e-01\n",
            "  1.07193447e+00 5.37824307e-01 8.24531627e-01 8.63252512e-01\n",
            "  7.77898191e-01 3.75213700e-01 3.45768056e-01 6.86597927e-01\n",
            "  7.56096807e-01 1.20460225e+00 9.87343299e-01 0.00000000e+00\n",
            "  9.39430230e-01 6.38726019e-01 1.08938090e+00 6.64208266e-01\n",
            "  5.74239925e-01 7.19905433e-01 2.13966489e-01 5.82890049e-01]\n",
            " [3.90692798e-01 5.25710456e-01 4.46928304e-01 3.12765709e-01\n",
            "  6.23407718e-01 3.90226490e-01 6.69011709e-01 6.17708062e-01\n",
            "  5.88824247e-01 1.60352370e-01 4.87850280e-01 9.00701493e-01\n",
            "  6.68137692e-01 7.60979231e-01 3.66767848e-01 7.13288487e-01\n",
            "  3.00572645e-01 6.69423018e-01 3.11955956e-01 5.12682104e-01\n",
            "  6.18701189e-01 4.37259188e-01 4.19712849e-01 4.55475566e-01\n",
            "  4.17849551e-01 1.66953035e-01 2.57709835e-01 7.67825669e-01\n",
            "  6.89294301e-01 1.93740927e-01 1.99706618e-01 5.23001475e-01\n",
            "  4.61464327e-01 6.99563494e-01 2.11083526e-01 1.37998244e-01\n",
            "  2.27826338e-01 6.76800514e-01 2.26520348e-01 3.88439630e-01\n",
            "  6.39613414e-01 1.54819381e-01 8.50762552e-01 6.09323017e-01\n",
            "  5.89438452e-01 4.43726216e-01 7.02521690e-01 5.86702018e-01\n",
            "  7.74212409e-01 1.44542232e-01 3.06667097e-01 2.09569570e-01\n",
            "  4.93486084e-01 4.24507451e-01 6.31421333e-01 1.33261185e-01\n",
            "  3.82461497e-01 5.18836556e-01 6.60873702e-01 6.16196921e-01\n",
            "  4.94682717e-01 1.17952088e-01 3.04441316e-01 2.90531321e-01\n",
            "  4.29374246e-01 5.87058103e-01 5.04746003e-01 5.25430191e-01\n",
            "  6.28530708e-01 5.35133879e-01 4.88757516e-01 6.56218619e-01\n",
            "  4.36328493e-01 5.52949606e-01 3.72278730e-01 9.24079293e-01\n",
            "  3.70238489e-01 7.92958636e-01 1.04194758e-01 3.89397306e-01\n",
            "  1.35256580e-01 6.72847668e-01 4.68779004e-01 6.11063752e-01\n",
            "  7.95566464e-01 7.69647983e-01 6.31735384e-01 2.83982041e-01\n",
            "  3.15974383e-01 3.03045134e-01 1.99772187e-01 9.39430230e-01\n",
            "  0.00000000e+00 3.12806029e-01 2.51964041e-01 4.09451382e-01\n",
            "  3.65523404e-01 7.73968437e-01 7.72516384e-01 7.42429314e-01]\n",
            " [5.05708334e-01 4.39026269e-01 1.75826441e-01 5.18037654e-04\n",
            "  3.61047436e-01 1.76070412e-01 4.83455473e-01 5.18483840e-01\n",
            "  5.03213442e-01 2.27079528e-01 2.89671099e-01 5.92261579e-01\n",
            "  5.56177866e-01 4.67913375e-01 2.00870351e-01 4.51858379e-01\n",
            "  2.26600708e-01 5.35788922e-01 3.86741909e-01 2.00008818e-01\n",
            "  3.79862019e-01 2.57165579e-01 4.92590167e-01 1.56649282e-01\n",
            "  4.97907583e-01 4.76294146e-01 1.49079098e-01 4.78050124e-01\n",
            "  5.42385600e-01 3.22814287e-01 4.15822961e-01 3.23077391e-01\n",
            "  1.52044807e-01 4.81571145e-01 1.07694060e-01 3.92993932e-01\n",
            "  3.92613843e-01 5.17393945e-01 4.83190809e-01 5.31547380e-01\n",
            "  4.12741523e-01 2.72191467e-01 5.45375379e-01 4.77997080e-01\n",
            "  3.11510664e-01 2.26482134e-01 4.28463585e-01 4.77290821e-01\n",
            "  5.45836420e-01 1.70954213e-01 1.18231726e-01 1.11974835e-01\n",
            "  4.12414068e-01 1.25220398e-01 3.83627575e-01 3.03038688e-01\n",
            "  4.54227475e-01 2.71423424e-01 3.74948624e-01 3.04135991e-01\n",
            "  2.37986505e-01 2.91194050e-01 7.01475686e-02 5.20464464e-01\n",
            "  3.30793115e-01 5.85504662e-01 2.72514889e-01 2.20885370e-01\n",
            "  4.55041315e-01 4.37092512e-01 2.31091691e-01 5.25976381e-01\n",
            "  1.61990706e-01 5.71615397e-01 1.22948325e-01 6.11371800e-01\n",
            "  3.42442515e-01 4.80376602e-01 3.12537177e-01 3.58556193e-01\n",
            "  4.48054969e-01 3.97169653e-01 3.49637915e-01 4.77465075e-01\n",
            "  7.24625635e-01 5.47437778e-01 3.71936804e-01 1.86147085e-01\n",
            "  1.79248033e-01 6.06456734e-01 4.27572747e-01 6.38726019e-01\n",
            "  3.12806029e-01 0.00000000e+00 4.56752137e-01 3.21701981e-01\n",
            "  8.44441660e-02 6.83184901e-01 4.96898617e-01 5.99692070e-01]\n",
            " [6.34528884e-01 7.71021778e-01 5.12935608e-01 4.56445915e-01\n",
            "  6.44985672e-01 4.31288194e-01 8.94994849e-01 4.96945593e-01\n",
            "  4.63201618e-01 2.30034723e-01 7.03375849e-01 1.03348420e+00\n",
            "  9.12316656e-01 8.08320264e-01 3.84557326e-01 7.22070752e-01\n",
            "  2.96305142e-01 9.09460526e-01 1.61268453e-01 6.31931964e-01\n",
            "  6.16735263e-01 6.56040529e-01 6.68985852e-01 5.49003424e-01\n",
            "  6.66328411e-01 2.16489908e-01 4.72058982e-01 9.34393355e-01\n",
            "  5.94295059e-01 4.45596199e-01 5.24357962e-02 5.06174061e-01\n",
            "  5.72132840e-01 6.65135330e-01 3.54569286e-01 3.64949877e-01\n",
            "  4.73072022e-01 9.10787844e-01 4.26550953e-01 6.25391750e-01\n",
            "  6.22623586e-01 4.04659430e-01 9.92351041e-01 5.15498953e-01\n",
            "  7.66984394e-01 4.65512578e-01 8.84027125e-01 8.29745978e-01\n",
            "  9.84899014e-01 3.10100503e-01 5.05659973e-01 3.48756162e-01\n",
            "  3.88639246e-01 5.81972417e-01 6.36356192e-01 1.59962836e-01\n",
            "  6.32806597e-01 5.44826980e-01 8.31692014e-01 7.22412002e-01\n",
            "  6.84319407e-01 1.76451021e-01 4.83571706e-01 4.98410449e-01\n",
            "  3.62712800e-01 8.38943525e-01 7.07173016e-01 6.74769030e-01\n",
            "  8.57379006e-01 4.31767384e-01 6.77635985e-01 8.96716784e-01\n",
            "  6.13250718e-01 8.04350871e-01 4.47026576e-01 1.03254401e+00\n",
            "  6.18305828e-01 9.07369679e-01 1.66252346e-01 2.86060221e-01\n",
            "  2.45981946e-01 7.03499508e-01 4.02951107e-01 5.18724911e-01\n",
            "  1.04612225e+00 9.83181929e-01 8.22738438e-01 5.08935307e-01\n",
            "  3.46892736e-01 4.02756398e-01 4.26708706e-01 1.08938090e+00\n",
            "  2.51964041e-01 4.56752137e-01 0.00000000e+00 6.50192372e-01\n",
            "  5.34244061e-01 1.02248462e+00 9.53046799e-01 9.81715937e-01]\n",
            " [2.77254778e-01 1.25203750e-01 4.81486164e-01 3.22204331e-01\n",
            "  6.50138411e-01 4.97651248e-01 2.71981061e-01 8.38702580e-01\n",
            "  8.21666911e-01 4.52322107e-01 1.49700272e-01 6.63028906e-01\n",
            "  2.62735613e-01 7.06659649e-01 5.20164000e-01 7.33980193e-01\n",
            "  5.24858222e-01 2.60147068e-01 6.47786327e-01 4.13436375e-01\n",
            "  6.82806339e-01 1.16340247e-01 2.31339322e-01 4.38186965e-01\n",
            "  2.40947018e-01 5.52908868e-01 1.97819145e-01 4.82994893e-01\n",
            "  8.63453988e-01 2.46207292e-01 5.98506004e-01 6.41799535e-01\n",
            "  4.08667852e-01 7.88640102e-01 3.49717768e-01 3.72775166e-01\n",
            "  2.80614838e-01 2.69461859e-01 4.16259163e-01 3.20193806e-01\n",
            "  7.19376416e-01 2.58172239e-01 6.03367079e-01 7.99670246e-01\n",
            "  3.22220975e-01 5.46137351e-01 3.96747813e-01 1.79784742e-01\n",
            "  3.98160867e-01 3.56975788e-01 2.03989419e-01 3.56402940e-01\n",
            "  7.27879300e-01 2.98256150e-01 6.81201496e-01 4.96738613e-01\n",
            "  2.07544404e-01 5.78631907e-01 3.88846634e-01 4.97518482e-01\n",
            "  2.35750464e-01 4.78418594e-01 2.51736088e-01 4.05623537e-01\n",
            "  6.46152676e-01 2.67142714e-01 2.01984106e-01 3.54261480e-01\n",
            "  2.28648409e-01 7.55879512e-01 2.35357204e-01 2.47090158e-01\n",
            "  2.51844776e-01 2.60372825e-01 4.43343576e-01 7.28776444e-01\n",
            "  7.09100148e-02 6.09193712e-01 4.84274225e-01 6.58492488e-01\n",
            "  5.07032002e-01 6.69727230e-01 6.68927732e-01 7.99160560e-01\n",
            "  4.13229124e-01 3.88746307e-01 3.18448806e-01 1.53261105e-01\n",
            "  4.89849266e-01 5.83993023e-01 3.55902404e-01 6.64208266e-01\n",
            "  4.09451382e-01 3.21701981e-01 6.50192372e-01 0.00000000e+00\n",
            "  2.65581567e-01 3.79749267e-01 4.57451371e-01 3.33043569e-01]\n",
            " [4.86648882e-01 3.73796219e-01 2.16163552e-01 8.49006299e-02\n",
            "  3.87413721e-01 2.43153711e-01 4.00644568e-01 5.89316324e-01\n",
            "  5.76551003e-01 3.04372056e-01 2.09109595e-01 5.36286207e-01\n",
            "  4.81960280e-01 4.66034585e-01 2.76617033e-01 4.74128422e-01\n",
            "  3.10402007e-01 4.58550142e-01 4.70863430e-01 1.73702990e-01\n",
            "  4.17505079e-01 1.82504178e-01 4.63324363e-01 1.73962766e-01\n",
            "  4.70143582e-01 5.32289453e-01 1.41059139e-01 4.06114826e-01\n",
            "  6.03156863e-01 3.29899794e-01 4.90932051e-01 3.79457039e-01\n",
            "  1.49293001e-01 5.23124432e-01 1.79819959e-01 4.21972097e-01\n",
            "  3.97776170e-01 4.36941495e-01 5.05692870e-01 5.18314372e-01\n",
            "  4.53835638e-01 2.89385343e-01 4.85385835e-01 5.44162399e-01\n",
            "  2.33102790e-01 2.85841695e-01 3.49995510e-01 4.05716701e-01\n",
            "  4.61610694e-01 2.34087871e-01 8.61468792e-02 1.85507230e-01\n",
            "  4.88939452e-01 6.10455116e-02 4.16707058e-01 3.77152395e-01\n",
            "  4.27723704e-01 3.13092554e-01 3.00470048e-01 2.75981514e-01\n",
            "  1.53942946e-01 3.63583339e-01 6.19385716e-02 5.32546048e-01\n",
            "  4.08130403e-01 5.32723945e-01 1.88341417e-01 1.61264419e-01\n",
            "  3.73820041e-01 5.10478914e-01 1.47056688e-01 4.49453548e-01\n",
            "  7.92620388e-02 5.24153083e-01 1.86954751e-01 5.67715406e-01\n",
            "  3.00910976e-01 4.36651450e-01 3.82626051e-01 4.41152142e-01\n",
            "  4.99134546e-01 4.12737507e-01 4.23148523e-01 5.43184355e-01\n",
            "  6.54158071e-01 4.63045997e-01 2.89723401e-01 1.60340954e-01\n",
            "  2.61105263e-01 6.44098490e-01 4.45782613e-01 5.74239925e-01\n",
            "  3.65523404e-01 8.44441660e-02 5.34244061e-01 2.65581567e-01\n",
            "  0.00000000e+00 6.10064549e-01 4.19379471e-01 5.20220258e-01]\n",
            " [4.75260416e-01 2.54692312e-01 8.17372665e-01 6.83702937e-01\n",
            "  9.56554672e-01 8.53186967e-01 2.68284757e-01 1.19930799e+00\n",
            "  1.18575150e+00 8.31959902e-01 4.07089679e-01 7.66933361e-01\n",
            "  1.28559453e-01 9.60446917e-01 8.83850295e-01 1.02674528e+00\n",
            "  8.99561025e-01 1.61475191e-01 1.02753556e+00 7.05302830e-01\n",
            "  1.00164585e+00 4.27659644e-01 4.13254274e-01 7.63037926e-01\n",
            "  4.22143574e-01 8.95903911e-01 5.76490310e-01 5.82825826e-01\n",
            "  1.20933776e+00 5.87297390e-01 9.70185963e-01 9.85033599e-01\n",
            "  7.25543227e-01 1.10760795e+00 7.27480742e-01 7.02139682e-01\n",
            "  5.88186013e-01 2.07121670e-01 7.08186906e-01 5.15548642e-01\n",
            "  1.04084561e+00 6.19187721e-01 7.11173607e-01 1.15365317e+00\n",
            "  5.22417154e-01 8.94449835e-01 5.06163872e-01 2.06163358e-01\n",
            "  3.63417922e-01 7.36579766e-01 5.72318656e-01 7.34265166e-01\n",
            "  1.09557352e+00 6.17387885e-01 9.94077166e-01 8.73375541e-01\n",
            "  4.31864301e-01 9.08630046e-01 5.47461781e-01 7.52712345e-01\n",
            "  4.99675377e-01 8.54844803e-01 6.16812073e-01 6.64983501e-01\n",
            "  1.01387593e+00 2.38598773e-01 4.49279006e-01 6.22422582e-01\n",
            "  2.64756585e-01 1.11959783e+00 5.04382942e-01 1.66346059e-01\n",
            "  5.60756525e-01 2.83095329e-01 7.97011497e-01 8.64609211e-01\n",
            "  4.04229553e-01 7.82864225e-01 8.58359093e-01 1.03385563e+00\n",
            "  8.48036387e-01 9.58681164e-01 1.03209933e+00 1.15252448e+00\n",
            "  5.84583611e-02 3.44903160e-01 4.63369227e-01 5.32461758e-01\n",
            "  8.59835125e-01 8.71124001e-01 6.61931138e-01 7.19905433e-01\n",
            "  7.73968437e-01 6.83184901e-01 1.02248462e+00 3.79749267e-01\n",
            "  6.10064549e-01 0.00000000e+00 5.22603458e-01 1.37975479e-01]\n",
            " [7.30880723e-01 4.50425153e-01 5.14349609e-01 4.97234143e-01\n",
            "  5.64369112e-01 5.89771870e-01 2.67361114e-01 8.93248788e-01\n",
            "  8.93579993e-01 7.23012969e-01 3.13334351e-01 2.44846213e-01\n",
            "  4.29188500e-01 4.98914454e-01 6.39382489e-01 6.03400624e-01\n",
            "  7.02842256e-01 3.82680137e-01 8.75361356e-01 3.62446893e-01\n",
            "  6.23065812e-01 3.61292243e-01 6.77310337e-01 4.55120566e-01\n",
            "  6.87908507e-01 9.38246077e-01 5.17004547e-01 6.62566563e-02\n",
            "  8.60247421e-01 6.73846444e-01 9.10294272e-01 6.59803082e-01\n",
            "  4.17246483e-01 7.14741903e-01 5.99111711e-01 7.93376841e-01\n",
            "  7.25431551e-01 3.27103902e-01 8.57359249e-01 7.75385058e-01\n",
            "  6.61085416e-01 6.58161541e-01 1.88606505e-01 8.32133303e-01\n",
            "  1.86279424e-01 6.00637244e-01 7.00547918e-02 4.16719490e-01\n",
            "  1.66370307e-01 6.51763301e-01 4.65850894e-01 6.04667342e-01\n",
            "  8.29029311e-01 3.72121300e-01 6.06306784e-01 7.96531063e-01\n",
            "  6.60947781e-01 5.69180190e-01 1.24853589e-01 3.36033085e-01\n",
            "  2.77863835e-01 7.82864999e-01 4.74442218e-01 8.58126217e-01\n",
            "  7.59676755e-01 6.20207997e-01 2.75779515e-01 2.89826214e-01\n",
            "  2.94554592e-01 8.33969359e-01 2.83759068e-01 3.86976648e-01\n",
            "  3.41303884e-01 6.42676089e-01 5.44485441e-01 3.42585443e-01\n",
            "  5.28328517e-01 2.78397847e-01 8.01350460e-01 8.17588500e-01\n",
            "  8.99808158e-01 5.39849708e-01 7.56975931e-01 8.29367311e-01\n",
            "  5.81061447e-01 1.83706698e-01 1.44686452e-01 5.01362746e-01\n",
            "  6.46761623e-01 1.01767825e+00 7.94591382e-01 2.13966489e-01\n",
            "  7.72516384e-01 4.96898617e-01 9.53046799e-01 4.57451371e-01\n",
            "  4.19379471e-01 5.22603458e-01 0.00000000e+00 3.84706332e-01]\n",
            " [5.07918410e-01 2.23612731e-01 7.15920921e-01 6.00202314e-01\n",
            "  8.41610361e-01 7.61060416e-01 1.38836883e-01 1.10581863e+00\n",
            "  1.09512357e+00 7.74676454e-01 3.11132980e-01 6.28959104e-01\n",
            "  9.15128336e-02 8.33197113e-01 7.96820639e-01 9.07002529e-01\n",
            "  8.23759619e-01 7.31392956e-02 9.66101985e-01 5.92118664e-01\n",
            "  8.90034721e-01 3.44055143e-01 4.43882608e-01 6.58593534e-01\n",
            "  4.54296379e-01 8.81527100e-01 5.15695840e-01 4.45413459e-01\n",
            "  1.10667921e+00 5.70262849e-01 9.30407135e-01 8.83711105e-01\n",
            "  6.19409856e-01 9.94690114e-01 6.60274596e-01 6.93882978e-01\n",
            "  5.87487297e-01 8.48896554e-02 7.18166228e-01 5.52592822e-01\n",
            "  9.29618344e-01 5.90024328e-01 5.73302891e-01 1.05612758e+00\n",
            "  3.98089448e-01 7.97304962e-01 3.70645929e-01 1.59101349e-01\n",
            "  2.26190726e-01 6.80806349e-01 4.98841509e-01 6.67140411e-01\n",
            "  1.00906709e+00 5.16759349e-01 8.80579744e-01 8.25916663e-01\n",
            "  4.50528628e-01 8.02730214e-01 4.15554416e-01 6.29375602e-01\n",
            "  3.91408701e-01 8.07925110e-01 5.38603767e-01 6.87096532e-01\n",
            "  9.28350258e-01 3.03705243e-01 3.42790083e-01 5.06556709e-01\n",
            "  1.49160772e-01 1.02931552e+00 3.96998421e-01 8.66420599e-02\n",
            "  4.60247726e-01 3.42296812e-01 7.05054406e-01 7.26915013e-01\n",
            "  3.79337364e-01 6.47697694e-01 8.15485912e-01 9.57391651e-01\n",
            "  8.34642116e-01 8.38895541e-01 9.42387529e-01 1.05463036e+00\n",
            "  1.96420851e-01 2.07678153e-01 3.33939952e-01 4.74914166e-01\n",
            "  7.78913569e-01 8.86464708e-01 6.64343018e-01 5.82890049e-01\n",
            "  7.42429314e-01 5.99692070e-01 9.81715937e-01 3.33043569e-01\n",
            "  5.20220258e-01 1.37975479e-01 3.84706332e-01 0.00000000e+00]]\n"
          ]
        }
      ],
      "source": [
        "a=np.random.random((100,2))\n",
        "x,y=np.atleast_2d(a[:,0],a[:,1])\n",
        "c=np.sqrt((x-x.T)**2+(y-y.T)**2)\n",
        "print(c)"
      ]
    },
    {
      "cell_type": "markdown",
      "metadata": {
        "id": "JyUWiy4_PFMd"
      },
      "source": [
        "#### 53. How to convert a float (32 bits) array into an integer (32 bits) in place? \n",
        "(**hint**: astype(copy=False))"
      ]
    },
    {
      "cell_type": "code",
      "execution_count": null,
      "metadata": {
        "id": "HCuzEsDCPFMd",
        "colab": {
          "base_uri": "https://localhost:8080/"
        },
        "outputId": "749f14e0-d007-40e2-9ee4-88cb8bcf98fb"
      },
      "outputs": [
        {
          "output_type": "execute_result",
          "data": {
            "text/plain": [
              "array([0, 1, 2, 3, 4, 5, 6, 7, 8, 9], dtype=int32)"
            ]
          },
          "metadata": {},
          "execution_count": 55
        }
      ],
      "source": [
        "a=np.arange(10,dtype=np.float32)\n",
        "b=a.astype(np.int32,copy=False)\n",
        "b\n"
      ]
    },
    {
      "cell_type": "markdown",
      "metadata": {
        "id": "Ysx3lSWWPFMd"
      },
      "source": [
        "#### 54. How to read the following file? (★★☆) \n",
        "(**hint**: np.genfromtxt)"
      ]
    },
    {
      "cell_type": "markdown",
      "metadata": {
        "id": "A64PlR_TPFMd"
      },
      "source": [
        "```\n",
        "1, 2, 3, 4, 5\n",
        "6,  ,  , 7, 8\n",
        " ,  , 9,10,11\n",
        "```"
      ]
    },
    {
      "cell_type": "code",
      "execution_count": null,
      "metadata": {
        "id": "_PyS-YQ2PFMd",
        "colab": {
          "base_uri": "https://localhost:8080/"
        },
        "outputId": "a84efc54-22d8-4055-be36-a0dc1d680502"
      },
      "outputs": [
        {
          "output_type": "stream",
          "name": "stderr",
          "text": [
            "/usr/local/lib/python3.7/dist-packages/ipykernel_launcher.py:5: DeprecationWarning: `np.int` is a deprecated alias for the builtin `int`. To silence this warning, use `int` by itself. Doing this will not modify any behavior and is safe. When replacing `np.int`, you may wish to use e.g. `np.int64` or `np.int32` to specify the precision. If you wish to review your current use, check the release note link for additional information.\n",
            "Deprecated in NumPy 1.20; for more details and guidance: https://numpy.org/devdocs/release/1.20.0-notes.html#deprecations\n",
            "  \"\"\"\n"
          ]
        },
        {
          "output_type": "execute_result",
          "data": {
            "text/plain": [
              "array([[ 1,  2,  3,  4,  5],\n",
              "       [ 6, -1, -1,  7,  8],\n",
              "       [-1, -1,  9, 10, 11]])"
            ]
          },
          "metadata": {},
          "execution_count": 56
        }
      ],
      "source": [
        "from io import StringIO\n",
        "s=StringIO('''1, 2, 3, 4, 5\\n\n",
        "           6,  ,  , 7, 8\\n\n",
        "            ,  , 9,10,11\\n''')\n",
        "a=np.genfromtxt(s,delimiter=',',dtype=np.int)\n",
        "a"
      ]
    },
    {
      "cell_type": "markdown",
      "metadata": {
        "id": "PLO_1V0TPFMd"
      },
      "source": [
        "#### 55. What is the equivalent of enumerate for numpy arrays? (★★☆) \n",
        "(**hint**: np.ndenumerate, np.ndindex)"
      ]
    },
    {
      "cell_type": "code",
      "execution_count": null,
      "metadata": {
        "id": "uF_Df9wiPFMd",
        "colab": {
          "base_uri": "https://localhost:8080/"
        },
        "outputId": "db73a890-c7d1-4d12-e7b1-46097b94eb71"
      },
      "outputs": [
        {
          "output_type": "stream",
          "name": "stdout",
          "text": [
            "(0,) 0\n",
            "(1,) 1\n",
            "(2,) 2\n",
            "(3,) 3\n",
            "(4,) 4\n",
            "(5,) 5\n",
            "(6,) 6\n",
            "(7,) 7\n",
            "(8,) 8\n",
            "(9,) 9\n",
            "(0,) 0\n",
            "(1,) 1\n",
            "(2,) 2\n",
            "(3,) 3\n",
            "(4,) 4\n",
            "(5,) 5\n",
            "(6,) 6\n",
            "(7,) 7\n",
            "(8,) 8\n",
            "(9,) 9\n"
          ]
        }
      ],
      "source": [
        "a=np.arange(10)\n",
        "for i,value in np.ndenumerate(a):\n",
        "  print(i ,value)\n",
        "for i in np.ndindex(a.shape):\n",
        "  print(i,a[i])"
      ]
    },
    {
      "cell_type": "markdown",
      "metadata": {
        "id": "7_qp-KjJPFMe"
      },
      "source": [
        "#### 56. Generate a generic 2D Gaussian-like array (★★☆) \n",
        "(**hint**: np.meshgrid, np.exp)"
      ]
    },
    {
      "cell_type": "code",
      "execution_count": null,
      "metadata": {
        "id": "6Y2-_mzxPFMe",
        "colab": {
          "base_uri": "https://localhost:8080/"
        },
        "outputId": "8e94d20b-ce03-4a2a-dc58-6bf661ab207e"
      },
      "outputs": [
        {
          "output_type": "stream",
          "name": "stdout",
          "text": [
            "[[-2.71828183e+00 -1.21824940e+01 -1.48413159e+02 -4.91476884e+03\n",
            "  -4.42413392e+05 -1.08254988e+08 -7.20048993e+10 -1.30187912e+14\n",
            "  -6.39843494e+17 -8.54813429e+21]\n",
            " [-1.21824940e+01 -5.45981500e+01 -6.65141633e+02 -2.20264658e+04\n",
            "  -1.98275926e+06 -4.85165195e+08 -3.22703570e+11 -5.83461743e+14\n",
            "  -2.86757959e+18 -3.83100800e+22]\n",
            " [-1.48413159e+02 -6.65141633e+02 -8.10308393e+03 -2.68337287e+05\n",
            "  -2.41549528e+07 -5.91052206e+09 -3.93133430e+12 -7.10801915e+15\n",
            "  -3.49342711e+19 -4.66712318e+23]\n",
            " [-4.91476884e+03 -2.20264658e+04 -2.68337287e+05 -8.88611052e+06\n",
            "  -7.99902177e+08 -1.95729609e+11 -1.30187912e+14 -2.35385267e+17\n",
            "  -1.15686417e+21 -1.54553894e+25]\n",
            " [-4.42413392e+05 -1.98275926e+06 -2.41549528e+07 -7.99902177e+08\n",
            "  -7.20048993e+10 -1.76190180e+13 -1.17191424e+16 -2.11887065e+19\n",
            "  -1.04137594e+23 -1.39124981e+27]\n",
            " [-1.08254988e+08 -4.85165195e+08 -5.91052206e+09 -1.95729609e+11\n",
            "  -1.76190180e+13 -4.31123155e+15 -2.86757959e+18 -5.18470553e+21\n",
            "  -2.54816292e+25 -3.40427605e+29]\n",
            " [-7.20048993e+10 -3.22703570e+11 -3.93133430e+12 -1.30187912e+14\n",
            "  -1.17191424e+16 -2.86757959e+18 -1.90734657e+21 -3.44856350e+24\n",
            "  -1.69488924e+28 -2.26432573e+32]\n",
            " [-1.30187912e+14 -5.83461743e+14 -7.10801915e+15 -2.35385267e+17\n",
            "  -2.11887065e+19 -5.18470553e+21 -3.44856350e+24 -6.23514908e+27\n",
            "  -3.06443164e+31 -4.09399696e+35]\n",
            " [-6.39843494e+17 -2.86757959e+18 -3.49342711e+19 -1.15686417e+21\n",
            "  -1.04137594e+23 -2.54816292e+25 -1.69488924e+28 -3.06443164e+31\n",
            "  -1.50609731e+35 -2.01210487e+39]\n",
            " [-8.54813429e+21 -3.83100800e+22 -4.66712318e+23 -1.54553894e+25\n",
            "  -1.39124981e+27 -3.40427605e+29 -2.26432573e+32 -4.09399696e+35\n",
            "  -2.01210487e+39 -2.68811714e+43]]\n"
          ]
        }
      ],
      "source": [
        "x,y=np.meshgrid(np.linspace(1,10,10),np.linspace(1,10,10))\n",
        "d=np.sqrt(x**2+y**2)\n",
        "mu=0.0\n",
        "sigma=1.0\n",
        "print(-np.exp((d-mu)**2/(2*sigma**2)))"
      ]
    },
    {
      "cell_type": "markdown",
      "metadata": {
        "id": "rjk5XX-UPFMe"
      },
      "source": [
        "#### 57. How to randomly place p elements in a 2D array? (★★☆) \n",
        "(**hint**: np.put, np.random.choice)"
      ]
    },
    {
      "cell_type": "code",
      "execution_count": null,
      "metadata": {
        "id": "oam7ERWfPFMe"
      },
      "outputs": [],
      "source": [
        "n = 10\n",
        "p = int(input())\n",
        "Z = np.zeros((n,n))\n",
        "np.put(Z, np.random.choice(range(n*n), p, replace=False),int(input()))\n",
        "print(Z)"
      ]
    },
    {
      "cell_type": "markdown",
      "metadata": {
        "id": "lt9KWFRmPFMe"
      },
      "source": [
        "#### 58. Subtract the mean of each row of a matrix (★★☆) \n",
        "(**hint**: mean(axis=,keepdims=))"
      ]
    },
    {
      "cell_type": "code",
      "execution_count": null,
      "metadata": {
        "id": "ds64J1GQPFMe"
      },
      "outputs": [],
      "source": [
        "X=np.random.rand(5,10)\n",
        "Y = X - X.mean(axis=0, keepdims=True)\n",
        "Y"
      ]
    },
    {
      "cell_type": "markdown",
      "metadata": {
        "id": "NPqp8ZdpPFMe"
      },
      "source": [
        "#### 59. How to sort an array by the nth column? (★★☆) \n",
        "(**hint**: argsort)"
      ]
    },
    {
      "cell_type": "code",
      "execution_count": null,
      "metadata": {
        "id": "iTHXoELsPFMe"
      },
      "outputs": [],
      "source": [
        "a=np.random.randint(0,10,size=(3,3))\n",
        "print(a)\n",
        "a[:,int(input())].argsort()"
      ]
    },
    {
      "cell_type": "markdown",
      "metadata": {
        "id": "0QigD2H_PFMe"
      },
      "source": [
        "#### 60. How to tell if a given 2D array has null columns? (★★☆) \n",
        "(**hint**: any, ~)"
      ]
    },
    {
      "cell_type": "code",
      "execution_count": null,
      "metadata": {
        "id": "b2TcUYfZPFMf"
      },
      "outputs": [],
      "source": [
        "a = np.random.randint(1,3,(3,10))\n",
        "print(a)\n",
        "print((~a.any(axis=0)).any())"
      ]
    },
    {
      "cell_type": "markdown",
      "metadata": {
        "id": "ykj0Do1OPFMf"
      },
      "source": [
        "#### 61. Find the nearest value from a given value in an array (★★☆) \n",
        "(**hint**: np.abs, argmin, flat)"
      ]
    },
    {
      "cell_type": "code",
      "execution_count": null,
      "metadata": {
        "id": "WTP05DhnPFMf"
      },
      "outputs": [],
      "source": [
        "a= np.random.uniform(0,1,10)\n",
        "z = int(input())\n",
        "m = a.flat[np.abs(a - z).argmin()]\n",
        "print(m)\n",
        "a"
      ]
    },
    {
      "cell_type": "markdown",
      "metadata": {
        "id": "67Lq0jn6PFMf"
      },
      "source": [
        "#### 62. Considering two arrays with shape (1,3) and (3,1), how to compute their sum using an iterator? (★★☆) \n",
        "(**hint**: np.nditer)"
      ]
    },
    {
      "cell_type": "code",
      "execution_count": null,
      "metadata": {
        "id": "azKAreOJPFMf"
      },
      "outputs": [],
      "source": [
        "A = np.arange(3).reshape(3,1)\n",
        "B = np.arange(3).reshape(1,3)\n",
        "it = np.nditer([A,B,None])\n",
        "for x,y,z in it: \n",
        "   np.add(x,y,z)\n",
        "print(it.operands[2])"
      ]
    },
    {
      "cell_type": "markdown",
      "metadata": {
        "id": "yNFNuK8OPFMf"
      },
      "source": [
        "#### 63. Create an array class that has a name attribute (★★☆) \n",
        "(**hint**: class method)"
      ]
    },
    {
      "cell_type": "code",
      "execution_count": null,
      "metadata": {
        "id": "yoE3p-5zPFMf"
      },
      "outputs": [],
      "source": [
        "class NamedArray(np.ndarray):\n",
        "    def __new__(cls, array, name=\"no name\"):\n",
        "        obj = np.asarray(array).view(cls)\n",
        "        obj.name = name\n",
        "        return obj\n",
        "    def __array_finalize__(self, obj):\n",
        "        if obj is None:\n",
        "           return\n",
        "        self.info = getattr(obj, 'name', \"no name\")\n",
        "\n",
        "Z = NamedArray(np.arange(10), \"range_10\")\n",
        "print (Z.name)"
      ]
    },
    {
      "cell_type": "markdown",
      "metadata": {
        "id": "mdluXA1zPFMf"
      },
      "source": [
        "#### 64. Consider a given vector, how to add 1 to each element indexed by a second vector (be careful with repeated indices)? (★★★) \n",
        "(**hint**: np.bincount | np.add.at)"
      ]
    },
    {
      "cell_type": "code",
      "execution_count": null,
      "metadata": {
        "id": "3Qbb2OtMPFMg"
      },
      "outputs": [],
      "source": [
        "Z = np.ones(10)\n",
        "I = np.random.randint(0,len(Z),20)\n",
        "Z += np.bincount(I, minlength=len(Z))\n",
        "print(Z)\n"
      ]
    },
    {
      "cell_type": "markdown",
      "metadata": {
        "id": "Zu_xZ1asPFMg"
      },
      "source": [
        "#### 65. How to accumulate elements of a vector (X) to an array (F) based on an index list (I)? (★★★) \n",
        "(**hint**: np.bincount)"
      ]
    },
    {
      "cell_type": "code",
      "execution_count": null,
      "metadata": {
        "id": "bturJjt6PFMg"
      },
      "outputs": [],
      "source": [
        "a=np.random.randint(1,10,10)\n",
        "b=np.random.randint(1,11,10)\n",
        "c=np.bincount(a,b)\n",
        "print(c)"
      ]
    },
    {
      "cell_type": "markdown",
      "metadata": {
        "id": "qcqSkcr3PFMg"
      },
      "source": [
        "#### 66. Considering a (w,h,3) image of (dtype=ubyte), compute the number of unique colors (★★★) \n",
        "(**hint**: np.unique)"
      ]
    },
    {
      "cell_type": "code",
      "execution_count": null,
      "metadata": {
        "id": "XWgGq4KwPFMg"
      },
      "outputs": [],
      "source": [
        "w,h = 16,16\n",
        "a = np.random.randint(0,2,(h,w,3)).astype(np.ubyte)\n",
        "b = a[...,0]*256*256 + a[...,1]*256 +a[...,2]\n",
        "n = len(np.unique(b))\n",
        "print(np.unique(a))"
      ]
    },
    {
      "cell_type": "markdown",
      "metadata": {
        "id": "4LKSqSBfPFMg"
      },
      "source": [
        "#### 67. Considering a four dimensions array, how to get sum over the last two axis at once? (★★★) \n",
        "(**hint**: sum(axis=(-2,-1)))"
      ]
    },
    {
      "cell_type": "code",
      "execution_count": null,
      "metadata": {
        "id": "AabThr1NPFMg"
      },
      "outputs": [],
      "source": [
        "A = np.random.randint(0,10,(3,4,3,4))\n",
        "sum = A.sum(axis=(-2,-1))\n",
        "print(sum)\n"
      ]
    },
    {
      "cell_type": "markdown",
      "metadata": {
        "id": "3baKlNJGPFMg"
      },
      "source": [
        "#### 68. Considering a one-dimensional vector D, how to compute means of subsets of D using a vector S of same size describing subset  indices? (★★★) \n",
        "(**hint**: np.bincount)"
      ]
    },
    {
      "cell_type": "code",
      "execution_count": null,
      "metadata": {
        "id": "KjCcFlOHPFMh"
      },
      "outputs": [],
      "source": [
        "D = np.random.uniform(0,1,100)\n",
        "S = np.random.randint(0,10,100)\n",
        "D_sums = np.bincount(S, weights=D)\n",
        "D_counts = np.bincount(S)\n",
        "D_means = D_sums / D_counts\n",
        "print(D_means)"
      ]
    },
    {
      "cell_type": "markdown",
      "metadata": {
        "id": "L6sVeJH1PFMh"
      },
      "source": [
        "#### 69. How to get the diagonal of a dot product? (★★★) \n",
        "(**hint**: np.diag)"
      ]
    },
    {
      "cell_type": "code",
      "execution_count": null,
      "metadata": {
        "id": "73mnycMPPFMh"
      },
      "outputs": [],
      "source": [
        "A = np.random.uniform(0,1,(3,3))\n",
        "B = np.random.uniform(0,1,(3,3)) \n",
        "np.diag(np.dot(A, B))"
      ]
    },
    {
      "cell_type": "markdown",
      "metadata": {
        "id": "3B2IuVNfPFMh"
      },
      "source": [
        "#### 70. Consider the vector \\[1, 2, 3, 4, 5\\], how to build a new vector with 3 consecutive zeros interleaved between each value? (★★★) \n",
        "(**hint**: array\\[::4\\])"
      ]
    },
    {
      "cell_type": "code",
      "execution_count": null,
      "metadata": {
        "id": "iIjwCwiaPFMh"
      },
      "outputs": [],
      "source": [
        "# Author: Warren Weckesser\n",
        "\n",
        "Z = np.array([1,2,3,4,5])\n",
        "a = 3\n",
        "b = np.zeros(len(Z) + (len(Z)-1)*(a))\n",
        "b[::a+1] = Z\n",
        "print(b)"
      ]
    },
    {
      "cell_type": "markdown",
      "metadata": {
        "id": "uv4EDz5QPFMh"
      },
      "source": [
        "#### 71. Consider an array of dimension (5,5,3), how to mulitply it by an array with dimensions (5,5)? (★★★) \n",
        "(**hint**: array\\[:, :, None\\])"
      ]
    },
    {
      "cell_type": "code",
      "execution_count": null,
      "metadata": {
        "collapsed": true,
        "id": "NarOzO_8PFMh"
      },
      "outputs": [],
      "source": [
        "a=np.ones((5,5,3))\n",
        "b=np.ones((5,5))\n",
        "print(a*b[:,:,None])"
      ]
    },
    {
      "cell_type": "markdown",
      "metadata": {
        "id": "Js0pHKFtPFMi"
      },
      "source": [
        "#### 72. How to swap two rows of an array? (★★★) \n",
        "(**hint**: array\\[\\[\\]\\] = array\\[\\[\\]\\])"
      ]
    },
    {
      "cell_type": "code",
      "execution_count": null,
      "metadata": {
        "id": "gkXNo7rYPFMi"
      },
      "outputs": [],
      "source": [
        "a=np.random.random((5,5))\n",
        "print(a)\n",
        "a[[0,1]]=a[[1,0]]\n",
        "a"
      ]
    },
    {
      "cell_type": "markdown",
      "metadata": {
        "id": "paqJnmbEPFMi"
      },
      "source": [
        "#### 73. Consider a set of 10 triplets describing 10 triangles (with shared vertices), find the set of unique line segments composing all the  triangles (★★★) \n",
        "(**hint**: repeat, np.roll, np.sort, view, np.unique)"
      ]
    },
    {
      "cell_type": "code",
      "execution_count": null,
      "metadata": {
        "id": "ehRgYQt2PFMi"
      },
      "outputs": [],
      "source": [
        "faces = np.random.randint(0,100,(10,3))\n",
        "F = np.roll(faces.repeat(2,axis=1),-1,axis=1)\n",
        "F = F.reshape(len(F)*3,2)\n",
        "F = np.sort(F,axis=1)\n",
        "G = F.view( dtype=[('p0',F.dtype),('p1',F.dtype)] )\n",
        "G = np.unique(G)\n",
        "print(G)"
      ]
    },
    {
      "cell_type": "markdown",
      "metadata": {
        "id": "gVwZH-FVPFMi"
      },
      "source": [
        "#### 74. Given an array C that is a bincount, how to produce an array A such that np.bincount(A) == C? (★★★) \n",
        "(**hint**: np.repeat)"
      ]
    },
    {
      "cell_type": "code",
      "execution_count": null,
      "metadata": {
        "id": "dvnYwupKPFMj"
      },
      "outputs": [],
      "source": [
        "C = np.bincount([1,1,2,3,4,4,6])\n",
        "A = np.repeat(np.arange(len(C)), C)\n",
        "print(A)"
      ]
    },
    {
      "cell_type": "markdown",
      "metadata": {
        "id": "awgofKKMPFMj"
      },
      "source": [
        "#### 75. How to compute averages using a sliding window over an array? (★★★) \n",
        "(**hint**: np.cumsum)"
      ]
    },
    {
      "cell_type": "code",
      "execution_count": null,
      "metadata": {
        "id": "B2cbJb4vPFMj"
      },
      "outputs": [],
      "source": [
        "def moving_average(a, n=3) :\n",
        "    ret = np.cumsum(a, dtype=float)\n",
        "    ret[n:] = ret[n:] - ret[:-n]\n",
        "    return ret[n - 1:] / n\n",
        "Z = np.arange(20)\n",
        "print(moving_average(Z, n=3))"
      ]
    },
    {
      "cell_type": "markdown",
      "metadata": {
        "id": "o02ZE5slPFMk"
      },
      "source": [
        "#### 76. Consider a one-dimensional array Z, build a two-dimensional array whose first row is (Z\\[0\\],Z\\[1\\],Z\\[2\\]) and each subsequent row is  shifted by 1 (last row should be (Z\\[-3\\],Z\\[-2\\],Z\\[-1\\]) (★★★) \n",
        "(**hint**: from numpy.lib import stride_tricks)"
      ]
    },
    {
      "cell_type": "code",
      "execution_count": 2,
      "metadata": {
        "id": "i4smUY83PFMk",
        "colab": {
          "base_uri": "https://localhost:8080/"
        },
        "outputId": "952861b3-0755-43b4-bac1-8e901ff79af8"
      },
      "outputs": [
        {
          "output_type": "stream",
          "name": "stdout",
          "text": [
            "[[0 1 2]\n",
            " [1 2 3]\n",
            " [2 3 4]\n",
            " [3 4 5]\n",
            " [4 5 6]\n",
            " [5 6 7]\n",
            " [6 7 8]\n",
            " [7 8 9]]\n"
          ]
        }
      ],
      "source": [
        "from numpy.lib import stride_tricks\n",
        "def rolling(a, window):\n",
        "    shape = (a.size - window + 1, window)\n",
        "    strides = (a.itemsize, a.itemsize)\n",
        "    return stride_tricks.as_strided(a, shape=shape, strides=strides)\n",
        "Z = rolling(np.arange(10), 3)\n",
        "print(Z)"
      ]
    },
    {
      "cell_type": "markdown",
      "metadata": {
        "id": "RcF3UCr0PFMk"
      },
      "source": [
        "#### 77. How to negate a boolean, or to change the sign of a float inplace? (★★★) \n",
        "(**hint**: np.logical_not, np.negative)"
      ]
    },
    {
      "cell_type": "code",
      "execution_count": null,
      "metadata": {
        "id": "KozrLKgEPFMk"
      },
      "outputs": [],
      "source": [
        "Z = np.random.uniform(-10.0,10.0,100)\n",
        "np.negative(Z)"
      ]
    },
    {
      "cell_type": "markdown",
      "metadata": {
        "id": "ZhbfP1EaPFMk"
      },
      "source": [
        "#### 78. Consider 2 sets of points P0,P1 describing lines (2d) and a point p, how to compute distance from p to each line i  (P0\\[i\\],P1\\[i\\])? (★★★)"
      ]
    },
    {
      "cell_type": "code",
      "execution_count": null,
      "metadata": {
        "id": "uStY5nYHPFMl"
      },
      "outputs": [],
      "source": [
        "def distance(P0, P1, p):\n",
        "    T = P1 - P0\n",
        "    L = (T**2).sum(axis=1)\n",
        "    U = -((P0[:,0]-p[...,0])*T[:,0] + (P0[:,1]-p[...,1])*T[:,1]) / L\n",
        "    U = U.reshape(len(U),1)\n",
        "    D = P0 + U*T - p\n",
        "    return np.sqrt((D**2).sum(axis=1))\n",
        "\n",
        "P0 = np.random.uniform(-10,10,(10,2))\n",
        "P1 = np.random.uniform(-10,10,(10,2))\n",
        "p  = np.random.uniform(-10,10,( 1,2))\n",
        "print(distance(P0, P1, p))"
      ]
    },
    {
      "cell_type": "markdown",
      "metadata": {
        "id": "Zm87ks62PFMl"
      },
      "source": [
        "#### 79. Consider 2 sets of points P0,P1 describing lines (2d) and a set of points P, how to compute distance from each point j (P\\[j\\]) to each line i (P0\\[i\\],P1\\[i\\])? (★★★)"
      ]
    },
    {
      "cell_type": "code",
      "execution_count": null,
      "metadata": {
        "id": "MXmwt8YnPFMl"
      },
      "outputs": [],
      "source": [
        "P0 = np.random.uniform(-10, 10, (10,2))\n",
        "P1 = np.random.uniform(-10,10,(10,2))\n",
        "p = np.random.uniform(-10, 10, (10,2))\n",
        "print(np.array([distance(P0,P1,p_i) for p_i in p]))"
      ]
    },
    {
      "cell_type": "markdown",
      "metadata": {
        "id": "o3LRnamOPFMl"
      },
      "source": [
        "#### 80. Consider an arbitrary array, write a function that extract a subpart with a fixed shape and centered on a given element (pad with a `fill` value when necessary) (★★★) \n",
        "(**hint**: minimum, maximum)"
      ]
    },
    {
      "cell_type": "code",
      "execution_count": null,
      "metadata": {
        "id": "5mgema3zPFMl"
      },
      "outputs": [],
      "source": [
        "Z = np.random.randint(0,10,(10,10))\n",
        "shape = (5,5)\n",
        "fill  = 0\n",
        "position = (1,1)\n",
        "\n",
        "R = np.ones(shape, dtype=Z.dtype)*fill\n",
        "P  = np.array(list(position)).astype(int)\n",
        "Rs = np.array(list(R.shape)).astype(int)\n",
        "Zs = np.array(list(Z.shape)).astype(int)\n",
        "\n",
        "R_start = np.zeros((len(shape),)).astype(int)\n",
        "R_stop  = np.array(list(shape)).astype(int)\n",
        "Z_start = (P-Rs//2)\n",
        "Z_stop  = (P+Rs//2)+Rs%2\n",
        "\n",
        "R_start = (R_start - np.minimum(Z_start,0)).tolist()\n",
        "Z_start = (np.maximum(Z_start,0)).tolist()\n",
        "R_stop = np.maximum(R_start, (R_stop - np.maximum(Z_stop-Zs,0))).tolist()\n",
        "Z_stop = (np.minimum(Z_stop,Zs)).tolist()\n",
        "\n",
        "r = [slice(start,stop) for start,stop in zip(R_start,R_stop)]\n",
        "z = [slice(start,stop) for start,stop in zip(Z_start,Z_stop)]\n",
        "R[r] = Z[z]\n",
        "print(Z)\n",
        "print(R)"
      ]
    },
    {
      "cell_type": "markdown",
      "metadata": {
        "id": "NfKZSOfdPFMl"
      },
      "source": [
        "#### 81. Consider an array Z = \\[1,2,3,4,5,6,7,8,9,10,11,12,13,14\\], how to generate an array R = \\[\\[1,2,3,4\\], \\[2,3,4,5\\], \\[3,4,5,6\\], ..., \\[11,12,13,14\\]\\]? (★★★) \n",
        "(**hint**: stride\\_tricks.as\\_strided)"
      ]
    },
    {
      "cell_type": "code",
      "execution_count": null,
      "metadata": {
        "id": "Vrm00MEXPFMl"
      },
      "outputs": [],
      "source": [
        "Z = np.arange(1,15,dtype=np.uint32)\n",
        "R = stride_tricks.as_strided(Z,(11,4),(4,4))\n",
        "print(R)"
      ]
    },
    {
      "cell_type": "markdown",
      "metadata": {
        "id": "DqlOnkIpPFMm"
      },
      "source": [
        "#### 82. Compute a matrix rank (★★★) \n",
        "(**hint**: np.linalg.svd) (suggestion: np.linalg.svd)"
      ]
    },
    {
      "cell_type": "code",
      "execution_count": null,
      "metadata": {
        "id": "mXwwwsviPFMm"
      },
      "outputs": [],
      "source": [
        "Z = np.random.uniform(0,1,(10,10))\n",
        "U, S, V = np.linalg.svd(Z)\n",
        "rank = np.sum(S > 1e-10)\n",
        "print(rank)"
      ]
    },
    {
      "cell_type": "markdown",
      "metadata": {
        "id": "SOpEPHtZPFMm"
      },
      "source": [
        "#### 83. How to find the most frequent value in an array? \n",
        "(**hint**: np.bincount, argmax)"
      ]
    },
    {
      "cell_type": "code",
      "execution_count": null,
      "metadata": {
        "id": "RAisfPxgPFMm"
      },
      "outputs": [],
      "source": [
        "Z = np.random.randint(1,10,10)\n",
        "np.bincount(Z).argmax()"
      ]
    },
    {
      "cell_type": "markdown",
      "metadata": {
        "id": "liYikXNoPFMm"
      },
      "source": [
        "#### 84. Extract all the contiguous 3x3 blocks from a random 10x10 matrix (★★★) \n",
        "(**hint**: stride\\_tricks.as\\_strided)"
      ]
    },
    {
      "cell_type": "code",
      "execution_count": 4,
      "metadata": {
        "id": "c-X87W4HPFMm"
      },
      "outputs": [],
      "source": [
        "Z = np.random.randint(0,5,(10,10))\n",
        "n = 3\n",
        "i = 1 + (Z.shape[0]-3)\n",
        "j = 1 + (Z.shape[1]-3)\n",
        "C = stride_tricks.as_strided(Z, shape=(i, j, n, n), strides=Z.strides + Z.strides)\n"
      ]
    },
    {
      "cell_type": "markdown",
      "metadata": {
        "id": "UM6NjAVRPFMm"
      },
      "source": [
        "#### 85. Create a 2D array subclass such that Z\\[i,j\\] == Z\\[j,i\\] (★★★) \n",
        "(**hint**: class method)"
      ]
    },
    {
      "cell_type": "code",
      "execution_count": 5,
      "metadata": {
        "id": "L_2b9_uuPFMm",
        "colab": {
          "base_uri": "https://localhost:8080/"
        },
        "outputId": "08bd9345-7757-4fe3-f8e1-0e94a41eb003"
      },
      "outputs": [
        {
          "output_type": "stream",
          "name": "stdout",
          "text": [
            "[[ 2  4  6 14 13]\n",
            " [ 4  5  9 13  7]\n",
            " [ 6  9  1 42  6]\n",
            " [14 13 42  8  9]\n",
            " [13  7  6  9  2]]\n"
          ]
        }
      ],
      "source": [
        "class Symetric(np.ndarray):\n",
        "    def __setitem__(self, index, value):\n",
        "        i,j = index\n",
        "        super(Symetric, self).__setitem__((i,j), value)\n",
        "        super(Symetric, self).__setitem__((j,i), value)\n",
        "\n",
        "def symetric(Z):\n",
        "    return np.asarray(Z + Z.T - np.diag(Z.diagonal())).view(Symetric)\n",
        "\n",
        "S = symetric(np.random.randint(0,10,(5,5)))\n",
        "S[2,3] = 42\n",
        "print(S)"
      ]
    },
    {
      "cell_type": "markdown",
      "metadata": {
        "id": "FK4YTCWAPFMn"
      },
      "source": [
        "#### 86. Consider a set of p matrices wich shape (n,n) and a set of p vectors with shape (n,1). How to compute the sum of of the p matrix products at once? (result has shape (n,1)) (★★★) \n",
        "(**hint**: np.tensordot)"
      ]
    },
    {
      "cell_type": "code",
      "execution_count": 6,
      "metadata": {
        "id": "wcg4F9E9PFMn",
        "colab": {
          "base_uri": "https://localhost:8080/"
        },
        "outputId": "fd4f2e51-b231-4ca9-846b-96c85b839752"
      },
      "outputs": [
        {
          "output_type": "stream",
          "name": "stdout",
          "text": [
            "[[200.]\n",
            " [200.]\n",
            " [200.]\n",
            " [200.]\n",
            " [200.]\n",
            " [200.]\n",
            " [200.]\n",
            " [200.]\n",
            " [200.]\n",
            " [200.]\n",
            " [200.]\n",
            " [200.]\n",
            " [200.]\n",
            " [200.]\n",
            " [200.]\n",
            " [200.]\n",
            " [200.]\n",
            " [200.]\n",
            " [200.]\n",
            " [200.]]\n"
          ]
        }
      ],
      "source": [
        "p, n = 10, 20\n",
        "M = np.ones((p,n,n))\n",
        "V = np.ones((p,n,1))\n",
        "S = np.tensordot(M, V, axes=[[0, 2], [0, 1]])\n",
        "print(S)"
      ]
    },
    {
      "cell_type": "markdown",
      "metadata": {
        "id": "eF7lpZLXPFMn"
      },
      "source": [
        "#### 87. Consider a 16x16 array, how to get the block-sum (block size is 4x4)? (★★★) \n",
        "(**hint**: np.add.reduceat)"
      ]
    },
    {
      "cell_type": "code",
      "execution_count": 7,
      "metadata": {
        "id": "KUrKofs8PFMn",
        "colab": {
          "base_uri": "https://localhost:8080/"
        },
        "outputId": "7c97f5bd-cd0b-47aa-d2e4-25378282084f"
      },
      "outputs": [
        {
          "output_type": "stream",
          "name": "stdout",
          "text": [
            "[[16. 16. 16. 16.]\n",
            " [16. 16. 16. 16.]\n",
            " [16. 16. 16. 16.]\n",
            " [16. 16. 16. 16.]]\n"
          ]
        }
      ],
      "source": [
        "Z = np.ones((16,16))\n",
        "k = 4\n",
        "S = np.add.reduceat(np.add.reduceat(Z, np.arange(0, Z.shape[0], k), axis=0),\n",
        "                                       np.arange(0, Z.shape[1], k), axis=1)\n",
        "print(S)"
      ]
    },
    {
      "cell_type": "markdown",
      "metadata": {
        "id": "OJ2BBzoFPFMn"
      },
      "source": [
        "#### 88. How to implement the Game of Life using numpy arrays? (★★★)"
      ]
    },
    {
      "cell_type": "code",
      "execution_count": 8,
      "metadata": {
        "id": "go2elrN7PFMn",
        "colab": {
          "base_uri": "https://localhost:8080/"
        },
        "outputId": "1537dccc-c937-42d4-c308-8e43c2d248c1"
      },
      "outputs": [
        {
          "output_type": "stream",
          "name": "stdout",
          "text": [
            "[[0 0 0 ... 0 0 0]\n",
            " [0 0 0 ... 0 0 0]\n",
            " [0 0 0 ... 0 0 0]\n",
            " ...\n",
            " [0 1 1 ... 0 0 0]\n",
            " [0 0 0 ... 0 0 0]\n",
            " [0 0 0 ... 0 0 0]]\n"
          ]
        }
      ],
      "source": [
        "def iterate(Z):\n",
        "    N = (Z[0:-2,0:-2] + Z[0:-2,1:-1] + Z[0:-2,2:] +\n",
        "         Z[1:-1,0:-2]                + Z[1:-1,2:] +\n",
        "         Z[2:  ,0:-2] + Z[2:  ,1:-1] + Z[2:  ,2:])\n",
        "    birth = (N==3) & (Z[1:-1,1:-1]==0)\n",
        "    survive = ((N==2) | (N==3)) & (Z[1:-1,1:-1]==1)\n",
        "    Z[...] = 0\n",
        "    Z[1:-1,1:-1][birth | survive] = 1\n",
        "    return Z\n",
        "\n",
        "Z = np.random.randint(0,2,(50,50))\n",
        "for i in range(100): Z = iterate(Z)\n",
        "print(Z)"
      ]
    },
    {
      "cell_type": "markdown",
      "metadata": {
        "id": "6TN0EN03PFMn"
      },
      "source": [
        "#### 89. How to get the n largest values of an array (★★★) \n",
        "(**hint**: np.argsort | np.argpartition)"
      ]
    },
    {
      "cell_type": "code",
      "execution_count": 9,
      "metadata": {
        "id": "n8rEAutAPFMn",
        "colab": {
          "base_uri": "https://localhost:8080/"
        },
        "outputId": "76febd2b-edac-42eb-d43d-1f8a316881db"
      },
      "outputs": [
        {
          "output_type": "stream",
          "name": "stdout",
          "text": [
            "[9995 9996 9997 9998 9999]\n"
          ]
        }
      ],
      "source": [
        "Z = np.arange(10000)\n",
        "np.random.shuffle(Z)\n",
        "n = 5\n",
        "print (Z[np.argsort(Z)[-n:]])"
      ]
    },
    {
      "cell_type": "markdown",
      "metadata": {
        "id": "GAYDaeVtPFMo"
      },
      "source": [
        "#### 90. Given an arbitrary number of vectors, build the cartesian product (every combinations of every item) (★★★) \n",
        "(**hint**: np.indices)"
      ]
    },
    {
      "cell_type": "code",
      "execution_count": 10,
      "metadata": {
        "scrolled": true,
        "id": "cqgoefc0PFMo",
        "colab": {
          "base_uri": "https://localhost:8080/"
        },
        "outputId": "e65460c4-d57d-4b3a-820f-b4ab9b8ee832"
      },
      "outputs": [
        {
          "output_type": "stream",
          "name": "stdout",
          "text": [
            "[[1 0 0]\n",
            " [1 0 1]\n",
            " [1 1 0]\n",
            " [1 1 1]\n",
            " [2 0 0]\n",
            " [2 0 1]\n",
            " [2 1 0]\n",
            " [2 1 1]\n",
            " [3 0 0]\n",
            " [3 0 1]\n",
            " [3 1 0]\n",
            " [3 1 1]]\n"
          ]
        }
      ],
      "source": [
        "def cartesian(arrays):\n",
        "    arrays = [np.asarray(a) for a in arrays]\n",
        "    shape = (len(x) for x in arrays)\n",
        "\n",
        "    ix = np.indices(shape, dtype=int)\n",
        "    ix = ix.reshape(len(arrays), -1).T\n",
        "\n",
        "    for n, arr in enumerate(arrays):\n",
        "        ix[:, n] = arrays[n][ix[:, n]]\n",
        "        return ix\n",
        "print (cartesian(([1, 2, 3], [4, 5], [6, 7])))"
      ]
    },
    {
      "cell_type": "markdown",
      "metadata": {
        "id": "9V456GQLPFMo"
      },
      "source": [
        "#### 91. How to create a record array from a regular array? (★★★) \n",
        "(**hint**: np.core.records.fromarrays)"
      ]
    },
    {
      "cell_type": "code",
      "execution_count": 11,
      "metadata": {
        "id": "vCz1j-SyPFMo",
        "colab": {
          "base_uri": "https://localhost:8080/"
        },
        "outputId": "31f1b0de-ac83-4418-f0a4-208fc1c7e94b"
      },
      "outputs": [
        {
          "output_type": "stream",
          "name": "stdout",
          "text": [
            "[(b'Hello', 2.5, 3) (b'World', 3.6, 2)]\n"
          ]
        }
      ],
      "source": [
        "Z = np.array([(\"Hello\", 2.5, 3),\n",
        "              (\"World\", 3.6, 2)])\n",
        "R = np.core.records.fromarrays(Z.T, names='col1, col2, col3',formats = 'S8, f8, i8')\n",
        "print(R)"
      ]
    },
    {
      "cell_type": "markdown",
      "metadata": {
        "id": "c_E-hBT2PFMo"
      },
      "source": [
        "#### 92. Consider a large vector Z, compute Z to the power of 3 using 3 different methods (★★★) \n",
        "(**hint**: np.power, \\*, np.einsum)"
      ]
    },
    {
      "cell_type": "code",
      "execution_count": 14,
      "metadata": {
        "id": "oOZaT84rPFMo",
        "colab": {
          "base_uri": "https://localhost:8080/"
        },
        "outputId": "23ff82d4-524d-4c1f-b132-6a8d1710be9b"
      },
      "outputs": [
        {
          "output_type": "stream",
          "name": "stdout",
          "text": [
            "1 loop, best of 5: 3.69 s per loop\n",
            "10 loops, best of 5: 140 ms per loop\n",
            "10 loops, best of 5: 123 ms per loop\n"
          ]
        }
      ],
      "source": [
        "x = np.random.rand(int(5e7))\n",
        "%timeit np.power(x,3)\n",
        "%timeit x*x*x\n",
        "%timeit np.einsum('i,i,i->i',x,x,x)"
      ]
    },
    {
      "cell_type": "markdown",
      "metadata": {
        "id": "NCQ06YRDPFMo"
      },
      "source": [
        "#### 93. Consider two arrays A and B of shape (8,3) and (2,2). How to find rows of A that contain elements of each row of B regardless of the order of the elements in B? (★★★) \n",
        "(**hint**: np.where)"
      ]
    },
    {
      "cell_type": "code",
      "execution_count": 15,
      "metadata": {
        "id": "wCYh0t_LPFMo",
        "colab": {
          "base_uri": "https://localhost:8080/"
        },
        "outputId": "d21cf764-6b37-4e35-c453-d62e49e21d9d"
      },
      "outputs": [
        {
          "output_type": "stream",
          "name": "stdout",
          "text": [
            "[2 6]\n"
          ]
        }
      ],
      "source": [
        "A = np.random.randint(0,5,(8,3))\n",
        "B = np.random.randint(0,5,(2,2))\n",
        "C = (A[..., np.newaxis, np.newaxis] == B)\n",
        "rows = np.where(C.any((3,1)).all(1))[0]\n",
        "print(rows)"
      ]
    },
    {
      "cell_type": "markdown",
      "metadata": {
        "id": "FsLx8d-SPFMo"
      },
      "source": [
        "#### 94. Considering a 10x3 matrix, extract rows with unequal values (e.g. \\[2,2,3\\]) (★★★)"
      ]
    },
    {
      "cell_type": "code",
      "execution_count": 16,
      "metadata": {
        "id": "Rod-Mbe-PFMp",
        "colab": {
          "base_uri": "https://localhost:8080/"
        },
        "outputId": "0f7075c9-40c3-4926-de1a-db9fb49e4ea4"
      },
      "outputs": [
        {
          "output_type": "stream",
          "name": "stdout",
          "text": [
            "[[2 0 2]\n",
            " [3 4 2]\n",
            " [4 3 0]\n",
            " [0 4 0]\n",
            " [1 2 1]\n",
            " [0 3 1]\n",
            " [4 4 2]\n",
            " [0 0 3]\n",
            " [4 1 2]\n",
            " [3 2 4]]\n",
            "[[2 0 2]\n",
            " [3 4 2]\n",
            " [4 3 0]\n",
            " [0 4 0]\n",
            " [1 2 1]\n",
            " [0 3 1]\n",
            " [4 4 2]\n",
            " [0 0 3]\n",
            " [4 1 2]\n",
            " [3 2 4]]\n",
            "[[2 0 2]\n",
            " [3 4 2]\n",
            " [4 3 0]\n",
            " [0 4 0]\n",
            " [1 2 1]\n",
            " [0 3 1]\n",
            " [4 4 2]\n",
            " [0 0 3]\n",
            " [4 1 2]\n",
            " [3 2 4]]\n"
          ]
        }
      ],
      "source": [
        "Z = np.random.randint(0,5,(10,3))\n",
        "print(Z)\n",
        "E = np.all(Z[:,1:] == Z[:,:-1], axis=1)\n",
        "U = Z[~E]\n",
        "print(U)\n",
        "U = Z[Z.max(axis=1) != Z.min(axis=1),:]\n",
        "print(U)"
      ]
    },
    {
      "cell_type": "markdown",
      "metadata": {
        "id": "O918Btr3PFMp"
      },
      "source": [
        "#### 95. Convert a vector of ints into a matrix binary representation (★★★) \n",
        "(**hint**: np.unpackbits)"
      ]
    },
    {
      "cell_type": "code",
      "execution_count": 17,
      "metadata": {
        "id": "jq_tuZGOPFMp",
        "colab": {
          "base_uri": "https://localhost:8080/"
        },
        "outputId": "fe062e83-3fbf-402e-b848-2327228c3ec0"
      },
      "outputs": [
        {
          "output_type": "stream",
          "name": "stdout",
          "text": [
            "[[0 0 0 0 0 0 0 0]\n",
            " [0 0 0 0 0 0 0 1]\n",
            " [0 0 0 0 0 0 1 0]\n",
            " [0 0 0 0 0 0 1 1]\n",
            " [0 0 0 0 1 1 1 1]\n",
            " [0 0 0 1 0 0 0 0]\n",
            " [0 0 1 0 0 0 0 0]\n",
            " [0 1 0 0 0 0 0 0]\n",
            " [1 0 0 0 0 0 0 0]]\n"
          ]
        }
      ],
      "source": [
        "I = np.array([0, 1, 2, 3, 15, 16, 32, 64, 128], dtype=np.uint8)\n",
        "print(np.unpackbits(I[:, np.newaxis], axis=1))"
      ]
    },
    {
      "cell_type": "markdown",
      "metadata": {
        "id": "SVAqw2N9PFMp"
      },
      "source": [
        "#### 96. Given a two dimensional array, how to extract unique rows? (★★★) \n",
        "(**hint**: np.ascontiguousarray)"
      ]
    },
    {
      "cell_type": "code",
      "execution_count": 18,
      "metadata": {
        "id": "dU7b9r-jPFMp",
        "colab": {
          "base_uri": "https://localhost:8080/"
        },
        "outputId": "2585871b-7fe4-47bd-c847-c24e00771501"
      },
      "outputs": [
        {
          "output_type": "stream",
          "name": "stdout",
          "text": [
            "[[0 0 0]\n",
            " [0 1 1]\n",
            " [1 0 0]\n",
            " [1 1 0]]\n"
          ]
        }
      ],
      "source": [
        "Z = np.random.randint(0,2,(6,3))\n",
        "T = np.ascontiguousarray(Z).view(np.dtype((np.void, Z.dtype.itemsize * Z.shape[1])))\n",
        "_, idx = np.unique(T, return_index=True)\n",
        "uZ = Z[idx]\n",
        "print(uZ)"
      ]
    },
    {
      "cell_type": "markdown",
      "metadata": {
        "id": "6uFY1HMCPFMp"
      },
      "source": [
        "#### 97. Considering 2 vectors A & B, write the einsum equivalent of inner, outer, sum, and mul function (★★★) \n",
        "(**hint**: np.einsum)"
      ]
    },
    {
      "cell_type": "code",
      "execution_count": 20,
      "metadata": {
        "id": "DhgAaKbJPFMp",
        "colab": {
          "base_uri": "https://localhost:8080/"
        },
        "outputId": "76e0df4c-c1ae-4750-d939-53ce312ddd3e"
      },
      "outputs": [
        {
          "output_type": "execute_result",
          "data": {
            "text/plain": [
              "array([[0.22505984, 0.05357308, 0.25644844, 0.20722566, 0.17552003,\n",
              "        0.05733044, 0.29561851, 0.07134095, 0.30336916, 0.07780703],\n",
              "       [0.32397604, 0.07711902, 0.36916025, 0.29830355, 0.25266295,\n",
              "        0.08252777, 0.42554599, 0.10269605, 0.43670313, 0.11200405],\n",
              "       [0.1884795 , 0.04486552, 0.21476631, 0.17354402, 0.14699169,\n",
              "        0.04801217, 0.24756984, 0.05974547, 0.25406072, 0.06516058],\n",
              "       [0.62914817, 0.14976196, 0.71689406, 0.57929324, 0.49066109,\n",
              "        0.16026555, 0.82639285, 0.19943152, 0.84805955, 0.21750726],\n",
              "       [0.49504558, 0.11784028, 0.56408848, 0.4558172 , 0.38607694,\n",
              "        0.12610503, 0.65024766, 0.1569228 , 0.66729611, 0.17114571],\n",
              "       [0.52183827, 0.12421799, 0.59461789, 0.48048679, 0.40697207,\n",
              "        0.13293005, 0.68544015, 0.16541572, 0.70341129, 0.1804084 ],\n",
              "       [0.1230397 , 0.02928828, 0.14019977, 0.11328979, 0.0959564 ,\n",
              "        0.03134242, 0.16161396, 0.03900193, 0.16585122, 0.04253692],\n",
              "       [0.62747481, 0.14936364, 0.71498732, 0.57775248, 0.48935607,\n",
              "        0.15983928, 0.82419488, 0.19890109, 0.84580394, 0.21692875],\n",
              "       [0.55084237, 0.13112211, 0.62766713, 0.50719255, 0.42959184,\n",
              "        0.14031838, 0.72353735, 0.17460964, 0.74250734, 0.19043561],\n",
              "       [0.30992074, 0.0737733 , 0.35314469, 0.28536201, 0.24170148,\n",
              "        0.07894741, 0.4070842 , 0.09824071, 0.4177573 , 0.10714489]])"
            ]
          },
          "metadata": {},
          "execution_count": 20
        }
      ],
      "source": [
        "A = np.random.uniform(0,1,10)\n",
        "B = np.random.uniform(0,1,10)\n",
        "np.einsum('i->', A)       \n",
        "np.einsum('i,i->i', A, B) \n",
        "np.einsum('i,i', A, B)    \n",
        "np.einsum('i,j->ij', A, B)    "
      ]
    },
    {
      "cell_type": "markdown",
      "metadata": {
        "id": "w0WqCEVcPFMp"
      },
      "source": [
        "#### 98. Considering a path described by two vectors (X,Y), how to sample it using equidistant samples (★★★)? \n",
        "(**hint**: np.cumsum, np.interp)"
      ]
    },
    {
      "cell_type": "code",
      "execution_count": 21,
      "metadata": {
        "collapsed": true,
        "id": "Jhxlc1XOPFMq"
      },
      "outputs": [],
      "source": [
        "phi = np.arange(0, 10*np.pi, 0.1)\n",
        "a = 1\n",
        "x = a*phi*np.cos(phi)\n",
        "y = a*phi*np.sin(phi)\n",
        "\n",
        "dr = (np.diff(x)**2 + np.diff(y)**2)**.5 \n",
        "r = np.zeros_like(x)\n",
        "r[1:] = np.cumsum(dr)                \n",
        "r_int = np.linspace(0, r.max(), 200) \n",
        "x_int = np.interp(r_int, r, x)       \n",
        "y_int = np.interp(r_int, r, y)"
      ]
    },
    {
      "cell_type": "markdown",
      "metadata": {
        "id": "CZrjoETnPFMq"
      },
      "source": [
        "#### 99. Given an integer n and a 2D array X, select from X the rows which can be interpreted as draws from a multinomial distribution with n degrees, i.e., the rows which only contain integers and which sum to n. (★★★) \n",
        "(**hint**: np.logical\\_and.reduce, np.mod)"
      ]
    },
    {
      "cell_type": "code",
      "execution_count": 22,
      "metadata": {
        "id": "ppIOybstPFMq",
        "colab": {
          "base_uri": "https://localhost:8080/"
        },
        "outputId": "8c02f0ac-a255-441d-9e7b-40eabdf4a890"
      },
      "outputs": [
        {
          "output_type": "stream",
          "name": "stdout",
          "text": [
            "[[2. 0. 1. 1.]]\n"
          ]
        }
      ],
      "source": [
        "X = np.asarray([[1.0, 0.0, 3.0, 8.0],\n",
        "                [2.0, 0.0, 1.0, 1.0],\n",
        "                [1.5, 2.5, 1.0, 0.0]])\n",
        "n = 4\n",
        "M = np.logical_and.reduce(np.mod(X, 1) == 0, axis=-1)\n",
        "M &= (X.sum(axis=-1) == n)\n",
        "print(X[M])"
      ]
    },
    {
      "cell_type": "markdown",
      "metadata": {
        "id": "M4_jidrvPFMq"
      },
      "source": [
        "#### 100. Compute bootstrapped 95% confidence intervals for the mean of a 1D array X (i.e., resample the elements of an array with replacement N times, compute the mean of each sample, and then compute percentiles over the means). (★★★) \n",
        "(**hint**: np.percentile)"
      ]
    },
    {
      "cell_type": "code",
      "execution_count": 23,
      "metadata": {
        "id": "tvqKkJG-PFMq",
        "colab": {
          "base_uri": "https://localhost:8080/"
        },
        "outputId": "74363080-25f8-45e8-cc21-f9923e9f9417"
      },
      "outputs": [
        {
          "output_type": "stream",
          "name": "stdout",
          "text": [
            "[-0.29037675  0.11262144]\n"
          ]
        }
      ],
      "source": [
        "X = np.random.randn(100) \n",
        "N = 1000 \n",
        "idx = np.random.randint(0, X.size, (N, X.size))\n",
        "means = X[idx].mean(axis=1)\n",
        "confint = np.percentile(means, [2.5, 97.5])\n",
        "print(confint)"
      ]
    },
    {
      "cell_type": "code",
      "source": [
        ""
      ],
      "metadata": {
        "id": "daPUa8uA0HvI"
      },
      "execution_count": null,
      "outputs": []
    }
  ],
  "metadata": {
    "kernelspec": {
      "display_name": "Python 3",
      "language": "python",
      "name": "python3"
    },
    "language_info": {
      "codemirror_mode": {
        "name": "ipython",
        "version": 3
      },
      "file_extension": ".py",
      "mimetype": "text/x-python",
      "name": "python",
      "nbconvert_exporter": "python",
      "pygments_lexer": "ipython3",
      "version": "3.8.3"
    },
    "colab": {
      "name": "Copy of Numpy_tasks.ipynb",
      "provenance": [],
      "collapsed_sections": [],
      "include_colab_link": true
    }
  },
  "nbformat": 4,
  "nbformat_minor": 0
}